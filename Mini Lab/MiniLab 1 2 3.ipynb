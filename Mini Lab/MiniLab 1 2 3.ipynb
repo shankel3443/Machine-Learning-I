{
 "cells": [
  {
   "cell_type": "markdown",
   "metadata": {},
   "source": [
    "#### Create Models (50 POINTS)\n",
    "Create a logistic regression model and a support vector machine model for the classification task involved with your dataset. Assess how well each model performs (use 80/20 training/testing split for your data). Adjust parameters of the models to make them more accurate. If your dataset size requires the use of stochastic gradient descent, then linear kernel only is fine to use. That is, the SGDClassifier is fine to use for optimizing logistic regression and linear support vector machines. For many problems, SGD will be required in order to train the SVM model in a reasonable timeframe. \n",
    "\n",
    "#### Model Advantages (10 POINTS)\n",
    "Discuss the advantages of each model for each classification task. Does one type of model offer superior performance over another in terms of prediction accuracy? In terms of training time or efficiency? Explain in detail.\n",
    "\n",
    "#### Interpret Feature Importance (30 POINTS)\n",
    "Use the weights from logistic regression to interpret the importance of different features for the classification task. Explain your interpretation in detail. Why do you think some variables are more important?\n",
    "\n",
    "#### Interpret Support Vectors (10 POINTS)\n",
    "Look at the chosen support vectors for the classification task. Do these provide any insight into the data? Explain. If you used stochastic gradient descent (and therefore did not explicitly solve for support vectors), try subsampling your data to train the SVC model— then analyze the support vectors from the subsampled dataset."
   ]
  },
  {
   "cell_type": "markdown",
   "metadata": {},
   "source": [
    "# Mini-Lab\n",
    "\n",
    "#### Alan Abadzic, John Girard, Eric Laigaie, Garrett Shankel"
   ]
  },
  {
   "cell_type": "code",
   "execution_count": 87,
   "metadata": {},
   "outputs": [],
   "source": [
    "import numpy as np\n",
    "import pandas as pd\n",
    "\n",
    "df = pd.read_csv(\"NY_Listings_Validated.csv\")"
   ]
  },
  {
   "cell_type": "markdown",
   "metadata": {},
   "source": [
    "##### Data Load-In and Preprocessing"
   ]
  },
  {
   "cell_type": "code",
   "execution_count": 88,
   "metadata": {},
   "outputs": [],
   "source": [
    "# First, we need to create our classification column. Any rentals with a Review Scores Rating above 90 receive \"A\" (or 1),\n",
    "# else recieve \"Not A\" (or 0).\n",
    "\n",
    "def categorise(row):  \n",
    "    if row['Review Scores Rating'] > 89:\n",
    "        return 1\n",
    "    else:\n",
    "        return 0\n",
    "    return 'IDK'\n",
    "\n",
    "df['Grade'] = df.apply(lambda row: categorise(row), axis=1)"
   ]
  },
  {
   "cell_type": "code",
   "execution_count": 89,
   "metadata": {},
   "outputs": [],
   "source": [
    "# Filter to only useful columns\n",
    "data = df[['Host Response Rate', 'Host Is Superhost', 'Host total listings count', 'City', 'Room type',\n",
    "          'Accommodates', 'Bathrooms', 'Bedrooms', 'Price', 'Minimum nights', 'Maximum nights', 'Availability 365',\n",
    "          'Number of reviews', 'Reviews per month', 'Grade']]\n",
    "\n",
    "\n",
    "\n",
    "# One-hot Encode\n",
    "city_one_hot = pd.get_dummies(data['City'])\n",
    "room_one_hot = pd.get_dummies(data['Room type'])\n",
    "\n",
    "data = data.drop('City',axis = 1)\n",
    "data = data.drop('Room type',axis = 1)\n",
    "\n",
    "data = data.join(city_one_hot)\n",
    "data = data.join(room_one_hot)\n",
    "\n",
    "\n",
    "# Map boolean to integer\n",
    "data[\"Host Is Superhost\"] = data[\"Host Is Superhost\"].astype(int)\n",
    "\n",
    "\n",
    "\n",
    "# Scale Data\n",
    "from sklearn.preprocessing import MinMaxScaler\n",
    "scaler = MinMaxScaler()\n",
    "\n",
    "grade = data['Grade']\n",
    "to_scale = data.drop(\"Grade\", axis = 1)\n",
    "cols = to_scale.columns\n",
    "\n",
    "scaled = scaler.fit_transform(to_scale)\n",
    "\n",
    "data = pd.DataFrame(scaled, columns = cols)\n",
    "data['Grade'] = grade"
   ]
  },
  {
   "cell_type": "code",
   "execution_count": 90,
   "metadata": {},
   "outputs": [
    {
     "name": "stdout",
     "output_type": "stream",
     "text": [
      "Train: 35220, Test: 8805\n"
     ]
    }
   ],
   "source": [
    "# Split into 80/20 train/test split.\n",
    "from sklearn.model_selection import train_test_split\n",
    "\n",
    "train, test = train_test_split(data, test_size=0.2)\n",
    "\n",
    "print(\"Train: \" + str(len(train)) + \", Test: \" + str(len(test)))\n",
    "\n",
    "train_y = train['Grade']\n",
    "train_x = train.drop('Grade', axis=1)\n",
    "test_y = train['Grade']\n",
    "test_x = train.drop('Grade', axis=1)"
   ]
  },
  {
   "cell_type": "markdown",
   "metadata": {},
   "source": [
    "## Create Models\n",
    "\n",
    "#### Logistic Regression Testing"
   ]
  },
  {
   "cell_type": "code",
   "execution_count": 72,
   "metadata": {},
   "outputs": [
    {
     "name": "stdout",
     "output_type": "stream",
     "text": [
      "Testing different penalties:\n",
      "none: 71.67%, Time: 14.926925897598267 seconds\n",
      "l1: 71.67%, Time: 0.6340394020080566 seconds\n",
      "l2: 71.5%, Time: 0.5453207492828369 seconds\n",
      "elasticnet: 71.64%, Time: 0.6053166389465332 seconds\n",
      "\n",
      "\n",
      "Testing different C values with Elastic Net penalty:\n",
      "0.05: 70.24%, Time: 0.38519811630249023 seconds\n",
      "0.5: 71.56%, Time: 0.6578881740570068 seconds\n",
      "1: 71.64%, Time: 0.6598906517028809 seconds\n",
      "100: 71.67%, Time: 8.933096647262573 seconds\n"
     ]
    }
   ],
   "source": [
    "# Logistic Regression Model\n",
    "from sklearn import metrics as mt\n",
    "from sklearn.linear_model import LogisticRegression\n",
    "import time\n",
    "\n",
    "penalties = ['none', 'l1', 'l2', 'elasticnet']\n",
    "print(\"Testing different penalties:\")\n",
    "for penalty in penalties:\n",
    "    start = time.time()\n",
    "    if penalty == 'elasticnet':\n",
    "        clf = LogisticRegression(max_iter=1000, penalty=penalty, solver='saga', l1_ratio =0.5).fit(train_x, train_y)\n",
    "    else:\n",
    "        clf = LogisticRegression(max_iter=1000, penalty=penalty, solver='saga').fit(train_x, train_y)\n",
    "    end = time.time()\n",
    "    predictions = clf.predict(test_x)\n",
    "    acc = round((mt.accuracy_score(predictions, test_y)) * 100,2)\n",
    "    print(penalty + \": \" + str(acc) + '%, Time: ' + str(end - start) + ' seconds')\n",
    "\n",
    "print('\\n')\n",
    "Cs = [0.05, .5, 1, 100]\n",
    "print(\"Testing different C values with Elastic Net penalty:\")\n",
    "for c in Cs:\n",
    "    start = time.time()\n",
    "    clf = LogisticRegression(max_iter=1000, penalty='elasticnet', solver='saga', l1_ratio=0.5, C=c).fit(train_x, train_y)\n",
    "    end = time.time()\n",
    "    predictions = clf.predict(test_x)\n",
    "    acc = round((mt.accuracy_score(predictions, test_y)) * 100,2)\n",
    "    print(str(c) + \": \" + str(acc) + '%, Time: ' + str(end - start) + ' seconds')"
   ]
  },
  {
   "cell_type": "markdown",
   "metadata": {},
   "source": [
    "#### SVM Testing"
   ]
  },
  {
   "cell_type": "code",
   "execution_count": 16,
   "metadata": {},
   "outputs": [
    {
     "name": "stdout",
     "output_type": "stream",
     "text": [
      "Testing different kernels:\n",
      "rbf: 63.09%, Time: 71.14248633384705 seconds\n",
      "linear: 68.56%, Time: 45.71343541145325 seconds\n",
      "poly: 62.93%, Time: 46.47894787788391 seconds\n",
      "sigmoid: 63.21%, Time: 74.40014004707336 seconds\n"
     ]
    }
   ],
   "source": [
    "from sklearn.svm import SVC\n",
    "import time\n",
    "\n",
    "kernels = ['rbf', 'linear', 'poly', 'sigmoid']\n",
    "\n",
    "print(\"Testing different kernels:\")\n",
    "for kernel in kernels:\n",
    "    start = time.time()\n",
    "    svm_clf = SVC(C=0.5, kernel=kernel, degree=3, gamma='auto').fit(train_x, train_y)\n",
    "    end = time.time()\n",
    "    predictions = svm_clf.predict(test_x)\n",
    "    acc = str(round(mt.accuracy_score(predictions, test_y)*100, 2))\n",
    "    print(kernel + \": \" + acc + '%, Time: ' + str(end - start) + ' seconds')"
   ]
  },
  {
   "cell_type": "markdown",
   "metadata": {},
   "source": [
    "## Model Advantages\n",
    "\n",
    "Between the logistic regression (LR) and support vector machine (SVM) models, the superior technique is fairly easy to spot in this case. I'll break this down:\n",
    "\n",
    "##### Time:\n",
    "As you can see from the print outs above, most of the LR models are created within 1 second. That is a drastic improvement from the SVM, which takes at least 45 seconds. This allows us to test the LR parameters much more than the SVM ones.\n",
    "\n",
    "##### Accuracy:\n",
    "Given our classification problem, it appears that LR is consistently the more accurate model. The LR models all sit around 71% accuracy while the SVM models range from 63% to 69%. More exploration into the linear SVM model could yield similar results to the LR models, given the small difference in accuracy percentages.\n",
    "\n",
    "##### Future Suggestions:\n",
    "When given plenty of time, grid search cv could and should be used here to hypertune parameters. However, when we attempted it with the SVM model, we decided to abandon it after it ran for approximately 30 minutes with no final results."
   ]
  },
  {
   "cell_type": "markdown",
   "metadata": {},
   "source": [
    "## Interpret Feature Importance"
   ]
  },
  {
   "cell_type": "code",
   "execution_count": 91,
   "metadata": {},
   "outputs": [
    {
     "name": "stdout",
     "output_type": "stream",
     "text": [
      "Host total listings count has weight of -2.3864\n",
      "Minimum nights has weight of -1.6352\n",
      "Accommodates has weight of -1.1978\n",
      "Bedrooms has weight of -0.4108\n",
      "Bathrooms has weight of -0.3605\n",
      "Shared room has weight of -0.2307\n",
      "Price has weight of -0.177\n",
      "Staten Island has weight of -0.1285\n",
      "Bronx has weight of -0.0573\n",
      "Private room has weight of 0.0\n",
      "Queens has weight of 0.0\n",
      "Availability 365 has weight of 0.0378\n",
      "Manhattan has weight of 0.129\n",
      "Host Response Rate has weight of 0.2148\n",
      "Brooklyn has weight of 0.2959\n",
      "Number of reviews has weight of 0.5036\n",
      "Entire home/apt has weight of 0.5222\n",
      "Maximum nights has weight of 2.0058\n",
      "Host Is Superhost has weight of 2.1977\n",
      "Reviews per month has weight of 14.2292\n"
     ]
    }
   ],
   "source": [
    "clf = LogisticRegression(max_iter=1000, penalty='elasticnet', solver='saga', l1_ratio=0.5, C=100).fit(train_x, train_y)\n",
    "predictions = clf.predict(test_x)\n",
    "acc = round((mt.accuracy_score(predictions, test_y)) * 100,2)\n",
    "\n",
    "zip_vars = zip(clf.coef_.T,data.columns) # combine attributes\n",
    "zip_vars = sorted(zip_vars)\n",
    "for coef, name in zip_vars:\n",
    "    print(name, 'has weight of', round(coef[0],4))"
   ]
  },
  {
   "cell_type": "code",
   "execution_count": 92,
   "metadata": {},
   "outputs": [
    {
     "data": {
      "image/png": "[encoded data removed]",
      "text/plain": [
       "<Figure size 432x288 with 1 Axes>"
      ]
     },
     "metadata": {},
     "output_type": "display_data"
    }
   ],
   "source": [
    "from matplotlib import pyplot as plt\n",
    "%matplotlib inline\n",
    "plt.style.use('ggplot')\n",
    "\n",
    "\n",
    "weights = pd.Series(clf.coef_[0],index=data.columns[0:20])\n",
    "weights.plot(kind='bar')\n",
    "plt.title('Feature Importance')\n",
    "plt.show()"
   ]
  },
  {
   "cell_type": "markdown",
   "metadata": {},
   "source": [
    "#### Interpretation:\n",
    "I understand that these values shown above may cause some worry about variable scaling. However, the entire dataset used in the models was scaled before model creation. The most significant variables will be discussed below.\n",
    "\n",
    "##### Reviews per Month:\n",
    "The highest feature with the highest magnitude of importance - this indicates that when a rental has more reviews per month, it is much more likely to get an overall rating or 90 or above (and A). This makes sense! More reviews means more bookings, and more bookings are much more likely if the past reviews are high instead of low.\n",
    "\n",
    "##### Host is Superhost:\n",
    "This has a fairly significant positive value. Again, this makes sense, as superhosts are likely to be more invested in their rentals, leading to higher review scores.\n",
    "\n",
    "##### Maximum Nights:\n",
    "Some postulating here - a higher maximum nights value should give renters more flexibility. Additionally, if clients are spending longer amounts of time in a rental, the property owner may feel more motivated to keep it maintained.\n",
    "\n",
    "##### Host Total Listings Count:\n",
    "This is the most negative variable. A possible explanation is that property owners that manage large numbers of rentals likely have less time to take care of each individual one.\n",
    "\n",
    "##### City\n",
    "\n",
    "Brooklyn: 0.2959\n",
    "Manhattan: 0.129\n",
    "Queens: 0.00\n",
    "Bronx: -0.0573\n",
    "Staten Island: -0.1285\n",
    "\n",
    "These values check out from my very novice understanding of New York City. You could theorize that Brooklyn likely has larger rentals that skew a little cheaper than Manhattan. For Queens, Bronx, and Staten Island, these values almost correlate with distance to Manhattan.\n",
    "\n",
    "##### Room Type\n",
    "\n",
    "Entire Home / Apt: .5222\n",
    "Private Room: 0.0\n",
    "Shared Room: -0.2307\n",
    "\n",
    "These variables come accross exactly how we would expect. It makes complete sense that renters with a shared room would rate the Airbnbs lower than if they had a private room or entire rental to themselves."
   ]
  },
  {
   "cell_type": "markdown",
   "metadata": {},
   "source": [
    "### Interpret Support Vectors"
   ]
  },
  {
   "cell_type": "code",
   "execution_count": 64,
   "metadata": {},
   "outputs": [
    {
     "ename": "KeyError",
     "evalue": "\"Passing list-likes to .loc or [] with any missing labels is no longer supported. The following labels were missing: Int64Index([   17,    42,    60,    89,    91,\\n            ...\\n            35200, 35202, 35211, 35212, 35219],\\n           dtype='int64', length=5307). See https://pandas.pydata.org/pandas-docs/stable/user_guide/indexing.html#deprecate-loc-reindex-listlike\"",
     "output_type": "error",
     "traceback": [
      "\u001b[1;31m---------------------------------------------------------------------------\u001b[0m",
      "\u001b[1;31mKeyError\u001b[0m                                  Traceback (most recent call last)",
      "\u001b[1;32m<ipython-input-64-66808948de5f>\u001b[0m in \u001b[0;36m<module>\u001b[1;34m\u001b[0m\n\u001b[0;32m      6\u001b[0m \u001b[1;33m\u001b[0m\u001b[0m\n\u001b[0;32m      7\u001b[0m \u001b[0mdf_train\u001b[0m\u001b[1;33m[\u001b[0m\u001b[1;34m'Grade'\u001b[0m\u001b[1;33m]\u001b[0m \u001b[1;33m=\u001b[0m \u001b[0mtrain_y\u001b[0m\u001b[1;33m\u001b[0m\u001b[1;33m\u001b[0m\u001b[0m\n\u001b[1;32m----> 8\u001b[1;33m \u001b[0mdf_support\u001b[0m\u001b[1;33m[\u001b[0m\u001b[1;34m'Grade'\u001b[0m\u001b[1;33m]\u001b[0m \u001b[1;33m=\u001b[0m \u001b[0mtrain_y\u001b[0m\u001b[1;33m[\u001b[0m\u001b[0msvm_clf\u001b[0m\u001b[1;33m.\u001b[0m\u001b[0msupport_\u001b[0m\u001b[1;33m]\u001b[0m\u001b[1;33m\u001b[0m\u001b[1;33m\u001b[0m\u001b[0m\n\u001b[0m\u001b[0;32m      9\u001b[0m \u001b[1;33m\u001b[0m\u001b[0m\n\u001b[0;32m     10\u001b[0m \u001b[1;31m#df_support.info()\u001b[0m\u001b[1;33m\u001b[0m\u001b[1;33m\u001b[0m\u001b[1;33m\u001b[0m\u001b[0m\n",
      "\u001b[1;32m~\\anaconda3\\lib\\site-packages\\pandas\\core\\series.py\u001b[0m in \u001b[0;36m__getitem__\u001b[1;34m(self, key)\u001b[0m\n\u001b[0;32m    875\u001b[0m             \u001b[1;32mreturn\u001b[0m \u001b[0mself\u001b[0m\u001b[1;33m.\u001b[0m\u001b[0m_get_values\u001b[0m\u001b[1;33m(\u001b[0m\u001b[0mkey\u001b[0m\u001b[1;33m)\u001b[0m\u001b[1;33m\u001b[0m\u001b[1;33m\u001b[0m\u001b[0m\n\u001b[0;32m    876\u001b[0m \u001b[1;33m\u001b[0m\u001b[0m\n\u001b[1;32m--> 877\u001b[1;33m         \u001b[1;32mreturn\u001b[0m \u001b[0mself\u001b[0m\u001b[1;33m.\u001b[0m\u001b[0m_get_with\u001b[0m\u001b[1;33m(\u001b[0m\u001b[0mkey\u001b[0m\u001b[1;33m)\u001b[0m\u001b[1;33m\u001b[0m\u001b[1;33m\u001b[0m\u001b[0m\n\u001b[0m\u001b[0;32m    878\u001b[0m \u001b[1;33m\u001b[0m\u001b[0m\n\u001b[0;32m    879\u001b[0m     \u001b[1;32mdef\u001b[0m \u001b[0m_get_with\u001b[0m\u001b[1;33m(\u001b[0m\u001b[0mself\u001b[0m\u001b[1;33m,\u001b[0m \u001b[0mkey\u001b[0m\u001b[1;33m)\u001b[0m\u001b[1;33m:\u001b[0m\u001b[1;33m\u001b[0m\u001b[1;33m\u001b[0m\u001b[0m\n",
      "\u001b[1;32m~\\anaconda3\\lib\\site-packages\\pandas\\core\\series.py\u001b[0m in \u001b[0;36m_get_with\u001b[1;34m(self, key)\u001b[0m\n\u001b[0;32m    910\u001b[0m             \u001b[1;31m#  (i.e. self.iloc) or label-based (i.e. self.loc)\u001b[0m\u001b[1;33m\u001b[0m\u001b[1;33m\u001b[0m\u001b[1;33m\u001b[0m\u001b[0m\n\u001b[0;32m    911\u001b[0m             \u001b[1;32mif\u001b[0m \u001b[1;32mnot\u001b[0m \u001b[0mself\u001b[0m\u001b[1;33m.\u001b[0m\u001b[0mindex\u001b[0m\u001b[1;33m.\u001b[0m\u001b[0m_should_fallback_to_positional\u001b[0m\u001b[1;33m(\u001b[0m\u001b[1;33m)\u001b[0m\u001b[1;33m:\u001b[0m\u001b[1;33m\u001b[0m\u001b[1;33m\u001b[0m\u001b[0m\n\u001b[1;32m--> 912\u001b[1;33m                 \u001b[1;32mreturn\u001b[0m \u001b[0mself\u001b[0m\u001b[1;33m.\u001b[0m\u001b[0mloc\u001b[0m\u001b[1;33m[\u001b[0m\u001b[0mkey\u001b[0m\u001b[1;33m]\u001b[0m\u001b[1;33m\u001b[0m\u001b[1;33m\u001b[0m\u001b[0m\n\u001b[0m\u001b[0;32m    913\u001b[0m             \u001b[1;32melse\u001b[0m\u001b[1;33m:\u001b[0m\u001b[1;33m\u001b[0m\u001b[1;33m\u001b[0m\u001b[0m\n\u001b[0;32m    914\u001b[0m                 \u001b[1;32mreturn\u001b[0m \u001b[0mself\u001b[0m\u001b[1;33m.\u001b[0m\u001b[0miloc\u001b[0m\u001b[1;33m[\u001b[0m\u001b[0mkey\u001b[0m\u001b[1;33m]\u001b[0m\u001b[1;33m\u001b[0m\u001b[1;33m\u001b[0m\u001b[0m\n",
      "\u001b[1;32m~\\anaconda3\\lib\\site-packages\\pandas\\core\\indexing.py\u001b[0m in \u001b[0;36m__getitem__\u001b[1;34m(self, key)\u001b[0m\n\u001b[0;32m    893\u001b[0m \u001b[1;33m\u001b[0m\u001b[0m\n\u001b[0;32m    894\u001b[0m             \u001b[0mmaybe_callable\u001b[0m \u001b[1;33m=\u001b[0m \u001b[0mcom\u001b[0m\u001b[1;33m.\u001b[0m\u001b[0mapply_if_callable\u001b[0m\u001b[1;33m(\u001b[0m\u001b[0mkey\u001b[0m\u001b[1;33m,\u001b[0m \u001b[0mself\u001b[0m\u001b[1;33m.\u001b[0m\u001b[0mobj\u001b[0m\u001b[1;33m)\u001b[0m\u001b[1;33m\u001b[0m\u001b[1;33m\u001b[0m\u001b[0m\n\u001b[1;32m--> 895\u001b[1;33m             \u001b[1;32mreturn\u001b[0m \u001b[0mself\u001b[0m\u001b[1;33m.\u001b[0m\u001b[0m_getitem_axis\u001b[0m\u001b[1;33m(\u001b[0m\u001b[0mmaybe_callable\u001b[0m\u001b[1;33m,\u001b[0m \u001b[0maxis\u001b[0m\u001b[1;33m=\u001b[0m\u001b[0maxis\u001b[0m\u001b[1;33m)\u001b[0m\u001b[1;33m\u001b[0m\u001b[1;33m\u001b[0m\u001b[0m\n\u001b[0m\u001b[0;32m    896\u001b[0m \u001b[1;33m\u001b[0m\u001b[0m\n\u001b[0;32m    897\u001b[0m     \u001b[1;32mdef\u001b[0m \u001b[0m_is_scalar_access\u001b[0m\u001b[1;33m(\u001b[0m\u001b[0mself\u001b[0m\u001b[1;33m,\u001b[0m \u001b[0mkey\u001b[0m\u001b[1;33m:\u001b[0m \u001b[0mTuple\u001b[0m\u001b[1;33m)\u001b[0m\u001b[1;33m:\u001b[0m\u001b[1;33m\u001b[0m\u001b[1;33m\u001b[0m\u001b[0m\n",
      "\u001b[1;32m~\\anaconda3\\lib\\site-packages\\pandas\\core\\indexing.py\u001b[0m in \u001b[0;36m_getitem_axis\u001b[1;34m(self, key, axis)\u001b[0m\n\u001b[0;32m   1111\u001b[0m                     \u001b[1;32mraise\u001b[0m \u001b[0mValueError\u001b[0m\u001b[1;33m(\u001b[0m\u001b[1;34m\"Cannot index with multidimensional key\"\u001b[0m\u001b[1;33m)\u001b[0m\u001b[1;33m\u001b[0m\u001b[1;33m\u001b[0m\u001b[0m\n\u001b[0;32m   1112\u001b[0m \u001b[1;33m\u001b[0m\u001b[0m\n\u001b[1;32m-> 1113\u001b[1;33m                 \u001b[1;32mreturn\u001b[0m \u001b[0mself\u001b[0m\u001b[1;33m.\u001b[0m\u001b[0m_getitem_iterable\u001b[0m\u001b[1;33m(\u001b[0m\u001b[0mkey\u001b[0m\u001b[1;33m,\u001b[0m \u001b[0maxis\u001b[0m\u001b[1;33m=\u001b[0m\u001b[0maxis\u001b[0m\u001b[1;33m)\u001b[0m\u001b[1;33m\u001b[0m\u001b[1;33m\u001b[0m\u001b[0m\n\u001b[0m\u001b[0;32m   1114\u001b[0m \u001b[1;33m\u001b[0m\u001b[0m\n\u001b[0;32m   1115\u001b[0m             \u001b[1;31m# nested tuple slicing\u001b[0m\u001b[1;33m\u001b[0m\u001b[1;33m\u001b[0m\u001b[1;33m\u001b[0m\u001b[0m\n",
      "\u001b[1;32m~\\anaconda3\\lib\\site-packages\\pandas\\core\\indexing.py\u001b[0m in \u001b[0;36m_getitem_iterable\u001b[1;34m(self, key, axis)\u001b[0m\n\u001b[0;32m   1051\u001b[0m \u001b[1;33m\u001b[0m\u001b[0m\n\u001b[0;32m   1052\u001b[0m         \u001b[1;31m# A collection of keys\u001b[0m\u001b[1;33m\u001b[0m\u001b[1;33m\u001b[0m\u001b[1;33m\u001b[0m\u001b[0m\n\u001b[1;32m-> 1053\u001b[1;33m         \u001b[0mkeyarr\u001b[0m\u001b[1;33m,\u001b[0m \u001b[0mindexer\u001b[0m \u001b[1;33m=\u001b[0m \u001b[0mself\u001b[0m\u001b[1;33m.\u001b[0m\u001b[0m_get_listlike_indexer\u001b[0m\u001b[1;33m(\u001b[0m\u001b[0mkey\u001b[0m\u001b[1;33m,\u001b[0m \u001b[0maxis\u001b[0m\u001b[1;33m,\u001b[0m \u001b[0mraise_missing\u001b[0m\u001b[1;33m=\u001b[0m\u001b[1;32mFalse\u001b[0m\u001b[1;33m)\u001b[0m\u001b[1;33m\u001b[0m\u001b[1;33m\u001b[0m\u001b[0m\n\u001b[0m\u001b[0;32m   1054\u001b[0m         return self.obj._reindex_with_indexers(\n\u001b[0;32m   1055\u001b[0m             \u001b[1;33m{\u001b[0m\u001b[0maxis\u001b[0m\u001b[1;33m:\u001b[0m \u001b[1;33m[\u001b[0m\u001b[0mkeyarr\u001b[0m\u001b[1;33m,\u001b[0m \u001b[0mindexer\u001b[0m\u001b[1;33m]\u001b[0m\u001b[1;33m}\u001b[0m\u001b[1;33m,\u001b[0m \u001b[0mcopy\u001b[0m\u001b[1;33m=\u001b[0m\u001b[1;32mTrue\u001b[0m\u001b[1;33m,\u001b[0m \u001b[0mallow_dups\u001b[0m\u001b[1;33m=\u001b[0m\u001b[1;32mTrue\u001b[0m\u001b[1;33m\u001b[0m\u001b[1;33m\u001b[0m\u001b[0m\n",
      "\u001b[1;32m~\\anaconda3\\lib\\site-packages\\pandas\\core\\indexing.py\u001b[0m in \u001b[0;36m_get_listlike_indexer\u001b[1;34m(self, key, axis, raise_missing)\u001b[0m\n\u001b[0;32m   1264\u001b[0m             \u001b[0mkeyarr\u001b[0m\u001b[1;33m,\u001b[0m \u001b[0mindexer\u001b[0m\u001b[1;33m,\u001b[0m \u001b[0mnew_indexer\u001b[0m \u001b[1;33m=\u001b[0m \u001b[0max\u001b[0m\u001b[1;33m.\u001b[0m\u001b[0m_reindex_non_unique\u001b[0m\u001b[1;33m(\u001b[0m\u001b[0mkeyarr\u001b[0m\u001b[1;33m)\u001b[0m\u001b[1;33m\u001b[0m\u001b[1;33m\u001b[0m\u001b[0m\n\u001b[0;32m   1265\u001b[0m \u001b[1;33m\u001b[0m\u001b[0m\n\u001b[1;32m-> 1266\u001b[1;33m         \u001b[0mself\u001b[0m\u001b[1;33m.\u001b[0m\u001b[0m_validate_read_indexer\u001b[0m\u001b[1;33m(\u001b[0m\u001b[0mkeyarr\u001b[0m\u001b[1;33m,\u001b[0m \u001b[0mindexer\u001b[0m\u001b[1;33m,\u001b[0m \u001b[0maxis\u001b[0m\u001b[1;33m,\u001b[0m \u001b[0mraise_missing\u001b[0m\u001b[1;33m=\u001b[0m\u001b[0mraise_missing\u001b[0m\u001b[1;33m)\u001b[0m\u001b[1;33m\u001b[0m\u001b[1;33m\u001b[0m\u001b[0m\n\u001b[0m\u001b[0;32m   1267\u001b[0m         \u001b[1;32mreturn\u001b[0m \u001b[0mkeyarr\u001b[0m\u001b[1;33m,\u001b[0m \u001b[0mindexer\u001b[0m\u001b[1;33m\u001b[0m\u001b[1;33m\u001b[0m\u001b[0m\n\u001b[0;32m   1268\u001b[0m \u001b[1;33m\u001b[0m\u001b[0m\n",
      "\u001b[1;32m~\\anaconda3\\lib\\site-packages\\pandas\\core\\indexing.py\u001b[0m in \u001b[0;36m_validate_read_indexer\u001b[1;34m(self, key, indexer, axis, raise_missing)\u001b[0m\n\u001b[0;32m   1319\u001b[0m \u001b[1;33m\u001b[0m\u001b[0m\n\u001b[0;32m   1320\u001b[0m             \u001b[1;32mwith\u001b[0m \u001b[0moption_context\u001b[0m\u001b[1;33m(\u001b[0m\u001b[1;34m\"display.max_seq_items\"\u001b[0m\u001b[1;33m,\u001b[0m \u001b[1;36m10\u001b[0m\u001b[1;33m,\u001b[0m \u001b[1;34m\"display.width\"\u001b[0m\u001b[1;33m,\u001b[0m \u001b[1;36m80\u001b[0m\u001b[1;33m)\u001b[0m\u001b[1;33m:\u001b[0m\u001b[1;33m\u001b[0m\u001b[1;33m\u001b[0m\u001b[0m\n\u001b[1;32m-> 1321\u001b[1;33m                 raise KeyError(\n\u001b[0m\u001b[0;32m   1322\u001b[0m                     \u001b[1;34m\"Passing list-likes to .loc or [] with any missing labels \"\u001b[0m\u001b[1;33m\u001b[0m\u001b[1;33m\u001b[0m\u001b[0m\n\u001b[0;32m   1323\u001b[0m                     \u001b[1;34m\"is no longer supported. \"\u001b[0m\u001b[1;33m\u001b[0m\u001b[1;33m\u001b[0m\u001b[0m\n",
      "\u001b[1;31mKeyError\u001b[0m: \"Passing list-likes to .loc or [] with any missing labels is no longer supported. The following labels were missing: Int64Index([   17,    42,    60,    89,    91,\\n            ...\\n            35200, 35202, 35211, 35212, 35219],\\n           dtype='int64', length=5307). See https://pandas.pydata.org/pandas-docs/stable/user_guide/indexing.html#deprecate-loc-reindex-listlike\""
     ]
    }
   ],
   "source": [
    "#svm_clf = SVC(C=0.5, kernel='linear', degree=3, gamma='auto').fit(train_x, train_y)\n",
    "#predictions = svm_clf.predict(test_x)\n",
    "\n",
    "df_train = train_x\n",
    "df_support = df_train.iloc[svm_clf.support_,:]\n",
    "\n",
    "df_train['Grade'] = train_y\n",
    "df_support['Grade'] = train_y[svm_clf.support_]\n",
    "\n",
    "#df_support.info()\n",
    "\n",
    "#df_tested_on = df_imputed.iloc[train_indices].copy() # saved from above, the indices chosen for training\n",
    "# now get the support vectors from the trained model\n",
    "#df_support = df_tested_on.iloc[svm_clf.support_,:].copy()\n",
    "\n",
    "#df_support['Survived'] = y[svm_clf.support_] # add back in the 'Survived' Column to the pandas dataframe\n",
    "#df_imputed['Survived'] = y # also add it back in for the original data\n",
    "#df_support.info()"
   ]
  },
  {
   "cell_type": "code",
   "execution_count": 21,
   "metadata": {},
   "outputs": [],
   "source": [
    "# Grid search notes -- this takes a long time\n",
    "\n",
    "#from sklearn.model_selection import GridSearchCV\n",
    "#from sklearn.svm import SVC\n",
    "\n",
    "#print('going')\n",
    "#parameters = {'kernel':('linear', 'rbf'), 'C':[1, 10, 100], 'gamma':('scale', 'auto'), 'degree':[1,2,3]}\n",
    "#svm_clf = SVC()\n",
    "#clf = GridSearchCV(svm_clf, parameters)\n",
    "#clf.fit(train_x, train_y)"
   ]
  }
 ],
 "metadata": {
  "kernelspec": {
   "display_name": "Python 3",
   "language": "python",
   "name": "python3"
  },
  "language_info": {
   "codemirror_mode": {
    "name": "ipython",
    "version": 3
   },
   "file_extension": ".py",
   "mimetype": "text/x-python",
   "name": "python",
   "nbconvert_exporter": "python",
   "pygments_lexer": "ipython3",
   "version": "3.8.5"
  }
 },
 "nbformat": 4,
 "nbformat_minor": 4
}
