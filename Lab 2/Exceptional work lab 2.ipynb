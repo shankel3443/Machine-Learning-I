{
 "cells": [
  {
   "cell_type": "markdown",
   "id": "ec46494d",
   "metadata": {},
   "source": [
    "## Exceptional Work\n",
    "In the above section above we used 10-fold cross validation gridsearch in our models for Grade and Price. Grid Search is used for most paramaters in ML problems. Using gridsearch we are able to automatically run through parameters that hypertune our model without having interference between iteration. Values such as ammenities cannot be calcualted easily, so using this function let us quantify a lot of columns within our data. Being able to put this into our models really strengthened our results in the end which are included up above in the model evaluation for part 3. We feel that our ability to classify the Grade and Price is more robust utilizing a grid search.\n"
   ]
  }
 ],
 "metadata": {
  "kernelspec": {
   "display_name": "Python 3 (ipykernel)",
   "language": "python",
   "name": "python3"
  },
  "language_info": {
   "codemirror_mode": {
    "name": "ipython",
    "version": 3
   },
   "file_extension": ".py",
   "mimetype": "text/x-python",
   "name": "python",
   "nbconvert_exporter": "python",
   "pygments_lexer": "ipython3",
   "version": "3.8.13"
  }
 },
 "nbformat": 4,
 "nbformat_minor": 5
}
