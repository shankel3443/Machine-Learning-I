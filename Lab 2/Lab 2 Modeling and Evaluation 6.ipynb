{
 "cells": [
  {
   "cell_type": "markdown",
   "id": "8e024b45",
   "metadata": {},
   "source": [
    "### Attribute Evaluation for Decision Tree Model When Applied to Grade\n",
    "First we will look at the attributes that played the largest role in determining Grade. We will base our evaluation off of the feature importance from the decision tree model as shown below."
   ]
  },
  {
   "cell_type": "code",
   "execution_count": null,
   "id": "be7114c5",
   "metadata": {},
   "outputs": [],
   "source": [
    "import matplotlib.pyplot as plt\n",
    "\n",
    "train, test = train_test_split(data, test_size=0.2)\n",
    "train_y = train['Grade']\n",
    "train_x = train.drop('Grade', axis=1)\n",
    "test_y = train['Grade']\n",
    "test_x = train.drop('Grade', axis=1)\n",
    "\n",
    "# Which attributes are the most important for the Decision Tree classifier for Grade\n",
    "dt_clf = DecisionTreeClassifier(max_depth = 5, min_samples_split = 5, splitter = 'best')\n",
    "dt_clf.fit(train_x, train_y)\n",
    "imp = dt_clf.feature_importances_\n",
    "\n",
    "plt.bar(train_x.columns,imp)\n",
    "plt.xticks(rotation=90)\n",
    "\n",
    "plt.show()"
   ]
  },
  {
   "cell_type": "markdown",
   "id": "679d2e3d",
   "metadata": {},
   "source": [
    "***Reviews per Month:***\n",
    "The highest feature with the highest magnitude of importance - this indicates that when a rental has more reviews per month, it is much more likely to get an overall rating or 90 or above (and A). This makes sense! More reviews means more bookings, and more bookings are much more likely if the past reviews are high instead of low.\n",
    "\n",
    "***Total Reviews:***\n",
    "This would go in line with Reviews per Month. The greater the number of positive reviews that a listing has then a greater number of bookings.\n",
    "\n",
    "***Host is Superhost:***\n",
    "This has a fairly significant positive value. Again, this makes sense, as superhosts are likely to be more invested in their rentals, leading to higher review scores.\n",
    "\n",
    "***Minimumn Nights:***\n",
    "Some postulating here - a lower minimum nights value should give renters more flexibility. Making it easier for renters to book a short weekend stay. A lower miniumn night value would also make it possible for more renters to occupy the space in a short time period leading to a higher number of reviews per month.\n",
    "\n",
    "***Host Total Listings Count:***\n",
    "This is the most negative variable. A possible explanation is that property owners that manage large numbers of rentals likely have less time to take care of each individual one."
   ]
  },
  {
   "cell_type": "markdown",
   "id": "5ecebcd4",
   "metadata": {},
   "source": [
    "### Attribute Evaluation for Logistic Regression Model When Predicting Price\n",
    "Next, we will look at the attributes that played the largest role in determining Price. We will base our evaluation off of the coefficients in the linear regression model as shown below."
   ]
  },
  {
   "cell_type": "code",
   "execution_count": null,
   "id": "6c2b4076",
   "metadata": {},
   "outputs": [],
   "source": [
    "data['Price'] = df['Price']\n",
    "train, test = train_test_split(data, test_size=0.2)\n",
    "train_y = train['Price']\n",
    "train_x = train.drop('Price', axis=1)\n",
    "test_y = train['Price']\n",
    "test_x = train.drop('Price', axis=1)\n",
    "\n",
    "linr_clf = LinearRegression(fit_intercept = 'False')\n",
    "linr_clf.fit(train_x, train_y)\n",
    "weights = linr_clf.coef_.ravel()\n",
    "feature_names = train_x.columns.values\n",
    "linreg_ft_imp_df = pd.DataFrame({'feature_names':feature_names, 'weights':weights, 'absolute_weights': np.abs(weights)})\n",
    "linreg_ft_imp_df.sort_values(by='absolute_weights', inplace=True, ascending=False )\n",
    "%matplotlib inline\n",
    "\n",
    "plt.style.use('ggplot')\n",
    "\n",
    "wt_plt_df = linreg_ft_imp_df.head(75)\n",
    "\n",
    "weights = pd.Series(wt_plt_df['weights'].values,index=wt_plt_df['feature_names'])"
   ]
  },
  {
   "cell_type": "code",
   "execution_count": null,
   "id": "db2316df",
   "metadata": {},
   "outputs": [],
   "source": [
    "weights_2 = weights[abs(weights) < 1000]\n",
    "ax = weights_2.plot(kind='bar', figsize=(20,8))\n",
    "\n",
    "ax.set_title(\"Continuous Feature correlation\")\n",
    "ax.set_ylabel(\"Coefficient Magnitude\\n(z-score)\")\n",
    "ax.set_xlabel(\"Feature Names\")\n",
    "plt.show()"
   ]
  },
  {
   "cell_type": "markdown",
   "id": "6afeb39f",
   "metadata": {},
   "source": [
    "***Bedroom***\n",
    "This one makes sense in that the more bedrooms a listing offers the more expensive it will be. More bedrooms, in most cases, will equate to more size. Therefore a larger listing meaning higher upkeep, mortgage, and tax costs that need to be rolled into the rental cost.\n",
    "\n",
    "***Bathroom***\n",
    "This one also follows the same logic as bedrooms. The more bathrooms a listing has the more likely it is to be larger. This all of the costs that are associated with a building.\n",
    "\n",
    "***Minimum Nights***\n",
    "Increasing minimum nights decreases the cost of the rental. This one makes sense in that longer stays are typically partnered with discounts in order to encourage renters. This is very similar to the way hotels manage longer stays. Staying for a week, month or year gets a renter a much lower rate on their room.\n",
    "\n",
    "***Accomodates***\n",
    "Accomodates also falls into the same reasoning that bedrooms and bathrooms does. However, accomadets can also catch things like pullout couches in the living room or possibly loft space. The more people that can be accomodated in a listing the more likely it is for the listing to be large.\n",
    "\n",
    "***Reviews per Month***\n",
    "As reviews per month increases the price decreases. This is likely due to the fact that cheaper listings are more likely to be rented more often. Meaning more chances for reviews.\n",
    "\n",
    "***Host total listings count***\n",
    "This one likely has an effect on price due to the fact that hosts will multiple listings are looking to maximize profit. Having a greater number of listings would seem to indicate that whoever is hosting is attempting to make this a primary source of income.\n"
   ]
  }
 ],
 "metadata": {
  "kernelspec": {
   "display_name": "Python 3 (ipykernel)",
   "language": "python",
   "name": "python3"
  },
  "language_info": {
   "codemirror_mode": {
    "name": "ipython",
    "version": 3
   },
   "file_extension": ".py",
   "mimetype": "text/x-python",
   "name": "python",
   "nbconvert_exporter": "python",
   "pygments_lexer": "ipython3",
   "version": "3.10.7"
  }
 },
 "nbformat": 4,
 "nbformat_minor": 5
}
