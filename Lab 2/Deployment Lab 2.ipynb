{
 "cells": [
  {
   "cell_type": "markdown",
   "id": "7c7f6715",
   "metadata": {},
   "source": [
    "## Deployment\n",
    "\n",
    "## End user value\n",
    "When using our models we could figure out a price for the listing that would attract potential renters. With the rising costs of Airbnb's lately, and people turning back to using hotels, the owners of the rentals will want to ensure that their listings are generating revenue and not being ignored due to bad pricing points. This will serve the owner of the property immensely, because having an extra mortgage that is not being subsidized by income from renters can prove to be quite perilous. \n",
    "\n",
    "For the renter, they will have security knowing that the pricing points that the Airbnb units are going for have been reasonably priced and within reason. \n",
    "\n",
    "## How to deploy this model within the application\n",
    "We feel that once we have a lock on what the pricing point could/should be, the lister of the rental would be able to select a price using a sliding scale(dragging along a line to select a price). Listers of properties could utilize this scale in a manner similar to this:\n",
    "\n",
    "A starting point on one side of the scale (left) where the price is lower so it would greatly appeal to users looking for a value listing.\n",
    "\n",
    "On the other side of the scale (right) a higher price point listed that would garner more profit to the lister at the possible expense of not attracting a tenant. Ultimately it will be up to the lister of the property to select a price point that appeals to potential renters and a price that makes fiscal sense, we are simply giving them a good and believable range to list their property at. \n",
    "\n",
    "If used propely, there could be an equilibrium met where the renter feels they are getting a fair price, and the lister feels that their property is fetching a fair market value.\n",
    "\n",
    "## What other data needs to be collected\n",
    "Since our model is pretty heavily aimed at price, I think a good data point that would need to be collected would be the neighborghood. The price of the listing would probably be closely correlated to the neighborhood. People will pay more/less to stay at a listing in certain neighborhoods, so our pricing model needs to be looked at in the confines of what neighborhood the listing is in. I.E accurate pricing within each neighborhood.\n",
    "\n",
    "One other big data point I think we should capture is how often listings are actually being used (the % of listings that are being used/the total amount of listings available). New York for example often has weekends where more people are staying in rental properties (Fashion Week, Tennis' US Open, NYC marathon, Super Bowl, etc..). Weekends like this are bound to capture more out of towners seeking temporary housing accomodations. Having an increase in demand will allow listers of properties to be able to charge more money for their listings.\n",
    "\n",
    "## How frequnetly should our data be updated\n",
    "Paying attention to real estate is always a very active endeavor. With the nature of real estate being what it is, I feel that our data would need to be updated daily. New listings tend to pop up on Airbnb daily and it is important to note what prices those new properties are being rented out at. Updating the data daily will also allow Airbnb to have a more accurate handle on the demand surges. Having a accurate pricing point during these demand increases will allow the lister to feel that they are not losing out on potential money."
   ]
  },
  {
   "cell_type": "code",
   "execution_count": null,
   "id": "f73eb13a",
   "metadata": {},
   "outputs": [],
   "source": []
  }
 ],
 "metadata": {
  "kernelspec": {
   "display_name": "Python 3 (ipykernel)",
   "language": "python",
   "name": "python3"
  },
  "language_info": {
   "codemirror_mode": {
    "name": "ipython",
    "version": 3
   },
   "file_extension": ".py",
   "mimetype": "text/x-python",
   "name": "python",
   "nbconvert_exporter": "python",
   "pygments_lexer": "ipython3",
   "version": "3.8.13"
  }
 },
 "nbformat": 4,
 "nbformat_minor": 5
}
