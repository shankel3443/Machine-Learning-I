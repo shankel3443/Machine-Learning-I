{
 "cells": [
  {
   "cell_type": "markdown",
   "metadata": {},
   "source": [
    "# Data Quality"
   ]
  },
  {
   "cell_type": "code",
   "execution_count": 3,
   "metadata": {},
   "outputs": [],
   "source": [
    "import pandas as pd\n",
    "import matplotlib.pyplot as plt\n",
    "import numpy as np\n",
    "\n",
    "df = pd.read_csv(\"NY_Listings.csv\", encoding='ISO-8859-1',low_memory=False)"
   ]
  },
  {
   "cell_type": "markdown",
   "metadata": {},
   "source": [
    "### Missing Values\n",
    "\n",
    "First, we need to examine all missing values in the dataset. Below is a complete run-through of missing values and the techniques used to clean up the dataset."
   ]
  },
  {
   "cell_type": "code",
   "execution_count": 4,
   "metadata": {},
   "outputs": [
    {
     "data": {
      "text/plain": [
       "75749"
      ]
     },
     "execution_count": 4,
     "metadata": {},
     "output_type": "execute_result"
    }
   ],
   "source": [
    "len(df)"
   ]
  },
  {
   "cell_type": "markdown",
   "metadata": {},
   "source": [
    "75,749 rows leaves us plenty of wiggle room. Down below, you'll find a summary of null values."
   ]
  },
  {
   "cell_type": "code",
   "execution_count": 5,
   "metadata": {},
   "outputs": [
    {
     "data": {
      "text/plain": [
       "Listing ID                         0\n",
       "Name                              31\n",
       "Host ID                            0\n",
       "Host Name                        232\n",
       "Host Response Rate             45118\n",
       "Host Is Superhost                  0\n",
       "Host total listings count        232\n",
       "Street                         31439\n",
       "City                               0\n",
       "Neighbourhood cleansed             0\n",
       "State                              0\n",
       "Country                            0\n",
       "latitude                           0\n",
       "longitude                          0\n",
       "Property type                      0\n",
       "Room type                          0\n",
       "Accommodates                   31439\n",
       "Bathrooms                      31581\n",
       "Bedrooms                       31439\n",
       "Amenities                      31721\n",
       "Price                              0\n",
       "Minimum nights                     0\n",
       "Maximum nights                 31439\n",
       "Availability 365                   0\n",
       "Calendar last scraped          31439\n",
       "Number of reviews                  0\n",
       "Last Review Date               16683\n",
       "Review Scores Rating               0\n",
       "Review Scores Accuracy             0\n",
       "Review Scores Cleanliness          0\n",
       "Review Scores Checkin              0\n",
       "Review Scores Communication        0\n",
       "Review Scores Location             0\n",
       "Review Scores Value                0\n",
       "Reviews per month                  0\n",
       "dtype: int64"
      ]
     },
     "execution_count": 5,
     "metadata": {},
     "output_type": "execute_result"
    }
   ],
   "source": [
    "df.isnull().sum()"
   ]
  },
  {
   "cell_type": "markdown",
   "metadata": {},
   "source": [
    "#### Removing unwanted columns\n",
    "\n",
    "As you can see above, there's a concerning amount of null values. However, some of these columns are not important for our goals. These include Name, Host Name, Calendar last scraped, and Last Review Date. These columns could provide some information, but overall, I'm okay to exclude them from any work we do - especially since the text columns won't give us anything unless we do some language processing.\n",
    "\n",
    "These columns will be entirely removed from this dataset."
   ]
  },
  {
   "cell_type": "code",
   "execution_count": 6,
   "metadata": {},
   "outputs": [
    {
     "data": {
      "text/plain": [
       "Listing ID                         0\n",
       "Host ID                            0\n",
       "Host Response Rate             45118\n",
       "Host Is Superhost                  0\n",
       "Host total listings count        232\n",
       "Street                         31439\n",
       "City                               0\n",
       "Neighbourhood cleansed             0\n",
       "State                              0\n",
       "Country                            0\n",
       "latitude                           0\n",
       "longitude                          0\n",
       "Property type                      0\n",
       "Room type                          0\n",
       "Accommodates                   31439\n",
       "Bathrooms                      31581\n",
       "Bedrooms                       31439\n",
       "Amenities                      31721\n",
       "Price                              0\n",
       "Minimum nights                     0\n",
       "Maximum nights                 31439\n",
       "Availability 365                   0\n",
       "Number of reviews                  0\n",
       "Review Scores Rating               0\n",
       "Review Scores Accuracy             0\n",
       "Review Scores Cleanliness          0\n",
       "Review Scores Checkin              0\n",
       "Review Scores Communication        0\n",
       "Review Scores Location             0\n",
       "Review Scores Value                0\n",
       "Reviews per month                  0\n",
       "dtype: int64"
      ]
     },
     "execution_count": 6,
     "metadata": {},
     "output_type": "execute_result"
    }
   ],
   "source": [
    "columnsToRemove = [\"Name\", \"Host Name\", \"Calendar last scraped\", \"Last Review Date\"]\n",
    "\n",
    "df2 = df.drop(columns = columnsToRemove, axis=1)\n",
    "\n",
    "df2.isnull().sum()"
   ]
  },
  {
   "cell_type": "markdown",
   "metadata": {},
   "source": [
    "#### Inspecting Rows with Multiple Columns Missing\n",
    "\n",
    "Here, we've narrowed down the nulls a good amount. Now, lets try removing the rows where Street is null. I have a suspicion that all the columns with 31,439 nulls are missing the same rows. We could try to impute these values, but I fear that columns like Accommodates and Bedrooms are too important to guess on."
   ]
  },
  {
   "cell_type": "code",
   "execution_count": 7,
   "metadata": {},
   "outputs": [
    {
     "data": {
      "text/plain": [
       "Listing ID                         0\n",
       "Host ID                            0\n",
       "Host Response Rate             13679\n",
       "Host Is Superhost                  0\n",
       "Host total listings count        232\n",
       "Street                             0\n",
       "City                               0\n",
       "Neighbourhood cleansed             0\n",
       "State                              0\n",
       "Country                            0\n",
       "latitude                           0\n",
       "longitude                          0\n",
       "Property type                      0\n",
       "Room type                          0\n",
       "Accommodates                       0\n",
       "Bathrooms                        142\n",
       "Bedrooms                           0\n",
       "Amenities                        282\n",
       "Price                              0\n",
       "Minimum nights                     0\n",
       "Maximum nights                     0\n",
       "Availability 365                   0\n",
       "Number of reviews                  0\n",
       "Review Scores Rating               0\n",
       "Review Scores Accuracy             0\n",
       "Review Scores Cleanliness          0\n",
       "Review Scores Checkin              0\n",
       "Review Scores Communication        0\n",
       "Review Scores Location             0\n",
       "Review Scores Value                0\n",
       "Reviews per month                  0\n",
       "dtype: int64"
      ]
     },
     "execution_count": 7,
     "metadata": {},
     "output_type": "execute_result"
    }
   ],
   "source": [
    "df3 = df2[df2['Street'].notnull()]\n",
    "\n",
    "df3.isnull().sum()"
   ]
  },
  {
   "cell_type": "code",
   "execution_count": 8,
   "metadata": {},
   "outputs": [
    {
     "data": {
      "text/plain": [
       "44310"
      ]
     },
     "execution_count": 8,
     "metadata": {},
     "output_type": "execute_result"
    }
   ],
   "source": [
    "len(df3)"
   ]
  },
  {
   "cell_type": "markdown",
   "metadata": {},
   "source": [
    "Above, we can see that removing Street eliminated many null values. After more investigation, we found that columns with Null Street values were actually empty rows with only zeroes and nulls. While this is simply a hypothesis, these rows may pertain to rentals that were originally listed on Airbnb by their host, but listing was abandoned before the listing was complete."
   ]
  },
  {
   "cell_type": "markdown",
   "metadata": {},
   "source": [
    "#### Last four columns\n",
    "Now that we're down to just four columns to look at, I'll take them one-by-one."
   ]
  },
  {
   "cell_type": "markdown",
   "metadata": {},
   "source": [
    "##### Bathrooms\n",
    "\n",
    "For Bathrooms, these 142 columns only represent .3% of the dataset. I think if we partition out by room type and property type, we can impute the means."
   ]
  },
  {
   "cell_type": "code",
   "execution_count": 9,
   "metadata": {},
   "outputs": [
    {
     "data": {
      "text/html": [
       "<div>\n",
       "<style scoped>\n",
       "    .dataframe tbody tr th:only-of-type {\n",
       "        vertical-align: middle;\n",
       "    }\n",
       "\n",
       "    .dataframe tbody tr th {\n",
       "        vertical-align: top;\n",
       "    }\n",
       "\n",
       "    .dataframe thead th {\n",
       "        text-align: right;\n",
       "    }\n",
       "</style>\n",
       "<table border=\"1\" class=\"dataframe\">\n",
       "  <thead>\n",
       "    <tr style=\"text-align: right;\">\n",
       "      <th></th>\n",
       "      <th></th>\n",
       "      <th>Bathrooms</th>\n",
       "    </tr>\n",
       "    <tr>\n",
       "      <th>Property type</th>\n",
       "      <th>Room type</th>\n",
       "      <th></th>\n",
       "    </tr>\n",
       "  </thead>\n",
       "  <tbody>\n",
       "    <tr>\n",
       "      <th rowspan=\"3\" valign=\"top\">Apartment</th>\n",
       "      <th>Entire home/apt</th>\n",
       "      <td>1.099828</td>\n",
       "    </tr>\n",
       "    <tr>\n",
       "      <th>Private room</th>\n",
       "      <td>1.096143</td>\n",
       "    </tr>\n",
       "    <tr>\n",
       "      <th>Shared room</th>\n",
       "      <td>1.082711</td>\n",
       "    </tr>\n",
       "    <tr>\n",
       "      <th rowspan=\"3\" valign=\"top\">Bed &amp; Breakfast</th>\n",
       "      <th>Entire home/apt</th>\n",
       "      <td>1.187500</td>\n",
       "    </tr>\n",
       "    <tr>\n",
       "      <th>Private room</th>\n",
       "      <td>1.182692</td>\n",
       "    </tr>\n",
       "    <tr>\n",
       "      <th>Shared room</th>\n",
       "      <td>1.000000</td>\n",
       "    </tr>\n",
       "    <tr>\n",
       "      <th rowspan=\"3\" valign=\"top\">House</th>\n",
       "      <th>Entire home/apt</th>\n",
       "      <td>1.646916</td>\n",
       "    </tr>\n",
       "    <tr>\n",
       "      <th>Private room</th>\n",
       "      <td>1.195214</td>\n",
       "    </tr>\n",
       "    <tr>\n",
       "      <th>Shared room</th>\n",
       "      <td>1.692708</td>\n",
       "    </tr>\n",
       "  </tbody>\n",
       "</table>\n",
       "</div>"
      ],
      "text/plain": [
       "                                 Bathrooms\n",
       "Property type   Room type                 \n",
       "Apartment       Entire home/apt   1.099828\n",
       "                Private room      1.096143\n",
       "                Shared room       1.082711\n",
       "Bed & Breakfast Entire home/apt   1.187500\n",
       "                Private room      1.182692\n",
       "                Shared room       1.000000\n",
       "House           Entire home/apt   1.646916\n",
       "                Private room      1.195214\n",
       "                Shared room       1.692708"
      ]
     },
     "execution_count": 9,
     "metadata": {},
     "output_type": "execute_result"
    }
   ],
   "source": [
    "bathroomsIncluded = df3[df3['Bathrooms'].notnull()]\n",
    "bathroomsMissing = df3[df3['Bathrooms'].isna()]\n",
    "\n",
    "df4 = df3[[\"Property type\", \"Room type\", \"Bathrooms\"]]\n",
    "df4 = df4[(df4[\"Property type\"].isin(bathroomsMissing[\"Property type\"].unique()))]\n",
    "df4.groupby(by=[\"Property type\", \"Room type\"]).mean()"
   ]
  },
  {
   "cell_type": "code",
   "execution_count": 10,
   "metadata": {},
   "outputs": [
    {
     "name": "stderr",
     "output_type": "stream",
     "text": [
      "/var/folders/cf/rbsmyhq573zb23n6kfxq533w0000gn/T/ipykernel_5624/3566909636.py:12: SettingWithCopyWarning: \n",
      "A value is trying to be set on a copy of a slice from a DataFrame.\n",
      "Try using .loc[row_indexer,col_indexer] = value instead\n",
      "\n",
      "See the caveats in the documentation: https://pandas.pydata.org/pandas-docs/stable/user_guide/indexing.html#returning-a-view-versus-a-copy\n",
      "  bathroomsOne.loc[:, \"Bathrooms\"] = 1\n",
      "/var/folders/cf/rbsmyhq573zb23n6kfxq533w0000gn/T/ipykernel_5624/3566909636.py:13: SettingWithCopyWarning: \n",
      "A value is trying to be set on a copy of a slice from a DataFrame.\n",
      "Try using .loc[row_indexer,col_indexer] = value instead\n",
      "\n",
      "See the caveats in the documentation: https://pandas.pydata.org/pandas-docs/stable/user_guide/indexing.html#returning-a-view-versus-a-copy\n",
      "  bathroomsTwo.loc[:, \"Bathrooms\"] = 2\n"
     ]
    }
   ],
   "source": [
    "# For these values, I feel comfortable assigning 1 to all groups except for House:Entire and House:Shared.\n",
    "# Those two groups will have 2 imputed.\n",
    "\n",
    "bathroomsOne = bathroomsMissing[(bathroomsMissing['Property type'].isin(['Apartment', 'Bed & Breakfast'])) | \n",
    "                                (bathroomsMissing['Property type'] == 'House') &\n",
    "                                (bathroomsMissing['Room type'] == 'Private room')]\n",
    "\n",
    "bathroomsTwo = bathroomsMissing[(bathroomsMissing['Property type'] == 'House') &\n",
    "                               (bathroomsMissing['Room type'] != 'Private room')]\n",
    "\n",
    "\n",
    "bathroomsOne.loc[:, \"Bathrooms\"] = 1\n",
    "bathroomsTwo.loc[:, \"Bathrooms\"] = 2\n",
    "\n",
    "df5 = pd.concat([bathroomsIncluded, bathroomsOne, bathroomsTwo], ignore_index=True, axis=0)\n",
    "\n",
    "#df5.isnull().sum()"
   ]
  },
  {
   "cell_type": "markdown",
   "metadata": {},
   "source": [
    "##### Amenities\n",
    "\n",
    "Since this column is formatted as a list of values, there isn't an easy process to impute these values. Since this is only .05% of the data, we will just remove these rows."
   ]
  },
  {
   "cell_type": "code",
   "execution_count": 11,
   "metadata": {},
   "outputs": [],
   "source": [
    "df6 = df5[df5['Amenities'].notnull()]\n",
    "#df6.isnull().sum()"
   ]
  },
  {
   "cell_type": "markdown",
   "metadata": {},
   "source": [
    "#### Host Response Rate\n",
    "\n",
    "I think this column is fairly important to predicting rating / price. Therefore, we can't just remove these rows. First, we can check for an overlap of hosts with included and missing values. For those that don't match - we will just impute the median."
   ]
  },
  {
   "cell_type": "code",
   "execution_count": 12,
   "metadata": {},
   "outputs": [
    {
     "data": {
      "text/html": [
       "<div>\n",
       "<style scoped>\n",
       "    .dataframe tbody tr th:only-of-type {\n",
       "        vertical-align: middle;\n",
       "    }\n",
       "\n",
       "    .dataframe tbody tr th {\n",
       "        vertical-align: top;\n",
       "    }\n",
       "\n",
       "    .dataframe thead th {\n",
       "        text-align: right;\n",
       "    }\n",
       "</style>\n",
       "<table border=\"1\" class=\"dataframe\">\n",
       "  <thead>\n",
       "    <tr style=\"text-align: right;\">\n",
       "      <th></th>\n",
       "      <th>Host ID</th>\n",
       "      <th>Host Response Rate_x</th>\n",
       "      <th>Host Response Rate_y</th>\n",
       "    </tr>\n",
       "  </thead>\n",
       "  <tbody>\n",
       "  </tbody>\n",
       "</table>\n",
       "</div>"
      ],
      "text/plain": [
       "Empty DataFrame\n",
       "Columns: [Host ID, Host Response Rate_x, Host Response Rate_y]\n",
       "Index: []"
      ]
     },
     "execution_count": 12,
     "metadata": {},
     "output_type": "execute_result"
    }
   ],
   "source": [
    "responseIncluded = df6[df6['Host Response Rate'].notnull()]\n",
    "responseMissing = df6[df6['Host Response Rate'].isna()]\n",
    "\n",
    "responseIncluded_small = responseIncluded[[\"Host ID\", \"Host Response Rate\"]]\n",
    "responseMissing_small = responseMissing[[\"Host ID\", \"Host Response Rate\"]]\n",
    "\n",
    "responseMatches = pd.merge(left = responseIncluded_small, right = responseMissing_small, on=\"Host ID\", how=\"inner\")\n",
    "\n",
    "responseMatches"
   ]
  },
  {
   "cell_type": "code",
   "execution_count": 13,
   "metadata": {},
   "outputs": [
    {
     "name": "stderr",
     "output_type": "stream",
     "text": [
      "/var/folders/cf/rbsmyhq573zb23n6kfxq533w0000gn/T/ipykernel_5624/3361907540.py:1: SettingWithCopyWarning: \n",
      "A value is trying to be set on a copy of a slice from a DataFrame.\n",
      "Try using .loc[row_indexer,col_indexer] = value instead\n",
      "\n",
      "See the caveats in the documentation: https://pandas.pydata.org/pandas-docs/stable/user_guide/indexing.html#returning-a-view-versus-a-copy\n",
      "  responseMissing.loc[:, \"Host Response Rate\"] = responseIncluded[\"Host Response Rate\"].median()\n"
     ]
    }
   ],
   "source": [
    "responseMissing.loc[:, \"Host Response Rate\"] = responseIncluded[\"Host Response Rate\"].median()\n",
    "\n",
    "df7 = pd.concat([responseIncluded, responseMissing], ignore_index=True, axis=0)\n",
    "\n",
    "#df7.isnull().sum()"
   ]
  },
  {
   "cell_type": "markdown",
   "metadata": {},
   "source": [
    "#### Host total listings count\n",
    "\n",
    "We will handle this column the same way we handled Host Response Rate. Check for matches and impute the mean for those that do not match."
   ]
  },
  {
   "cell_type": "code",
   "execution_count": 14,
   "metadata": {},
   "outputs": [
    {
     "data": {
      "text/html": [
       "<div>\n",
       "<style scoped>\n",
       "    .dataframe tbody tr th:only-of-type {\n",
       "        vertical-align: middle;\n",
       "    }\n",
       "\n",
       "    .dataframe tbody tr th {\n",
       "        vertical-align: top;\n",
       "    }\n",
       "\n",
       "    .dataframe thead th {\n",
       "        text-align: right;\n",
       "    }\n",
       "</style>\n",
       "<table border=\"1\" class=\"dataframe\">\n",
       "  <thead>\n",
       "    <tr style=\"text-align: right;\">\n",
       "      <th></th>\n",
       "      <th>Host ID</th>\n",
       "      <th>Host total listings count_x</th>\n",
       "      <th>Host total listings count_y</th>\n",
       "    </tr>\n",
       "  </thead>\n",
       "  <tbody>\n",
       "  </tbody>\n",
       "</table>\n",
       "</div>"
      ],
      "text/plain": [
       "Empty DataFrame\n",
       "Columns: [Host ID, Host total listings count_x, Host total listings count_y]\n",
       "Index: []"
      ]
     },
     "execution_count": 14,
     "metadata": {},
     "output_type": "execute_result"
    }
   ],
   "source": [
    "listingsIncluded = df7[df7['Host total listings count'].notnull()]\n",
    "listingsMissing = df7[df7['Host total listings count'].isna()]\n",
    "\n",
    "listingsIncluded_small = listingsIncluded[[\"Host ID\", \"Host total listings count\"]]\n",
    "listingsMissing_small = listingsMissing[[\"Host ID\", \"Host total listings count\"]]\n",
    "\n",
    "listingsMatches = pd.merge(left = listingsIncluded_small, right = listingsMissing_small, on=\"Host ID\", how=\"inner\")\n",
    "\n",
    "listingsMatches"
   ]
  },
  {
   "cell_type": "code",
   "execution_count": 15,
   "metadata": {},
   "outputs": [
    {
     "name": "stderr",
     "output_type": "stream",
     "text": [
      "/var/folders/cf/rbsmyhq573zb23n6kfxq533w0000gn/T/ipykernel_5624/3523799667.py:1: SettingWithCopyWarning: \n",
      "A value is trying to be set on a copy of a slice from a DataFrame.\n",
      "Try using .loc[row_indexer,col_indexer] = value instead\n",
      "\n",
      "See the caveats in the documentation: https://pandas.pydata.org/pandas-docs/stable/user_guide/indexing.html#returning-a-view-versus-a-copy\n",
      "  listingsMissing.loc[:, \"Host total listings count\"] = listingsIncluded[\"Host total listings count\"].median()\n"
     ]
    }
   ],
   "source": [
    "listingsMissing.loc[:, \"Host total listings count\"] = listingsIncluded[\"Host total listings count\"].median()\n",
    "\n",
    "df8 = pd.concat([listingsIncluded, listingsMissing], ignore_index=True, axis=0)\n",
    "\n",
    "#df8.isnull().sum()"
   ]
  },
  {
   "cell_type": "code",
   "execution_count": 16,
   "metadata": {},
   "outputs": [
    {
     "name": "stdout",
     "output_type": "stream",
     "text": [
      "Number of rows:  44028\n"
     ]
    },
    {
     "data": {
      "text/plain": [
       "Listing ID                     0\n",
       "Host ID                        0\n",
       "Host Response Rate             0\n",
       "Host Is Superhost              0\n",
       "Host total listings count      0\n",
       "Street                         0\n",
       "City                           0\n",
       "Neighbourhood cleansed         0\n",
       "State                          0\n",
       "Country                        0\n",
       "latitude                       0\n",
       "longitude                      0\n",
       "Property type                  0\n",
       "Room type                      0\n",
       "Accommodates                   0\n",
       "Bathrooms                      0\n",
       "Bedrooms                       0\n",
       "Amenities                      0\n",
       "Price                          0\n",
       "Minimum nights                 0\n",
       "Maximum nights                 0\n",
       "Availability 365               0\n",
       "Number of reviews              0\n",
       "Review Scores Rating           0\n",
       "Review Scores Accuracy         0\n",
       "Review Scores Cleanliness      0\n",
       "Review Scores Checkin          0\n",
       "Review Scores Communication    0\n",
       "Review Scores Location         0\n",
       "Review Scores Value            0\n",
       "Reviews per month              0\n",
       "dtype: int64"
      ]
     },
     "execution_count": 16,
     "metadata": {},
     "output_type": "execute_result"
    }
   ],
   "source": [
    "print(\"Number of rows: \", str(len(df8)))\n",
    "df8.isnull().sum()"
   ]
  },
  {
   "cell_type": "markdown",
   "metadata": {},
   "source": [
    "#### Finalizing Null Values\n",
    "\n",
    "The output above shows that the dataset has no null values anymore and remains at 44,028 rows."
   ]
  },
  {
   "cell_type": "markdown",
   "metadata": {},
   "source": [
    "### Outlier Values\n",
    "\n",
    "To detect outliers, we need to slim down our dataset to columns which would logically have outliers (numerical columns that are not IDs). Then, we need to classify those columns as normal or skewed."
   ]
  },
  {
   "cell_type": "code",
   "execution_count": 17,
   "metadata": {},
   "outputs": [
    {
     "data": {
      "text/plain": [
       "array([[<AxesSubplot:title={'center':'Host Response Rate'}>,\n",
       "        <AxesSubplot:title={'center':'Host total listings count'}>,\n",
       "        <AxesSubplot:title={'center':'Accommodates'}>,\n",
       "        <AxesSubplot:title={'center':'Bathrooms'}>],\n",
       "       [<AxesSubplot:title={'center':'Bedrooms'}>,\n",
       "        <AxesSubplot:title={'center':'Price'}>,\n",
       "        <AxesSubplot:title={'center':'Minimum nights'}>,\n",
       "        <AxesSubplot:title={'center':'Maximum nights'}>],\n",
       "       [<AxesSubplot:title={'center':'Availability 365'}>,\n",
       "        <AxesSubplot:title={'center':'Number of reviews'}>,\n",
       "        <AxesSubplot:title={'center':'Review Scores Rating'}>,\n",
       "        <AxesSubplot:title={'center':'Review Scores Accuracy'}>],\n",
       "       [<AxesSubplot:title={'center':'Review Scores Cleanliness'}>,\n",
       "        <AxesSubplot:title={'center':'Review Scores Checkin'}>,\n",
       "        <AxesSubplot:title={'center':'Review Scores Communication'}>,\n",
       "        <AxesSubplot:title={'center':'Review Scores Location'}>],\n",
       "       [<AxesSubplot:title={'center':'Review Scores Value'}>,\n",
       "        <AxesSubplot:title={'center':'Reviews per month'}>,\n",
       "        <AxesSubplot:>, <AxesSubplot:>]], dtype=object)"
      ]
     },
     "execution_count": 17,
     "metadata": {},
     "output_type": "execute_result"
    },
    {
     "data": {
      "image/png": "[encoded data removed]",
      "text/plain": [
       "<Figure size 1080x720 with 20 Axes>"
      ]
     },
     "metadata": {
      "needs_background": "light"
     },
     "output_type": "display_data"
    }
   ],
   "source": [
    "outlier_df = df8[['Host Response Rate','Host total listings count','Accommodates','Bathrooms', 'Bedrooms', 'Price',\n",
    "            'Minimum nights', 'Maximum nights','Availability 365', 'Number of reviews', 'Review Scores Rating',\n",
    "            'Review Scores Accuracy', 'Review Scores Cleanliness','Review Scores Checkin', 'Review Scores Communication',\n",
    "            'Review Scores Location', 'Review Scores Value', 'Reviews per month']]\n",
    "\n",
    "outlier_df.hist(bins=30, figsize=(15, 10))"
   ]
  },
  {
   "cell_type": "markdown",
   "metadata": {},
   "source": [
    "Looking at the above histograms, we can classify all columns as skewed. Therefore, we will now classify outliers as values outside the range (Q1 - 1.5 * IQR) , (Q3 + 1.5 * IQR)."
   ]
  },
  {
   "cell_type": "code",
   "execution_count": 18,
   "metadata": {},
   "outputs": [
    {
     "data": {
      "text/html": [
       "<div>\n",
       "<style scoped>\n",
       "    .dataframe tbody tr th:only-of-type {\n",
       "        vertical-align: middle;\n",
       "    }\n",
       "\n",
       "    .dataframe tbody tr th {\n",
       "        vertical-align: top;\n",
       "    }\n",
       "\n",
       "    .dataframe thead th {\n",
       "        text-align: right;\n",
       "    }\n",
       "</style>\n",
       "<table border=\"1\" class=\"dataframe\">\n",
       "  <thead>\n",
       "    <tr style=\"text-align: right;\">\n",
       "      <th></th>\n",
       "      <th>Column</th>\n",
       "      <th>Lower</th>\n",
       "      <th>Upper</th>\n",
       "      <th>Maximum</th>\n",
       "      <th>Outlier Count</th>\n",
       "    </tr>\n",
       "  </thead>\n",
       "  <tbody>\n",
       "    <tr>\n",
       "      <th>0</th>\n",
       "      <td>Host Response Rate</td>\n",
       "      <td>1.00000</td>\n",
       "      <td>1.00000</td>\n",
       "      <td>1.00000</td>\n",
       "      <td>7008</td>\n",
       "    </tr>\n",
       "    <tr>\n",
       "      <th>1</th>\n",
       "      <td>Host total listings count</td>\n",
       "      <td>0.00000</td>\n",
       "      <td>3.50000</td>\n",
       "      <td>979.00000</td>\n",
       "      <td>3964</td>\n",
       "    </tr>\n",
       "    <tr>\n",
       "      <th>2</th>\n",
       "      <td>Accommodates</td>\n",
       "      <td>0.00000</td>\n",
       "      <td>7.00000</td>\n",
       "      <td>16.00000</td>\n",
       "      <td>1285</td>\n",
       "    </tr>\n",
       "    <tr>\n",
       "      <th>3</th>\n",
       "      <td>Bathrooms</td>\n",
       "      <td>1.00000</td>\n",
       "      <td>1.00000</td>\n",
       "      <td>15.50000</td>\n",
       "      <td>6121</td>\n",
       "    </tr>\n",
       "    <tr>\n",
       "      <th>4</th>\n",
       "      <td>Bedrooms</td>\n",
       "      <td>1.00000</td>\n",
       "      <td>1.00000</td>\n",
       "      <td>14.00000</td>\n",
       "      <td>7849</td>\n",
       "    </tr>\n",
       "    <tr>\n",
       "      <th>5</th>\n",
       "      <td>Price</td>\n",
       "      <td>0.00000</td>\n",
       "      <td>326.50000</td>\n",
       "      <td>999.00000</td>\n",
       "      <td>2279</td>\n",
       "    </tr>\n",
       "    <tr>\n",
       "      <th>6</th>\n",
       "      <td>Minimum nights</td>\n",
       "      <td>0.00000</td>\n",
       "      <td>8.50000</td>\n",
       "      <td>1250.00000</td>\n",
       "      <td>2875</td>\n",
       "    </tr>\n",
       "    <tr>\n",
       "      <th>7</th>\n",
       "      <td>Maximum nights</td>\n",
       "      <td>0.00000</td>\n",
       "      <td>2769.00000</td>\n",
       "      <td>2147483647.00000</td>\n",
       "      <td>65</td>\n",
       "    </tr>\n",
       "    <tr>\n",
       "      <th>8</th>\n",
       "      <td>Availability 365</td>\n",
       "      <td>0.00000</td>\n",
       "      <td>695.00000</td>\n",
       "      <td>365.00000</td>\n",
       "      <td>0</td>\n",
       "    </tr>\n",
       "    <tr>\n",
       "      <th>9</th>\n",
       "      <td>Number of reviews</td>\n",
       "      <td>0.00000</td>\n",
       "      <td>48.50000</td>\n",
       "      <td>489.00000</td>\n",
       "      <td>5011</td>\n",
       "    </tr>\n",
       "    <tr>\n",
       "      <th>10</th>\n",
       "      <td>Review Scores Rating</td>\n",
       "      <td>50.50000</td>\n",
       "      <td>126.50000</td>\n",
       "      <td>38425.00000</td>\n",
       "      <td>10054</td>\n",
       "    </tr>\n",
       "    <tr>\n",
       "      <th>11</th>\n",
       "      <td>Review Scores Accuracy</td>\n",
       "      <td>5.00000</td>\n",
       "      <td>13.00000</td>\n",
       "      <td>10.00000</td>\n",
       "      <td>10125</td>\n",
       "    </tr>\n",
       "    <tr>\n",
       "      <th>12</th>\n",
       "      <td>Review Scores Cleanliness</td>\n",
       "      <td>2.50000</td>\n",
       "      <td>14.50000</td>\n",
       "      <td>10.00000</td>\n",
       "      <td>10064</td>\n",
       "    </tr>\n",
       "    <tr>\n",
       "      <th>13</th>\n",
       "      <td>Review Scores Checkin</td>\n",
       "      <td>5.00000</td>\n",
       "      <td>13.00000</td>\n",
       "      <td>10.00000</td>\n",
       "      <td>10167</td>\n",
       "    </tr>\n",
       "    <tr>\n",
       "      <th>14</th>\n",
       "      <td>Review Scores Communication</td>\n",
       "      <td>5.00000</td>\n",
       "      <td>13.00000</td>\n",
       "      <td>10.00000</td>\n",
       "      <td>10062</td>\n",
       "    </tr>\n",
       "    <tr>\n",
       "      <th>15</th>\n",
       "      <td>Review Scores Location</td>\n",
       "      <td>5.00000</td>\n",
       "      <td>13.00000</td>\n",
       "      <td>10.00000</td>\n",
       "      <td>10150</td>\n",
       "    </tr>\n",
       "    <tr>\n",
       "      <th>16</th>\n",
       "      <td>Review Scores Value</td>\n",
       "      <td>5.00000</td>\n",
       "      <td>13.00000</td>\n",
       "      <td>10.00000</td>\n",
       "      <td>10235</td>\n",
       "    </tr>\n",
       "    <tr>\n",
       "      <th>17</th>\n",
       "      <td>Reviews per month</td>\n",
       "      <td>0.00000</td>\n",
       "      <td>4.13500</td>\n",
       "      <td>24.53000</td>\n",
       "      <td>2456</td>\n",
       "    </tr>\n",
       "  </tbody>\n",
       "</table>\n",
       "</div>"
      ],
      "text/plain": [
       "                         Column    Lower      Upper          Maximum  \\\n",
       "0            Host Response Rate  1.00000    1.00000          1.00000   \n",
       "1     Host total listings count  0.00000    3.50000        979.00000   \n",
       "2                  Accommodates  0.00000    7.00000         16.00000   \n",
       "3                     Bathrooms  1.00000    1.00000         15.50000   \n",
       "4                      Bedrooms  1.00000    1.00000         14.00000   \n",
       "5                         Price  0.00000  326.50000        999.00000   \n",
       "6                Minimum nights  0.00000    8.50000       1250.00000   \n",
       "7                Maximum nights  0.00000 2769.00000 2147483647.00000   \n",
       "8              Availability 365  0.00000  695.00000        365.00000   \n",
       "9             Number of reviews  0.00000   48.50000        489.00000   \n",
       "10         Review Scores Rating 50.50000  126.50000      38425.00000   \n",
       "11       Review Scores Accuracy  5.00000   13.00000         10.00000   \n",
       "12    Review Scores Cleanliness  2.50000   14.50000         10.00000   \n",
       "13        Review Scores Checkin  5.00000   13.00000         10.00000   \n",
       "14  Review Scores Communication  5.00000   13.00000         10.00000   \n",
       "15       Review Scores Location  5.00000   13.00000         10.00000   \n",
       "16          Review Scores Value  5.00000   13.00000         10.00000   \n",
       "17            Reviews per month  0.00000    4.13500         24.53000   \n",
       "\n",
       "    Outlier Count  \n",
       "0            7008  \n",
       "1            3964  \n",
       "2            1285  \n",
       "3            6121  \n",
       "4            7849  \n",
       "5            2279  \n",
       "6            2875  \n",
       "7              65  \n",
       "8               0  \n",
       "9            5011  \n",
       "10          10054  \n",
       "11          10125  \n",
       "12          10064  \n",
       "13          10167  \n",
       "14          10062  \n",
       "15          10150  \n",
       "16          10235  \n",
       "17           2456  "
      ]
     },
     "execution_count": 18,
     "metadata": {},
     "output_type": "execute_result"
    }
   ],
   "source": [
    "lower_bounds = []\n",
    "upper_bounds = []\n",
    "maximums = []\n",
    "columns = outlier_df.columns\n",
    "outlier_count = []\n",
    "\n",
    "for col in outlier_df.columns:\n",
    "    Q3 = np.quantile(outlier_df[col], 0.75)\n",
    "    Q1 = np.quantile(outlier_df[col], 0.25)\n",
    "    Max = max(outlier_df[col])\n",
    "    IQR = Q3 - Q1\n",
    "    lower_range = Q1 - 1.5 * IQR\n",
    "    \n",
    "    if lower_range < 0:\n",
    "        lower_range = 0\n",
    "    \n",
    "    upper_range = Q3 + 1.5 * IQR\n",
    "    \n",
    "    outliers = len(outlier_df[(outlier_df[col] > upper_range) | (outlier_df[col] < lower_range)])\n",
    "    \n",
    "    lower_bounds.append(lower_range)\n",
    "    upper_bounds.append(upper_range)\n",
    "    maximums.append(Max)\n",
    "    outlier_count.append(outliers)\n",
    "    \n",
    "bounds_df = pd.DataFrame(list(zip(columns, lower_bounds, upper_bounds, maximums, outlier_count)), \n",
    "                         columns = [\"Column\",\"Lower\",\"Upper\", \"Maximum\", \"Outlier Count\"])\n",
    "\n",
    "pd.options.display.float_format = '{:.5f}'.format\n",
    "\n",
    "bounds_df"
   ]
  },
  {
   "cell_type": "markdown",
   "metadata": {},
   "source": [
    "#### Column-Specific Outlier Handling\n",
    "\n",
    "Now we have the lower and upper bounds of our outlier ranges. However, some columns might have outliers - but they're valid data points. Let's take them one by one.\n",
    "\n",
    "Accommodates: A maximum of 16 is certainly understandale and could very realistically be true. Although some of these rentals that claim to accommodate 16 people are oddly small, that value of 16 still isn't outlandish. Therefore, we'll keep those in.\n",
    "\n",
    "Bathrooms: Although the maximum of 15.5 is large, that Airbnb has 14 bedrooms. Therefore, it is likely this is just a very large rental.\n",
    "\n",
    "Bedrooms: The rental with 14 bathrooms is the same one discussed immediately above. Therefore, this value checks out.\n",
    "\n",
    "Price: Logically, a maximum of $999 makes sense. And since we don't quite have a way to validate or invalidate these prices, we will leave them in.\n",
    "\n",
    "Minimum nights: The ~3000 rows with a minimum nights value over 8.5 is quite daunting. It is likely that some of the higher values (above 50) are mistakes, as Airbnbs with a minimum night stay of 50 nights is unheard of. Therefore, we will cap the maximum value for this column at 10.\n",
    "\n",
    "Maximum nights: Similar to minimum nights, it is very likely that these higher values are mistakes. Since Airbnbs do allow very long stays, we will cap the maximum at 365.\n",
    "\n",
    "Availability 365: The logical maximum for this column is 365. This is the maximum for this column, so these values are valid.\n",
    "\n",
    "Number of reviews: The upper bound here of ~50 reviews is fairly low. In fact, the maximum of 489 reviews isn't outlandish either. Therefore, we can't classify any of these values as mistakes, so these values will remain.\n",
    "\n",
    "Review Scores Accuracy - Review Scores Value: The maximum here (according to the data dictionary) is 10. Therefore, these columns are valid.\n",
    "\n",
    "Reviews per month: While the maximum of 24.53 is impressive, it cannot be ruled out. Therefore, we will keep those values."
   ]
  },
  {
   "cell_type": "code",
   "execution_count": 19,
   "metadata": {},
   "outputs": [
    {
     "data": {
      "text/plain": [
       "1.00000    37020\n",
       "Name: Host Response Rate, dtype: int64"
      ]
     },
     "execution_count": 19,
     "metadata": {},
     "output_type": "execute_result"
    }
   ],
   "source": [
    "# Host Response Rate\n",
    "\n",
    "# The logical maximum for this value is 1. However, the \"outlier\" values are actually 1.0, as seen below.\n",
    "# Therefore, there are no valid outliers in this column.\n",
    "\n",
    "temp_df = df8[df8['Host Response Rate'] >= 1]\n",
    "\n",
    "temp_df['Host Response Rate'].value_counts()"
   ]
  },
  {
   "cell_type": "code",
   "execution_count": 20,
   "metadata": {},
   "outputs": [
    {
     "data": {
      "text/plain": [
       "array([  4.,  16.,   5.,   6.,  14.,  12.,   8.,   7., 149.,  15.,  10.,\n",
       "         9.,  11.,  22.,  47.,  13.,  28.,  17.,  23.,  19.,  20.,  31.,\n",
       "       296., 236.,  24.,  33.,  64., 113.,  39.,  54.,  42.,  94., 218.,\n",
       "        27., 648.,  18.,  38.,  56.,  49., 316., 979.,  35., 248.,  25.,\n",
       "       258.,  36.,  21.,  83.,  52., 159.,  85.,  41.])"
      ]
     },
     "execution_count": 20,
     "metadata": {},
     "output_type": "execute_result"
    }
   ],
   "source": [
    "# Host total listings count\n",
    "\n",
    "# Here, we can see that there are values in the 100's. However, we do not know if some of these listings being counted are\n",
    "# owned by this host in other areas. Therefore, this column is difficult to separate into outlier status.\n",
    "\n",
    "temp_df = df8[df8['Host total listings count'] > 3.50000]\n",
    "\n",
    "temp_df['Host total listings count'].unique()"
   ]
  },
  {
   "cell_type": "code",
   "execution_count": 21,
   "metadata": {},
   "outputs": [
    {
     "data": {
      "text/plain": [
       "38425    3\n",
       "Name: Review Scores Rating, dtype: int64"
      ]
     },
     "execution_count": 21,
     "metadata": {},
     "output_type": "execute_result"
    }
   ],
   "source": [
    "# Review Scores Rating\n",
    "\n",
    "# The maximum here (according to the data dictionary) is 100. Those that are above this threshold are wildy so, having\n",
    "# three occurrences of 38,425. These are likely mistakes, so these rows will be removed.\n",
    "\n",
    "temp_df = df8[df8['Review Scores Rating'] > 100]\n",
    "\n",
    "temp_df['Review Scores Rating'].value_counts()"
   ]
  },
  {
   "cell_type": "markdown",
   "metadata": {},
   "source": [
    "From the research above, we came away with a few transformations to make:\n",
    "    1. Cap minimum nights at 10.\n",
    "    2. Cap maximum nights at 365.\n",
    "    3. Remove three rows with review scores rating above 100"
   ]
  },
  {
   "cell_type": "code",
   "execution_count": 22,
   "metadata": {},
   "outputs": [
    {
     "name": "stdout",
     "output_type": "stream",
     "text": [
      "(44028, 31)\n",
      "(44025, 31)\n"
     ]
    }
   ],
   "source": [
    "df8.clip(upper=pd.Series({'Minimum nights': 10, 'Maximum nights': 365}), axis=1)\n",
    "print(df8.shape)\n",
    "df9 = df8[df8['Review Scores Rating'] <= 100]\n",
    "print(df9.shape)"
   ]
  },
  {
   "cell_type": "markdown",
   "metadata": {},
   "source": [
    "### Duplicate Values\n",
    "\n",
    "Almost all of the columns in this dataset would logically have duplicate values. The only column that should not have any duplicate values is Listing ID. Therefore, we will compare the length of the dataset with the amount of unique Listing IDs."
   ]
  },
  {
   "cell_type": "code",
   "execution_count": 23,
   "metadata": {},
   "outputs": [
    {
     "name": "stdout",
     "output_type": "stream",
     "text": [
      "Number of observations:  44025\n",
      "Number of unique Listing ID's:  44025\n"
     ]
    }
   ],
   "source": [
    "print(\"Number of observations: \", str(len(df9)))\n",
    "print(\"Number of unique Listing ID's: \", str(len(df9['Listing ID'].unique())))"
   ]
  },
  {
   "cell_type": "code",
   "execution_count": 24,
   "metadata": {},
   "outputs": [],
   "source": [
    "df9.to_csv(r\"C:\\Users\\ericl\\OneDrive\\Desktop\\SMU\\NY_Listings_Validated.csv\")"
   ]
  },
  {
   "cell_type": "markdown",
   "metadata": {},
   "source": [
    "# Simple Statistics"
   ]
  },
  {
   "cell_type": "markdown",
   "metadata": {},
   "source": [
    "#### Host Response Rate\n",
    "\n",
    "The response rate among hosts is surprisingly high. In fact, the Q1 value is 1. This means that at least 75% of the hosts in this dataset reply at the maximum rate. This is meaningful because using a variable that has no change for 75%+ of it's values might not be too useful when building a predictive model."
   ]
  },
  {
   "cell_type": "code",
   "execution_count": 25,
   "metadata": {},
   "outputs": [
    {
     "name": "stdout",
     "output_type": "stream",
     "text": [
      "Host Response Rate\n",
      "Min =  0.0\n",
      "Q1  =  1.0\n",
      "Med =  1.0\n",
      "Avg =  0.96\n",
      "Q3  =  1.0\n",
      "Max =  1.0\n"
     ]
    }
   ],
   "source": [
    "print(\"Host Response Rate\")\n",
    "print(\"Min = \", str(min(df9['Host Response Rate'])))\n",
    "print(\"Q1  = \", str(np.quantile(df9['Host Response Rate'], .25)))\n",
    "print(\"Med = \", str(np.quantile(df9['Host Response Rate'], .5)))\n",
    "print(\"Avg = \", str(round((df9['Host Response Rate'].mean()),2)))\n",
    "print(\"Q3  = \", str(np.quantile(df9['Host Response Rate'], .75)))\n",
    "print(\"Max = \", str(max(df9['Host Response Rate'])))"
   ]
  },
  {
   "cell_type": "markdown",
   "metadata": {},
   "source": [
    "#### Accommodates, Bathrooms, Bedrooms\n",
    "\n",
    "These columns are interesting and meaningful because visualizing their descriptive statistics validates them, to a certain extent. Looking at the means, this is what we would expect. An Airbnb with just over 1 bedroom and 1 bathroom should be expected to accommocate between 2 and 3 people. While decimal points are not realistic for these variables, as you can't accommodate half a person, the pattern of these values across between the minimums and maximums make sense.\n",
    "\n",
    "Something that might cause concern is if, for example, the minimum values were (Accommodates: 5, Bathrooms: 1, Bedrooms: 1). These obviously aren't logical for an Airbnb, and additional investigation would be required.\n",
    "\n",
    "The minimum for bathroom might look weird, but the vast majority of the rentals with this value are private or shared rooms that may not have a bathroom reserved for this specific rental."
   ]
  },
  {
   "cell_type": "code",
   "execution_count": 26,
   "metadata": {},
   "outputs": [
    {
     "data": {
      "text/html": [
       "<div>\n",
       "<style scoped>\n",
       "    .dataframe tbody tr th:only-of-type {\n",
       "        vertical-align: middle;\n",
       "    }\n",
       "\n",
       "    .dataframe tbody tr th {\n",
       "        vertical-align: top;\n",
       "    }\n",
       "\n",
       "    .dataframe thead th {\n",
       "        text-align: right;\n",
       "    }\n",
       "</style>\n",
       "<table border=\"1\" class=\"dataframe\">\n",
       "  <thead>\n",
       "    <tr style=\"text-align: right;\">\n",
       "      <th></th>\n",
       "      <th>Accommodates</th>\n",
       "      <th>Bathrooms</th>\n",
       "      <th>Bedrooms</th>\n",
       "    </tr>\n",
       "  </thead>\n",
       "  <tbody>\n",
       "    <tr>\n",
       "      <th>count</th>\n",
       "      <td>44025.00000</td>\n",
       "      <td>44025.00000</td>\n",
       "      <td>44025.00000</td>\n",
       "    </tr>\n",
       "    <tr>\n",
       "      <th>mean</th>\n",
       "      <td>2.81647</td>\n",
       "      <td>1.13232</td>\n",
       "      <td>1.25002</td>\n",
       "    </tr>\n",
       "    <tr>\n",
       "      <th>std</th>\n",
       "      <td>1.85331</td>\n",
       "      <td>0.41195</td>\n",
       "      <td>0.62551</td>\n",
       "    </tr>\n",
       "    <tr>\n",
       "      <th>min</th>\n",
       "      <td>1.00000</td>\n",
       "      <td>0.00000</td>\n",
       "      <td>1.00000</td>\n",
       "    </tr>\n",
       "    <tr>\n",
       "      <th>25%</th>\n",
       "      <td>2.00000</td>\n",
       "      <td>1.00000</td>\n",
       "      <td>1.00000</td>\n",
       "    </tr>\n",
       "    <tr>\n",
       "      <th>50%</th>\n",
       "      <td>2.00000</td>\n",
       "      <td>1.00000</td>\n",
       "      <td>1.00000</td>\n",
       "    </tr>\n",
       "    <tr>\n",
       "      <th>75%</th>\n",
       "      <td>4.00000</td>\n",
       "      <td>1.00000</td>\n",
       "      <td>1.00000</td>\n",
       "    </tr>\n",
       "    <tr>\n",
       "      <th>max</th>\n",
       "      <td>16.00000</td>\n",
       "      <td>15.50000</td>\n",
       "      <td>14.00000</td>\n",
       "    </tr>\n",
       "  </tbody>\n",
       "</table>\n",
       "</div>"
      ],
      "text/plain": [
       "       Accommodates   Bathrooms    Bedrooms\n",
       "count   44025.00000 44025.00000 44025.00000\n",
       "mean        2.81647     1.13232     1.25002\n",
       "std         1.85331     0.41195     0.62551\n",
       "min         1.00000     0.00000     1.00000\n",
       "25%         2.00000     1.00000     1.00000\n",
       "50%         2.00000     1.00000     1.00000\n",
       "75%         4.00000     1.00000     1.00000\n",
       "max        16.00000    15.50000    14.00000"
      ]
     },
     "execution_count": 26,
     "metadata": {},
     "output_type": "execute_result"
    }
   ],
   "source": [
    "df9[['Accommodates', 'Bathrooms', 'Bedrooms']].describe()"
   ]
  },
  {
   "cell_type": "markdown",
   "metadata": {},
   "source": [
    "#### Review Scores Rating\n",
    "\n",
    "These descriptive statistics are meaningful, as they confirm the thought that reviews are dominated by strikingly high or low values. A renter is not likely to grade the Airbnb with such granularity as to assign a value of '84' or '76', but will likely grade on a much less specific scale. Additionally, users are much more likely to grade are the extreme ends of spectrum (0 or 100).\n",
    "\n",
    "The histogram below depicts these two effects. While the two sides of the spectrum are very obviously the most popular, we do see small spikes at benchmark values such as 20, 40, 60, and 80. This raises another question about different rating systems. Are all of these reviews collected from a 0-100 scale, or is the 1-5 star scale used as well?"
   ]
  },
  {
   "cell_type": "code",
   "execution_count": 27,
   "metadata": {},
   "outputs": [
    {
     "name": "stdout",
     "output_type": "stream",
     "text": [
      "Review Scores Rating\n",
      "Min =  0\n",
      "Q1  =  79.0\n",
      "Med =  93.0\n",
      "Avg =  72.47\n",
      "Q3  =  98.0\n",
      "Max =  100\n"
     ]
    },
    {
     "data": {
      "text/plain": [
       "<AxesSubplot:>"
      ]
     },
     "execution_count": 27,
     "metadata": {},
     "output_type": "execute_result"
    },
    {
     "data": {
      "image/png": "[encoded data removed]",
      "text/plain": [
       "<Figure size 432x288 with 1 Axes>"
      ]
     },
     "metadata": {
      "needs_background": "light"
     },
     "output_type": "display_data"
    }
   ],
   "source": [
    "print(\"Review Scores Rating\")\n",
    "print(\"Min = \", str(min(df9['Review Scores Rating'])))\n",
    "print(\"Q1  = \", str(np.quantile(df9['Review Scores Rating'], .25)))\n",
    "print(\"Med = \", str(np.quantile(df9['Review Scores Rating'], .5)))\n",
    "print(\"Avg = \", str(round((df9['Review Scores Rating'].mean()),2)))\n",
    "print(\"Q3  = \", str(np.quantile(df9['Review Scores Rating'], .75)))\n",
    "print(\"Max = \", str(max(df9['Review Scores Rating'])))\n",
    "df9['Review Scores Rating'].hist(bins=100)"
   ]
  },
  {
   "cell_type": "markdown",
   "metadata": {},
   "source": [
    "# Identify interesting relationships between Features and Prediction Class"
   ]
  },
  {
   "cell_type": "markdown",
   "metadata": {},
   "source": [
    "### Price v City"
   ]
  },
  {
   "cell_type": "markdown",
   "metadata": {},
   "source": [
    "It is easy to understand why the location of a listing would relate to its’ price. Factors such as safety, proximity in relation to popular venues and weather are among a slew of reasons why one particular location would have an influence on the price of a listing. We wanted to explore this relationship in our dataset."
   ]
  },
  {
   "cell_type": "code",
   "execution_count": 41,
   "metadata": {},
   "outputs": [],
   "source": [
    "CityVPriceDF = df3[[\"City\",\"Price\"]]"
   ]
  },
  {
   "cell_type": "code",
   "execution_count": 42,
   "metadata": {},
   "outputs": [
    {
     "data": {
      "text/html": [
       "<div>\n",
       "<style scoped>\n",
       "    .dataframe tbody tr th:only-of-type {\n",
       "        vertical-align: middle;\n",
       "    }\n",
       "\n",
       "    .dataframe tbody tr th {\n",
       "        vertical-align: top;\n",
       "    }\n",
       "\n",
       "    .dataframe thead tr th {\n",
       "        text-align: left;\n",
       "    }\n",
       "\n",
       "    .dataframe thead tr:last-of-type th {\n",
       "        text-align: right;\n",
       "    }\n",
       "</style>\n",
       "<table border=\"1\" class=\"dataframe\">\n",
       "  <thead>\n",
       "    <tr>\n",
       "      <th></th>\n",
       "      <th colspan=\"8\" halign=\"left\">Price</th>\n",
       "    </tr>\n",
       "    <tr>\n",
       "      <th></th>\n",
       "      <th>count</th>\n",
       "      <th>mean</th>\n",
       "      <th>std</th>\n",
       "      <th>min</th>\n",
       "      <th>25%</th>\n",
       "      <th>50%</th>\n",
       "      <th>75%</th>\n",
       "      <th>max</th>\n",
       "    </tr>\n",
       "    <tr>\n",
       "      <th>City</th>\n",
       "      <th></th>\n",
       "      <th></th>\n",
       "      <th></th>\n",
       "      <th></th>\n",
       "      <th></th>\n",
       "      <th></th>\n",
       "      <th></th>\n",
       "      <th></th>\n",
       "    </tr>\n",
       "  </thead>\n",
       "  <tbody>\n",
       "    <tr>\n",
       "      <th>Bronx</th>\n",
       "      <td>797.00000</td>\n",
       "      <td>82.17566</td>\n",
       "      <td>82.78762</td>\n",
       "      <td>0.00000</td>\n",
       "      <td>46.00000</td>\n",
       "      <td>65.00000</td>\n",
       "      <td>90.00000</td>\n",
       "      <td>862.00000</td>\n",
       "    </tr>\n",
       "    <tr>\n",
       "      <th>Brooklyn</th>\n",
       "      <td>18487.00000</td>\n",
       "      <td>114.45697</td>\n",
       "      <td>86.67546</td>\n",
       "      <td>0.00000</td>\n",
       "      <td>60.00000</td>\n",
       "      <td>90.00000</td>\n",
       "      <td>145.00000</td>\n",
       "      <td>999.00000</td>\n",
       "    </tr>\n",
       "    <tr>\n",
       "      <th>Manhattan</th>\n",
       "      <td>20351.00000</td>\n",
       "      <td>169.47025</td>\n",
       "      <td>124.38391</td>\n",
       "      <td>0.00000</td>\n",
       "      <td>90.00000</td>\n",
       "      <td>140.00000</td>\n",
       "      <td>200.00000</td>\n",
       "      <td>999.00000</td>\n",
       "    </tr>\n",
       "    <tr>\n",
       "      <th>Queens</th>\n",
       "      <td>4382.00000</td>\n",
       "      <td>95.53788</td>\n",
       "      <td>76.31794</td>\n",
       "      <td>0.00000</td>\n",
       "      <td>54.25000</td>\n",
       "      <td>75.00000</td>\n",
       "      <td>110.00000</td>\n",
       "      <td>950.00000</td>\n",
       "    </tr>\n",
       "    <tr>\n",
       "      <th>Staten Island</th>\n",
       "      <td>293.00000</td>\n",
       "      <td>104.30375</td>\n",
       "      <td>94.31708</td>\n",
       "      <td>0.00000</td>\n",
       "      <td>51.00000</td>\n",
       "      <td>79.00000</td>\n",
       "      <td>119.00000</td>\n",
       "      <td>800.00000</td>\n",
       "    </tr>\n",
       "  </tbody>\n",
       "</table>\n",
       "</div>"
      ],
      "text/plain": [
       "                    Price                                                 \\\n",
       "                    count      mean       std     min      25%       50%   \n",
       "City                                                                       \n",
       "Bronx           797.00000  82.17566  82.78762 0.00000 46.00000  65.00000   \n",
       "Brooklyn      18487.00000 114.45697  86.67546 0.00000 60.00000  90.00000   \n",
       "Manhattan     20351.00000 169.47025 124.38391 0.00000 90.00000 140.00000   \n",
       "Queens         4382.00000  95.53788  76.31794 0.00000 54.25000  75.00000   \n",
       "Staten Island   293.00000 104.30375  94.31708 0.00000 51.00000  79.00000   \n",
       "\n",
       "                                   \n",
       "                    75%       max  \n",
       "City                               \n",
       "Bronx          90.00000 862.00000  \n",
       "Brooklyn      145.00000 999.00000  \n",
       "Manhattan     200.00000 999.00000  \n",
       "Queens        110.00000 950.00000  \n",
       "Staten Island 119.00000 800.00000  "
      ]
     },
     "execution_count": 42,
     "metadata": {},
     "output_type": "execute_result"
    }
   ],
   "source": [
    "CityVPriceDF.groupby(\"City\").describe()"
   ]
  },
  {
   "cell_type": "code",
   "execution_count": 43,
   "metadata": {},
   "outputs": [
    {
     "data": {
      "text/html": [
       "<div>\n",
       "<style scoped>\n",
       "    .dataframe tbody tr th:only-of-type {\n",
       "        vertical-align: middle;\n",
       "    }\n",
       "\n",
       "    .dataframe tbody tr th {\n",
       "        vertical-align: top;\n",
       "    }\n",
       "\n",
       "    .dataframe thead th {\n",
       "        text-align: right;\n",
       "    }\n",
       "</style>\n",
       "<table border=\"1\" class=\"dataframe\">\n",
       "  <thead>\n",
       "    <tr style=\"text-align: right;\">\n",
       "      <th></th>\n",
       "      <th>Price</th>\n",
       "    </tr>\n",
       "    <tr>\n",
       "      <th>City</th>\n",
       "      <th></th>\n",
       "    </tr>\n",
       "  </thead>\n",
       "  <tbody>\n",
       "    <tr>\n",
       "      <th>Bronx</th>\n",
       "      <td>65.00000</td>\n",
       "    </tr>\n",
       "    <tr>\n",
       "      <th>Brooklyn</th>\n",
       "      <td>90.00000</td>\n",
       "    </tr>\n",
       "    <tr>\n",
       "      <th>Manhattan</th>\n",
       "      <td>140.00000</td>\n",
       "    </tr>\n",
       "    <tr>\n",
       "      <th>Queens</th>\n",
       "      <td>75.00000</td>\n",
       "    </tr>\n",
       "    <tr>\n",
       "      <th>Staten Island</th>\n",
       "      <td>79.00000</td>\n",
       "    </tr>\n",
       "  </tbody>\n",
       "</table>\n",
       "</div>"
      ],
      "text/plain": [
       "                  Price\n",
       "City                   \n",
       "Bronx          65.00000\n",
       "Brooklyn       90.00000\n",
       "Manhattan     140.00000\n",
       "Queens         75.00000\n",
       "Staten Island  79.00000"
      ]
     },
     "execution_count": 43,
     "metadata": {},
     "output_type": "execute_result"
    }
   ],
   "source": [
    "CityVPriceDF.groupby(\"City\").median()"
   ]
  },
  {
   "cell_type": "markdown",
   "metadata": {},
   "source": [
    "Here we have created a subset of our dataset only containing City and Price. We then pull the summary statistics to give us a closer look at how the breakdown of prices for each city. Given the 5 cities we can see across the table of statistics that the data follows a similar pattern. The prices for listings in the Bronx and Queens across the board are lower than the other 3. Of the 3 remaining cities we can see that listings in Manhattan are on average significantly higher. We then were interested to see how the median price of each city would compare to the mean and we can see that it follows the same pattern where the Bronx and Queens are lower while Manhattan is still significantly larger. Although we do not have data on socio economic factors of each listing one could assume that these would play a great role in the difference in pricing across cities. Additional insight for these factors would be worthy of discussion in the future."
   ]
  },
  {
   "cell_type": "markdown",
   "metadata": {},
   "source": [
    "### Price v Reviews per Month"
   ]
  },
  {
   "cell_type": "markdown",
   "metadata": {},
   "source": [
    "The next relationship we wanted to explore was the relationship between the price versus the number of reviews per month. The reason we were interested in this is because there are two schools of thought when it came to reviews. Would a listing with very poor customer satisfaction warrant more reviews than listings with exceptional customer satisfaction? If so, how does this relate to price. If more reviews means worse satisfaction, would this also relate to a lower price? Alternatively, if more reviews means better satisfaction, would this also relate to a higher price? Below we take a look."
   ]
  },
  {
   "cell_type": "code",
   "execution_count": 46,
   "metadata": {},
   "outputs": [],
   "source": [
    "import matplotlib.pyplot as plt"
   ]
  },
  {
   "cell_type": "code",
   "execution_count": 60,
   "metadata": {},
   "outputs": [
    {
     "data": {
      "text/plain": [
       "<matplotlib.collections.PathCollection at 0x7fc3a419cc70>"
      ]
     },
     "execution_count": 60,
     "metadata": {},
     "output_type": "execute_result"
    },
    {
     "data": {
      "image/png": "[encoded data removed]",
      "text/plain": [
       "<Figure size 432x288 with 1 Axes>"
      ]
     },
     "metadata": {
      "needs_background": "light"
     },
     "output_type": "display_data"
    }
   ],
   "source": [
    "plt.scatter(df3[\"Reviews per month\"], df3[\"Price\"])\n"
   ]
  },
  {
   "cell_type": "markdown",
   "metadata": {},
   "source": [
    "What we found is that the number of reviews doesn’t explain the price as well as we had hoped. However, on the lower end of prices we see that there tends to be a wider variation of reviews with the max number of reviews falling at just under the 200 dollar price. "
   ]
  },
  {
   "cell_type": "markdown",
   "metadata": {},
   "source": [
    "### Price v Property Type"
   ]
  },
  {
   "cell_type": "markdown",
   "metadata": {},
   "source": [
    "Lastly, we wanted to look how the price compared against each type of property. Because of the sheer number of properties this investigation was more exploratory as opposed to explanatory. We simply wanted to see how the prices would compare. Again, as we did with the Cities insight, we have included median price of each property type to add additional insight. "
   ]
  },
  {
   "cell_type": "code",
   "execution_count": 67,
   "metadata": {},
   "outputs": [
    {
     "data": {
      "text/html": [
       "<div>\n",
       "<style scoped>\n",
       "    .dataframe tbody tr th:only-of-type {\n",
       "        vertical-align: middle;\n",
       "    }\n",
       "\n",
       "    .dataframe tbody tr th {\n",
       "        vertical-align: top;\n",
       "    }\n",
       "\n",
       "    .dataframe thead tr th {\n",
       "        text-align: left;\n",
       "    }\n",
       "\n",
       "    .dataframe thead tr:last-of-type th {\n",
       "        text-align: right;\n",
       "    }\n",
       "</style>\n",
       "<table border=\"1\" class=\"dataframe\">\n",
       "  <thead>\n",
       "    <tr>\n",
       "      <th></th>\n",
       "      <th colspan=\"8\" halign=\"left\">Price</th>\n",
       "    </tr>\n",
       "    <tr>\n",
       "      <th></th>\n",
       "      <th>count</th>\n",
       "      <th>mean</th>\n",
       "      <th>std</th>\n",
       "      <th>min</th>\n",
       "      <th>25%</th>\n",
       "      <th>50%</th>\n",
       "      <th>75%</th>\n",
       "      <th>max</th>\n",
       "    </tr>\n",
       "    <tr>\n",
       "      <th>Property type</th>\n",
       "      <th></th>\n",
       "      <th></th>\n",
       "      <th></th>\n",
       "      <th></th>\n",
       "      <th></th>\n",
       "      <th></th>\n",
       "      <th></th>\n",
       "      <th></th>\n",
       "    </tr>\n",
       "  </thead>\n",
       "  <tbody>\n",
       "    <tr>\n",
       "      <th>Apartment</th>\n",
       "      <td>37495.00000</td>\n",
       "      <td>135.91314</td>\n",
       "      <td>102.11847</td>\n",
       "      <td>0.00000</td>\n",
       "      <td>70.00000</td>\n",
       "      <td>106.00000</td>\n",
       "      <td>170.00000</td>\n",
       "      <td>999.00000</td>\n",
       "    </tr>\n",
       "    <tr>\n",
       "      <th>Bed &amp; Breakfast</th>\n",
       "      <td>136.00000</td>\n",
       "      <td>128.99265</td>\n",
       "      <td>91.83919</td>\n",
       "      <td>35.00000</td>\n",
       "      <td>75.00000</td>\n",
       "      <td>100.00000</td>\n",
       "      <td>150.00000</td>\n",
       "      <td>650.00000</td>\n",
       "    </tr>\n",
       "    <tr>\n",
       "      <th>Boat</th>\n",
       "      <td>9.00000</td>\n",
       "      <td>110.66667</td>\n",
       "      <td>75.93747</td>\n",
       "      <td>0.00000</td>\n",
       "      <td>75.00000</td>\n",
       "      <td>100.00000</td>\n",
       "      <td>150.00000</td>\n",
       "      <td>250.00000</td>\n",
       "    </tr>\n",
       "    <tr>\n",
       "      <th>Boutique hotel</th>\n",
       "      <td>25.00000</td>\n",
       "      <td>169.32000</td>\n",
       "      <td>151.64040</td>\n",
       "      <td>0.00000</td>\n",
       "      <td>109.00000</td>\n",
       "      <td>150.00000</td>\n",
       "      <td>199.00000</td>\n",
       "      <td>799.00000</td>\n",
       "    </tr>\n",
       "    <tr>\n",
       "      <th>Bungalow</th>\n",
       "      <td>19.00000</td>\n",
       "      <td>139.94737</td>\n",
       "      <td>91.85283</td>\n",
       "      <td>40.00000</td>\n",
       "      <td>95.00000</td>\n",
       "      <td>115.00000</td>\n",
       "      <td>155.00000</td>\n",
       "      <td>425.00000</td>\n",
       "    </tr>\n",
       "    <tr>\n",
       "      <th>Cabin</th>\n",
       "      <td>3.00000</td>\n",
       "      <td>176.66667</td>\n",
       "      <td>87.36895</td>\n",
       "      <td>80.00000</td>\n",
       "      <td>140.00000</td>\n",
       "      <td>200.00000</td>\n",
       "      <td>225.00000</td>\n",
       "      <td>250.00000</td>\n",
       "    </tr>\n",
       "    <tr>\n",
       "      <th>Castle</th>\n",
       "      <td>1.00000</td>\n",
       "      <td>175.00000</td>\n",
       "      <td>NaN</td>\n",
       "      <td>175.00000</td>\n",
       "      <td>175.00000</td>\n",
       "      <td>175.00000</td>\n",
       "      <td>175.00000</td>\n",
       "      <td>175.00000</td>\n",
       "    </tr>\n",
       "    <tr>\n",
       "      <th>Cave</th>\n",
       "      <td>1.00000</td>\n",
       "      <td>120.00000</td>\n",
       "      <td>NaN</td>\n",
       "      <td>120.00000</td>\n",
       "      <td>120.00000</td>\n",
       "      <td>120.00000</td>\n",
       "      <td>120.00000</td>\n",
       "      <td>120.00000</td>\n",
       "    </tr>\n",
       "    <tr>\n",
       "      <th>Chalet</th>\n",
       "      <td>3.00000</td>\n",
       "      <td>150.00000</td>\n",
       "      <td>86.60831</td>\n",
       "      <td>99.00000</td>\n",
       "      <td>100.00000</td>\n",
       "      <td>101.00000</td>\n",
       "      <td>175.50000</td>\n",
       "      <td>250.00000</td>\n",
       "    </tr>\n",
       "    <tr>\n",
       "      <th>Condominium</th>\n",
       "      <td>593.00000</td>\n",
       "      <td>202.87521</td>\n",
       "      <td>157.69948</td>\n",
       "      <td>0.00000</td>\n",
       "      <td>95.00000</td>\n",
       "      <td>150.00000</td>\n",
       "      <td>269.00000</td>\n",
       "      <td>878.00000</td>\n",
       "    </tr>\n",
       "    <tr>\n",
       "      <th>Dorm</th>\n",
       "      <td>28.00000</td>\n",
       "      <td>74.67857</td>\n",
       "      <td>41.58352</td>\n",
       "      <td>30.00000</td>\n",
       "      <td>55.00000</td>\n",
       "      <td>65.00000</td>\n",
       "      <td>80.00000</td>\n",
       "      <td>238.00000</td>\n",
       "    </tr>\n",
       "    <tr>\n",
       "      <th>Earth House</th>\n",
       "      <td>3.00000</td>\n",
       "      <td>211.66667</td>\n",
       "      <td>58.38093</td>\n",
       "      <td>160.00000</td>\n",
       "      <td>180.00000</td>\n",
       "      <td>200.00000</td>\n",
       "      <td>237.50000</td>\n",
       "      <td>275.00000</td>\n",
       "    </tr>\n",
       "    <tr>\n",
       "      <th>Guest suite</th>\n",
       "      <td>54.00000</td>\n",
       "      <td>129.77778</td>\n",
       "      <td>104.97127</td>\n",
       "      <td>38.00000</td>\n",
       "      <td>75.00000</td>\n",
       "      <td>100.00000</td>\n",
       "      <td>135.00000</td>\n",
       "      <td>625.00000</td>\n",
       "    </tr>\n",
       "    <tr>\n",
       "      <th>Guesthouse</th>\n",
       "      <td>58.00000</td>\n",
       "      <td>81.15517</td>\n",
       "      <td>76.94012</td>\n",
       "      <td>0.00000</td>\n",
       "      <td>37.00000</td>\n",
       "      <td>58.50000</td>\n",
       "      <td>79.00000</td>\n",
       "      <td>375.00000</td>\n",
       "    </tr>\n",
       "    <tr>\n",
       "      <th>Hostel</th>\n",
       "      <td>39.00000</td>\n",
       "      <td>70.66667</td>\n",
       "      <td>41.84013</td>\n",
       "      <td>32.00000</td>\n",
       "      <td>50.50000</td>\n",
       "      <td>69.00000</td>\n",
       "      <td>82.00000</td>\n",
       "      <td>280.00000</td>\n",
       "    </tr>\n",
       "    <tr>\n",
       "      <th>House</th>\n",
       "      <td>3723.00000</td>\n",
       "      <td>120.11657</td>\n",
       "      <td>126.05552</td>\n",
       "      <td>0.00000</td>\n",
       "      <td>50.00000</td>\n",
       "      <td>75.00000</td>\n",
       "      <td>135.00000</td>\n",
       "      <td>995.00000</td>\n",
       "    </tr>\n",
       "    <tr>\n",
       "      <th>In-law</th>\n",
       "      <td>6.00000</td>\n",
       "      <td>125.66667</td>\n",
       "      <td>46.48297</td>\n",
       "      <td>70.00000</td>\n",
       "      <td>95.00000</td>\n",
       "      <td>122.00000</td>\n",
       "      <td>146.00000</td>\n",
       "      <td>200.00000</td>\n",
       "    </tr>\n",
       "    <tr>\n",
       "      <th>Loft</th>\n",
       "      <td>879.00000</td>\n",
       "      <td>181.50057</td>\n",
       "      <td>159.61576</td>\n",
       "      <td>0.00000</td>\n",
       "      <td>75.00000</td>\n",
       "      <td>132.00000</td>\n",
       "      <td>220.00000</td>\n",
       "      <td>985.00000</td>\n",
       "    </tr>\n",
       "    <tr>\n",
       "      <th>Other</th>\n",
       "      <td>290.00000</td>\n",
       "      <td>142.56207</td>\n",
       "      <td>123.24600</td>\n",
       "      <td>0.00000</td>\n",
       "      <td>69.00000</td>\n",
       "      <td>100.00000</td>\n",
       "      <td>170.00000</td>\n",
       "      <td>640.00000</td>\n",
       "    </tr>\n",
       "    <tr>\n",
       "      <th>Serviced apartment</th>\n",
       "      <td>9.00000</td>\n",
       "      <td>211.66667</td>\n",
       "      <td>123.38963</td>\n",
       "      <td>70.00000</td>\n",
       "      <td>100.00000</td>\n",
       "      <td>220.00000</td>\n",
       "      <td>300.00000</td>\n",
       "      <td>400.00000</td>\n",
       "    </tr>\n",
       "    <tr>\n",
       "      <th>Tent</th>\n",
       "      <td>1.00000</td>\n",
       "      <td>250.00000</td>\n",
       "      <td>NaN</td>\n",
       "      <td>250.00000</td>\n",
       "      <td>250.00000</td>\n",
       "      <td>250.00000</td>\n",
       "      <td>250.00000</td>\n",
       "      <td>250.00000</td>\n",
       "    </tr>\n",
       "    <tr>\n",
       "      <th>Timeshare</th>\n",
       "      <td>85.00000</td>\n",
       "      <td>322.30588</td>\n",
       "      <td>154.02350</td>\n",
       "      <td>90.00000</td>\n",
       "      <td>248.00000</td>\n",
       "      <td>250.00000</td>\n",
       "      <td>389.00000</td>\n",
       "      <td>799.00000</td>\n",
       "    </tr>\n",
       "    <tr>\n",
       "      <th>Townhouse</th>\n",
       "      <td>817.00000</td>\n",
       "      <td>165.85312</td>\n",
       "      <td>161.71471</td>\n",
       "      <td>0.00000</td>\n",
       "      <td>65.00000</td>\n",
       "      <td>103.00000</td>\n",
       "      <td>200.00000</td>\n",
       "      <td>950.00000</td>\n",
       "    </tr>\n",
       "    <tr>\n",
       "      <th>Train</th>\n",
       "      <td>1.00000</td>\n",
       "      <td>67.00000</td>\n",
       "      <td>NaN</td>\n",
       "      <td>67.00000</td>\n",
       "      <td>67.00000</td>\n",
       "      <td>67.00000</td>\n",
       "      <td>67.00000</td>\n",
       "      <td>67.00000</td>\n",
       "    </tr>\n",
       "    <tr>\n",
       "      <th>Treehouse</th>\n",
       "      <td>1.00000</td>\n",
       "      <td>56.00000</td>\n",
       "      <td>NaN</td>\n",
       "      <td>56.00000</td>\n",
       "      <td>56.00000</td>\n",
       "      <td>56.00000</td>\n",
       "      <td>56.00000</td>\n",
       "      <td>56.00000</td>\n",
       "    </tr>\n",
       "    <tr>\n",
       "      <th>Vacation home</th>\n",
       "      <td>9.00000</td>\n",
       "      <td>282.44444</td>\n",
       "      <td>206.91370</td>\n",
       "      <td>135.00000</td>\n",
       "      <td>150.00000</td>\n",
       "      <td>199.00000</td>\n",
       "      <td>250.00000</td>\n",
       "      <td>715.00000</td>\n",
       "    </tr>\n",
       "    <tr>\n",
       "      <th>Villa</th>\n",
       "      <td>21.00000</td>\n",
       "      <td>125.85714</td>\n",
       "      <td>92.60577</td>\n",
       "      <td>35.00000</td>\n",
       "      <td>59.00000</td>\n",
       "      <td>69.00000</td>\n",
       "      <td>182.00000</td>\n",
       "      <td>350.00000</td>\n",
       "    </tr>\n",
       "    <tr>\n",
       "      <th>Yurt</th>\n",
       "      <td>1.00000</td>\n",
       "      <td>95.00000</td>\n",
       "      <td>NaN</td>\n",
       "      <td>95.00000</td>\n",
       "      <td>95.00000</td>\n",
       "      <td>95.00000</td>\n",
       "      <td>95.00000</td>\n",
       "      <td>95.00000</td>\n",
       "    </tr>\n",
       "  </tbody>\n",
       "</table>\n",
       "</div>"
      ],
      "text/plain": [
       "                         Price                                          \\\n",
       "                         count      mean       std       min       25%   \n",
       "Property type                                                            \n",
       "Apartment          37495.00000 135.91314 102.11847   0.00000  70.00000   \n",
       "Bed & Breakfast      136.00000 128.99265  91.83919  35.00000  75.00000   \n",
       "Boat                   9.00000 110.66667  75.93747   0.00000  75.00000   \n",
       "Boutique hotel        25.00000 169.32000 151.64040   0.00000 109.00000   \n",
       "Bungalow              19.00000 139.94737  91.85283  40.00000  95.00000   \n",
       "Cabin                  3.00000 176.66667  87.36895  80.00000 140.00000   \n",
       "Castle                 1.00000 175.00000       NaN 175.00000 175.00000   \n",
       "Cave                   1.00000 120.00000       NaN 120.00000 120.00000   \n",
       "Chalet                 3.00000 150.00000  86.60831  99.00000 100.00000   \n",
       "Condominium          593.00000 202.87521 157.69948   0.00000  95.00000   \n",
       "Dorm                  28.00000  74.67857  41.58352  30.00000  55.00000   \n",
       "Earth House            3.00000 211.66667  58.38093 160.00000 180.00000   \n",
       "Guest suite           54.00000 129.77778 104.97127  38.00000  75.00000   \n",
       "Guesthouse            58.00000  81.15517  76.94012   0.00000  37.00000   \n",
       "Hostel                39.00000  70.66667  41.84013  32.00000  50.50000   \n",
       "House               3723.00000 120.11657 126.05552   0.00000  50.00000   \n",
       "In-law                 6.00000 125.66667  46.48297  70.00000  95.00000   \n",
       "Loft                 879.00000 181.50057 159.61576   0.00000  75.00000   \n",
       "Other                290.00000 142.56207 123.24600   0.00000  69.00000   \n",
       "Serviced apartment     9.00000 211.66667 123.38963  70.00000 100.00000   \n",
       "Tent                   1.00000 250.00000       NaN 250.00000 250.00000   \n",
       "Timeshare             85.00000 322.30588 154.02350  90.00000 248.00000   \n",
       "Townhouse            817.00000 165.85312 161.71471   0.00000  65.00000   \n",
       "Train                  1.00000  67.00000       NaN  67.00000  67.00000   \n",
       "Treehouse              1.00000  56.00000       NaN  56.00000  56.00000   \n",
       "Vacation home          9.00000 282.44444 206.91370 135.00000 150.00000   \n",
       "Villa                 21.00000 125.85714  92.60577  35.00000  59.00000   \n",
       "Yurt                   1.00000  95.00000       NaN  95.00000  95.00000   \n",
       "\n",
       "                                                  \n",
       "                         50%       75%       max  \n",
       "Property type                                     \n",
       "Apartment          106.00000 170.00000 999.00000  \n",
       "Bed & Breakfast    100.00000 150.00000 650.00000  \n",
       "Boat               100.00000 150.00000 250.00000  \n",
       "Boutique hotel     150.00000 199.00000 799.00000  \n",
       "Bungalow           115.00000 155.00000 425.00000  \n",
       "Cabin              200.00000 225.00000 250.00000  \n",
       "Castle             175.00000 175.00000 175.00000  \n",
       "Cave               120.00000 120.00000 120.00000  \n",
       "Chalet             101.00000 175.50000 250.00000  \n",
       "Condominium        150.00000 269.00000 878.00000  \n",
       "Dorm                65.00000  80.00000 238.00000  \n",
       "Earth House        200.00000 237.50000 275.00000  \n",
       "Guest suite        100.00000 135.00000 625.00000  \n",
       "Guesthouse          58.50000  79.00000 375.00000  \n",
       "Hostel              69.00000  82.00000 280.00000  \n",
       "House               75.00000 135.00000 995.00000  \n",
       "In-law             122.00000 146.00000 200.00000  \n",
       "Loft               132.00000 220.00000 985.00000  \n",
       "Other              100.00000 170.00000 640.00000  \n",
       "Serviced apartment 220.00000 300.00000 400.00000  \n",
       "Tent               250.00000 250.00000 250.00000  \n",
       "Timeshare          250.00000 389.00000 799.00000  \n",
       "Townhouse          103.00000 200.00000 950.00000  \n",
       "Train               67.00000  67.00000  67.00000  \n",
       "Treehouse           56.00000  56.00000  56.00000  \n",
       "Vacation home      199.00000 250.00000 715.00000  \n",
       "Villa               69.00000 182.00000 350.00000  \n",
       "Yurt                95.00000  95.00000  95.00000  "
      ]
     },
     "execution_count": 67,
     "metadata": {},
     "output_type": "execute_result"
    }
   ],
   "source": [
    "PropVPrice.groupby(\"Property type\").describe()"
   ]
  },
  {
   "cell_type": "code",
   "execution_count": 68,
   "metadata": {},
   "outputs": [
    {
     "data": {
      "text/html": [
       "<div>\n",
       "<style scoped>\n",
       "    .dataframe tbody tr th:only-of-type {\n",
       "        vertical-align: middle;\n",
       "    }\n",
       "\n",
       "    .dataframe tbody tr th {\n",
       "        vertical-align: top;\n",
       "    }\n",
       "\n",
       "    .dataframe thead th {\n",
       "        text-align: right;\n",
       "    }\n",
       "</style>\n",
       "<table border=\"1\" class=\"dataframe\">\n",
       "  <thead>\n",
       "    <tr style=\"text-align: right;\">\n",
       "      <th></th>\n",
       "      <th>Price</th>\n",
       "    </tr>\n",
       "    <tr>\n",
       "      <th>Property type</th>\n",
       "      <th></th>\n",
       "    </tr>\n",
       "  </thead>\n",
       "  <tbody>\n",
       "    <tr>\n",
       "      <th>Apartment</th>\n",
       "      <td>106.00000</td>\n",
       "    </tr>\n",
       "    <tr>\n",
       "      <th>Bed &amp; Breakfast</th>\n",
       "      <td>100.00000</td>\n",
       "    </tr>\n",
       "    <tr>\n",
       "      <th>Boat</th>\n",
       "      <td>100.00000</td>\n",
       "    </tr>\n",
       "    <tr>\n",
       "      <th>Boutique hotel</th>\n",
       "      <td>150.00000</td>\n",
       "    </tr>\n",
       "    <tr>\n",
       "      <th>Bungalow</th>\n",
       "      <td>115.00000</td>\n",
       "    </tr>\n",
       "    <tr>\n",
       "      <th>Cabin</th>\n",
       "      <td>200.00000</td>\n",
       "    </tr>\n",
       "    <tr>\n",
       "      <th>Castle</th>\n",
       "      <td>175.00000</td>\n",
       "    </tr>\n",
       "    <tr>\n",
       "      <th>Cave</th>\n",
       "      <td>120.00000</td>\n",
       "    </tr>\n",
       "    <tr>\n",
       "      <th>Chalet</th>\n",
       "      <td>101.00000</td>\n",
       "    </tr>\n",
       "    <tr>\n",
       "      <th>Condominium</th>\n",
       "      <td>150.00000</td>\n",
       "    </tr>\n",
       "    <tr>\n",
       "      <th>Dorm</th>\n",
       "      <td>65.00000</td>\n",
       "    </tr>\n",
       "    <tr>\n",
       "      <th>Earth House</th>\n",
       "      <td>200.00000</td>\n",
       "    </tr>\n",
       "    <tr>\n",
       "      <th>Guest suite</th>\n",
       "      <td>100.00000</td>\n",
       "    </tr>\n",
       "    <tr>\n",
       "      <th>Guesthouse</th>\n",
       "      <td>58.50000</td>\n",
       "    </tr>\n",
       "    <tr>\n",
       "      <th>Hostel</th>\n",
       "      <td>69.00000</td>\n",
       "    </tr>\n",
       "    <tr>\n",
       "      <th>House</th>\n",
       "      <td>75.00000</td>\n",
       "    </tr>\n",
       "    <tr>\n",
       "      <th>In-law</th>\n",
       "      <td>122.00000</td>\n",
       "    </tr>\n",
       "    <tr>\n",
       "      <th>Loft</th>\n",
       "      <td>132.00000</td>\n",
       "    </tr>\n",
       "    <tr>\n",
       "      <th>Other</th>\n",
       "      <td>100.00000</td>\n",
       "    </tr>\n",
       "    <tr>\n",
       "      <th>Serviced apartment</th>\n",
       "      <td>220.00000</td>\n",
       "    </tr>\n",
       "    <tr>\n",
       "      <th>Tent</th>\n",
       "      <td>250.00000</td>\n",
       "    </tr>\n",
       "    <tr>\n",
       "      <th>Timeshare</th>\n",
       "      <td>250.00000</td>\n",
       "    </tr>\n",
       "    <tr>\n",
       "      <th>Townhouse</th>\n",
       "      <td>103.00000</td>\n",
       "    </tr>\n",
       "    <tr>\n",
       "      <th>Train</th>\n",
       "      <td>67.00000</td>\n",
       "    </tr>\n",
       "    <tr>\n",
       "      <th>Treehouse</th>\n",
       "      <td>56.00000</td>\n",
       "    </tr>\n",
       "    <tr>\n",
       "      <th>Vacation home</th>\n",
       "      <td>199.00000</td>\n",
       "    </tr>\n",
       "    <tr>\n",
       "      <th>Villa</th>\n",
       "      <td>69.00000</td>\n",
       "    </tr>\n",
       "    <tr>\n",
       "      <th>Yurt</th>\n",
       "      <td>95.00000</td>\n",
       "    </tr>\n",
       "  </tbody>\n",
       "</table>\n",
       "</div>"
      ],
      "text/plain": [
       "                       Price\n",
       "Property type               \n",
       "Apartment          106.00000\n",
       "Bed & Breakfast    100.00000\n",
       "Boat               100.00000\n",
       "Boutique hotel     150.00000\n",
       "Bungalow           115.00000\n",
       "Cabin              200.00000\n",
       "Castle             175.00000\n",
       "Cave               120.00000\n",
       "Chalet             101.00000\n",
       "Condominium        150.00000\n",
       "Dorm                65.00000\n",
       "Earth House        200.00000\n",
       "Guest suite        100.00000\n",
       "Guesthouse          58.50000\n",
       "Hostel              69.00000\n",
       "House               75.00000\n",
       "In-law             122.00000\n",
       "Loft               132.00000\n",
       "Other              100.00000\n",
       "Serviced apartment 220.00000\n",
       "Tent               250.00000\n",
       "Timeshare          250.00000\n",
       "Townhouse          103.00000\n",
       "Train               67.00000\n",
       "Treehouse           56.00000\n",
       "Vacation home      199.00000\n",
       "Villa               69.00000\n",
       "Yurt                95.00000"
      ]
     },
     "execution_count": 68,
     "metadata": {},
     "output_type": "execute_result"
    }
   ],
   "source": [
    "PropVPrice.groupby(\"Property type\").median()"
   ]
  },
  {
   "cell_type": "markdown",
   "metadata": {},
   "source": [
    "Although not a lot of explanation can be drawn from this table it is interesting to see how each property type varies as well as how many of each property are available to be rented in New York."
   ]
  },
  {
   "cell_type": "markdown",
   "metadata": {},
   "source": [
    "# Additional Features"
   ]
  },
  {
   "cell_type": "markdown",
   "metadata": {},
   "source": [
    "Given the extensiveness of our dataset, there was a quite a bit of filtering and removal that was necessary to give us as clean, useful and effective dataset as possible. That being said, there is always features that could be created or added that could provide additional insights that the given data cannot accomplish. \n",
    "\n"
   ]
  },
  {
   "cell_type": "markdown",
   "metadata": {},
   "source": [
    "Starting first with features that we would not be able to create on our own, a feature that shows how many times a particular listing was extended longer than its original booking could be very insightful in terms of its relationship against our target classifications. In the instance that a certain listing has a higher relative occurrence of these extensions it would be fair to pose the assumption that this would relate to having a higher review scores rating (one of our target classifications) for the listing because obviously if a renter is wanting to extend their stay they are more than likely satisfied with the conditions and experience with the property. Another interesting point of view for this feature would be how this would relate to the availability to the property. If a certain property is constantly booked, the number of extensions would be minimal which if following the logic provided previously would suggest a lower customer satisfaction however this would actually be counter intuitive given the fact that the property is constantly being booked. Again however, the availability of the property could actually be more closely related to the price rather than rating given that if a price is cheaper it is more likely to be booked. These are all things that we think would be very interesting to explore and could provide us with a deeper layer of insight when it comes to price and rating."
   ]
  },
  {
   "cell_type": "markdown",
   "metadata": {},
   "source": [
    "Now exploring features that could be created given our dataset. One feature that we thought could be used to give us a different outlook on the problem has a whole would be by changing review score rating from a numerical continuous variable to a categorical variable. Our idea would be to view the ratings as a grade scale, where following an identical structure to a school grading system we would have a letter scale. As mentioned earlier, the likelihood of a renter entering a value of such as 73, 81, or 97 would be much less likely than they would be to grade their review with a less specific score. Although using a categorical feature to represent the review score rating might not introduce more success or effectiveness, we believe that this different outlook would be worth exploring and could provide a different lens from which we can view our data through. "
   ]
  },
  {
   "cell_type": "code",
   "execution_count": null,
   "metadata": {},
   "outputs": [],
   "source": []
  }
 ],
 "metadata": {
  "kernelspec": {
   "display_name": "Python 3 (ipykernel)",
   "language": "python",
   "name": "python3"
  },
  "language_info": {
   "codemirror_mode": {
    "name": "ipython",
    "version": 3
   },
   "file_extension": ".py",
   "mimetype": "text/x-python",
   "name": "python",
   "nbconvert_exporter": "python",
   "pygments_lexer": "ipython3",
   "version": "3.9.12"
  }
 },
 "nbformat": 4,
 "nbformat_minor": 4
}
