{
 "cells": [
  {
   "cell_type": "markdown",
   "id": "a489ebf9",
   "metadata": {},
   "source": [
    "# Exceptional Work"
   ]
  },
  {
   "cell_type": "markdown",
   "id": "65aff675",
   "metadata": {},
   "source": [
    "Our group would like to call into account the data cleaning for the segment of exceptional work. Intially we were given a very large data set with very puzzling entries for over 40% of the entries. We deduced that a lot of these listings had either not been completed or not been approved by AirBnB. These listings popped out to us as peculiar and it was not until we broke it down on a call together that our working hypothesis made sense and allowed us to proceed with the rest of the lab. From there we were able to target the ~40,000 entries that were relevant to our work.\n",
    "\n",
    "From there, a large effort was made to propely impute values into empty columns to address NaN values or entries that were not formatted properly. For instance, maximum stays had numerous entries with over 9000 days as the field. This is obviously impossible, with how AirBnB does not allow a 30 year rental. Outliers were also adressed and we made sure that if we were to kee \n",
    "\n",
    "\n",
    "Imputed data is always a very risky manuver, we tried our hardest to not blanket impute a mean or median, and made sure that when imputed happened, it was minimized and made sense within the expected values of the other attributes. \n",
    "The good news is for future projects having completed a mass amount of data cleaning will prove to be incredibly worthwhile and will save us time as we really want to explore this data set further. The effort placed in completing this segment of work will greatly benefit us in the future."
   ]
  },
  {
   "cell_type": "code",
   "execution_count": null,
   "id": "9cfc967e",
   "metadata": {},
   "outputs": [],
   "source": []
  }
 ],
 "metadata": {
  "kernelspec": {
   "display_name": "Python 3 (ipykernel)",
   "language": "python",
   "name": "python3"
  },
  "language_info": {
   "codemirror_mode": {
    "name": "ipython",
    "version": 3
   },
   "file_extension": ".py",
   "mimetype": "text/x-python",
   "name": "python",
   "nbconvert_exporter": "python",
   "pygments_lexer": "ipython3",
   "version": "3.8.13"
  }
 },
 "nbformat": 4,
 "nbformat_minor": 5
}
