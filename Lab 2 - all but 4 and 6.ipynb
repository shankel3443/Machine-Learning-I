{
 "cells": [
  {
   "cell_type": "markdown",
   "metadata": {},
   "source": [
    "# Lab 2\n",
    "\n",
    "#### Alan Abadzic, John Girard, Eric Laigaie, Garrett Shankel"
   ]
  },
  {
   "cell_type": "code",
   "execution_count": 1,
   "metadata": {},
   "outputs": [],
   "source": [
    "import numpy as np\n",
    "import pandas as pd\n",
    "\n",
    "df = pd.read_csv(\"NY_Listings_Validated.csv\")"
   ]
  },
  {
   "cell_type": "markdown",
   "metadata": {},
   "source": [
    "### Data Preparation Part 1"
   ]
  },
  {
   "cell_type": "code",
   "execution_count": 2,
   "metadata": {},
   "outputs": [],
   "source": [
    "# Create Grade Variable and Encode it\n",
    "def categorise(row):  \n",
    "    if row['Review Scores Rating'] > 89:\n",
    "        return 1\n",
    "    else:\n",
    "        return 0\n",
    "    return 'IDK'\n",
    "\n",
    "df['Grade'] = df.apply(lambda row: categorise(row), axis=1)\n",
    "\n",
    "df['Grade'].value_counts(normalize=True)\n",
    "\n",
    "# Filter to only useful columns\n",
    "data = df[['Host Response Rate', 'Host Is Superhost', 'Host total listings count', 'City', 'Room type',\n",
    "          'Accommodates', 'Bathrooms', 'Bedrooms', 'Price', 'Minimum nights', 'Maximum nights', 'Availability 365',\n",
    "          'Number of reviews', 'Reviews per month', 'Grade']]"
   ]
  },
  {
   "cell_type": "code",
   "execution_count": 3,
   "metadata": {},
   "outputs": [],
   "source": [
    "# One-hot Encode\n",
    "city_one_hot = pd.get_dummies(data['City'])\n",
    "room_one_hot = pd.get_dummies(data['Room type'])\n",
    "\n",
    "data = data.drop('City',axis = 1)\n",
    "data = data.drop('Room type',axis = 1)\n",
    "\n",
    "data = data.join(city_one_hot)\n",
    "data = data.join(room_one_hot)\n",
    "\n",
    "\n",
    "# Map boolean to integer\n",
    "data[\"Host Is Superhost\"] = data[\"Host Is Superhost\"].astype(int)"
   ]
  },
  {
   "cell_type": "code",
   "execution_count": 4,
   "metadata": {},
   "outputs": [],
   "source": [
    "# Scale Data\n",
    "from sklearn.preprocessing import MinMaxScaler\n",
    "scaler = MinMaxScaler()\n",
    "\n",
    "grade = data['Grade']\n",
    "to_scale = data.drop(\"Grade\", axis = 1)\n",
    "cols = to_scale.columns\n",
    "\n",
    "scaled = scaler.fit_transform(to_scale)\n",
    "\n",
    "data = pd.DataFrame(scaled, columns = cols)\n",
    "data['Grade'] = grade"
   ]
  },
  {
   "cell_type": "code",
   "execution_count": 5,
   "metadata": {},
   "outputs": [
    {
     "data": {
      "text/html": [
       "<div>\n",
       "<style scoped>\n",
       "    .dataframe tbody tr th:only-of-type {\n",
       "        vertical-align: middle;\n",
       "    }\n",
       "\n",
       "    .dataframe tbody tr th {\n",
       "        vertical-align: top;\n",
       "    }\n",
       "\n",
       "    .dataframe thead th {\n",
       "        text-align: right;\n",
       "    }\n",
       "</style>\n",
       "<table border=\"1\" class=\"dataframe\">\n",
       "  <thead>\n",
       "    <tr style=\"text-align: right;\">\n",
       "      <th></th>\n",
       "      <th>Host Response Rate</th>\n",
       "      <th>Host Is Superhost</th>\n",
       "      <th>Host total listings count</th>\n",
       "      <th>Accommodates</th>\n",
       "      <th>Bathrooms</th>\n",
       "      <th>Bedrooms</th>\n",
       "      <th>Price</th>\n",
       "      <th>Minimum nights</th>\n",
       "      <th>Maximum nights</th>\n",
       "      <th>Availability 365</th>\n",
       "      <th>...</th>\n",
       "      <th>Reviews per month</th>\n",
       "      <th>Bronx</th>\n",
       "      <th>Brooklyn</th>\n",
       "      <th>Manhattan</th>\n",
       "      <th>Queens</th>\n",
       "      <th>Staten Island</th>\n",
       "      <th>Entire home/apt</th>\n",
       "      <th>Private room</th>\n",
       "      <th>Shared room</th>\n",
       "      <th>Grade</th>\n",
       "    </tr>\n",
       "  </thead>\n",
       "  <tbody>\n",
       "    <tr>\n",
       "      <th>0</th>\n",
       "      <td>1.0</td>\n",
       "      <td>0.0</td>\n",
       "      <td>0.004086</td>\n",
       "      <td>0.000000</td>\n",
       "      <td>0.064516</td>\n",
       "      <td>0.000000</td>\n",
       "      <td>0.043043</td>\n",
       "      <td>0.000801</td>\n",
       "      <td>1.350418e-08</td>\n",
       "      <td>0.756164</td>\n",
       "      <td>...</td>\n",
       "      <td>0.072157</td>\n",
       "      <td>1.0</td>\n",
       "      <td>0.0</td>\n",
       "      <td>0.0</td>\n",
       "      <td>0.0</td>\n",
       "      <td>0.0</td>\n",
       "      <td>0.0</td>\n",
       "      <td>1.0</td>\n",
       "      <td>0.0</td>\n",
       "      <td>1</td>\n",
       "    </tr>\n",
       "    <tr>\n",
       "      <th>1</th>\n",
       "      <td>1.0</td>\n",
       "      <td>0.0</td>\n",
       "      <td>0.001021</td>\n",
       "      <td>0.000000</td>\n",
       "      <td>0.064516</td>\n",
       "      <td>0.000000</td>\n",
       "      <td>0.028028</td>\n",
       "      <td>0.000801</td>\n",
       "      <td>1.396984e-08</td>\n",
       "      <td>0.945205</td>\n",
       "      <td>...</td>\n",
       "      <td>0.062780</td>\n",
       "      <td>1.0</td>\n",
       "      <td>0.0</td>\n",
       "      <td>0.0</td>\n",
       "      <td>0.0</td>\n",
       "      <td>0.0</td>\n",
       "      <td>0.0</td>\n",
       "      <td>1.0</td>\n",
       "      <td>0.0</td>\n",
       "      <td>0</td>\n",
       "    </tr>\n",
       "    <tr>\n",
       "      <th>2</th>\n",
       "      <td>1.0</td>\n",
       "      <td>0.0</td>\n",
       "      <td>0.016343</td>\n",
       "      <td>0.200000</td>\n",
       "      <td>0.193548</td>\n",
       "      <td>0.076923</td>\n",
       "      <td>0.080080</td>\n",
       "      <td>0.001601</td>\n",
       "      <td>1.396984e-08</td>\n",
       "      <td>0.972603</td>\n",
       "      <td>...</td>\n",
       "      <td>0.156135</td>\n",
       "      <td>1.0</td>\n",
       "      <td>0.0</td>\n",
       "      <td>0.0</td>\n",
       "      <td>0.0</td>\n",
       "      <td>0.0</td>\n",
       "      <td>0.0</td>\n",
       "      <td>1.0</td>\n",
       "      <td>0.0</td>\n",
       "      <td>1</td>\n",
       "    </tr>\n",
       "    <tr>\n",
       "      <th>3</th>\n",
       "      <td>0.7</td>\n",
       "      <td>0.0</td>\n",
       "      <td>0.001021</td>\n",
       "      <td>0.200000</td>\n",
       "      <td>0.064516</td>\n",
       "      <td>0.000000</td>\n",
       "      <td>0.140140</td>\n",
       "      <td>0.000801</td>\n",
       "      <td>5.234033e-07</td>\n",
       "      <td>0.980822</td>\n",
       "      <td>...</td>\n",
       "      <td>0.027313</td>\n",
       "      <td>1.0</td>\n",
       "      <td>0.0</td>\n",
       "      <td>0.0</td>\n",
       "      <td>0.0</td>\n",
       "      <td>0.0</td>\n",
       "      <td>1.0</td>\n",
       "      <td>0.0</td>\n",
       "      <td>0.0</td>\n",
       "      <td>0</td>\n",
       "    </tr>\n",
       "    <tr>\n",
       "      <th>4</th>\n",
       "      <td>1.0</td>\n",
       "      <td>0.0</td>\n",
       "      <td>0.001021</td>\n",
       "      <td>0.066667</td>\n",
       "      <td>0.064516</td>\n",
       "      <td>0.000000</td>\n",
       "      <td>0.060060</td>\n",
       "      <td>0.000000</td>\n",
       "      <td>5.234033e-07</td>\n",
       "      <td>0.986301</td>\n",
       "      <td>...</td>\n",
       "      <td>0.150836</td>\n",
       "      <td>1.0</td>\n",
       "      <td>0.0</td>\n",
       "      <td>0.0</td>\n",
       "      <td>0.0</td>\n",
       "      <td>0.0</td>\n",
       "      <td>0.0</td>\n",
       "      <td>1.0</td>\n",
       "      <td>0.0</td>\n",
       "      <td>1</td>\n",
       "    </tr>\n",
       "  </tbody>\n",
       "</table>\n",
       "<p>5 rows × 21 columns</p>\n",
       "</div>"
      ],
      "text/plain": [
       "   Host Response Rate  Host Is Superhost  Host total listings count  \\\n",
       "0                 1.0                0.0                   0.004086   \n",
       "1                 1.0                0.0                   0.001021   \n",
       "2                 1.0                0.0                   0.016343   \n",
       "3                 0.7                0.0                   0.001021   \n",
       "4                 1.0                0.0                   0.001021   \n",
       "\n",
       "   Accommodates  Bathrooms  Bedrooms     Price  Minimum nights  \\\n",
       "0      0.000000   0.064516  0.000000  0.043043        0.000801   \n",
       "1      0.000000   0.064516  0.000000  0.028028        0.000801   \n",
       "2      0.200000   0.193548  0.076923  0.080080        0.001601   \n",
       "3      0.200000   0.064516  0.000000  0.140140        0.000801   \n",
       "4      0.066667   0.064516  0.000000  0.060060        0.000000   \n",
       "\n",
       "   Maximum nights  Availability 365  ...  Reviews per month  Bronx  Brooklyn  \\\n",
       "0    1.350418e-08          0.756164  ...           0.072157    1.0       0.0   \n",
       "1    1.396984e-08          0.945205  ...           0.062780    1.0       0.0   \n",
       "2    1.396984e-08          0.972603  ...           0.156135    1.0       0.0   \n",
       "3    5.234033e-07          0.980822  ...           0.027313    1.0       0.0   \n",
       "4    5.234033e-07          0.986301  ...           0.150836    1.0       0.0   \n",
       "\n",
       "   Manhattan  Queens  Staten Island  Entire home/apt  Private room  \\\n",
       "0        0.0     0.0            0.0              0.0           1.0   \n",
       "1        0.0     0.0            0.0              0.0           1.0   \n",
       "2        0.0     0.0            0.0              0.0           1.0   \n",
       "3        0.0     0.0            0.0              1.0           0.0   \n",
       "4        0.0     0.0            0.0              0.0           1.0   \n",
       "\n",
       "   Shared room  Grade  \n",
       "0          0.0      1  \n",
       "1          0.0      0  \n",
       "2          0.0      1  \n",
       "3          0.0      0  \n",
       "4          0.0      1  \n",
       "\n",
       "[5 rows x 21 columns]"
      ]
     },
     "execution_count": 5,
     "metadata": {},
     "output_type": "execute_result"
    }
   ],
   "source": [
    "data.head()"
   ]
  },
  {
   "cell_type": "markdown",
   "metadata": {},
   "source": [
    "### Data Preparation Part 2\n",
    "\n",
    "Below is table that describes each variable in the dataset. This includes our two predictor variables, Price and Grade. Additionally, all variables are of type float64, except for the int64 Grade.\n",
    "\n",
    "#### Variable Table\n",
    "| Variable | Description |\n",
    "| :-- | :-- |\n",
    "| Host Response Rate | The rate that hosts respond to potential customers. |\n",
    "| Host total listings count | The total number of airbnbs rentals the host owns. |\n",
    "| Accommodates | The number of people this rental can accommodate. |\n",
    "| Bathrooms | The number of bathrooms in this rental. |\n",
    "| Bedrooms | The number of bedrooms in this rental. |\n",
    "| Price | The base price for one night in this rental. |\n",
    "| Minimum nights | The lowest amount of nights this rental can be booked for. |\n",
    "| Maximum nights | The highest amount of nights this rental can be booked for. |\n",
    "| Availability 365 | The proportion of nights in a year that the rental is available. |\n",
    "| Reviews per month | The average number of reviews a rental receives in a month. |\n",
    "| Host Is Superhost | One-hot variable: A \"1\" indicates the rental is operated by a Superhost. |\n",
    "| Bronx | One-hot variable: A \"1\" indicates a Bronx-based rental. |\n",
    "| Brooklyn | One-hot variable: A \"1\" indicates a Brooklyn-based rental. |\n",
    "| Manhattan | One-hot variable: A \"1\" indicates a Manhattan-based rental. |\n",
    "| Queens | One-hot variable: A \"1\" indicates a Queens-based rental. |\n",
    "| Staten Island | One-hot variable: A \"1\" indicates a Staten Island-based rental. |\n",
    "| Entire home/apt | One-hot variable: A \"1\" indicates this rental is an entire home or apartment. |\n",
    "| Private room | One-hot variable: A \"1\" indicates this rental is a private room. |\n",
    "| Shared room | One-hot variable: A \"1\" indicates this rental is a shared room. |\n",
    "| Grade | One-hot variable: A \"1\" indicates this rental has a rating of .9 or more. |"
   ]
  },
  {
   "cell_type": "markdown",
   "metadata": {},
   "source": [
    "### Modeling and Evaluation 1\n",
    "\n",
    "#### Grade\n",
    "To measure a model's performance when predicting Grade classification, we will use an F1 score. We decided on this for a few reasons. First, there isn't a large difference in costs between a false negative and false positive. In the case of a false negative, customers will likely get a rental that exceeds their expectations. For a false positive, customers will have to deal with a worse rental than they might be expecting, but this rental could still has a passing review grade (70+). Additionally, the inbalanced class distribution (67% A's, 33% Non-A's) leads us to use F1 instead of plain accuracy due to F1's strength when dealing with unbalanced classes.\n",
    "\n",
    "#### Price\n",
    "To measure a model's performance when predicting Price, we will use mean absolute percent error (MAPE). This option works well because it preserves the scale of the data (as opposed to squaring the difference), and provides a percentage value that is easier to interpret than a dollar value."
   ]
  },
  {
   "cell_type": "markdown",
   "metadata": {},
   "source": [
    "### Modeling and Evaluation 2\n",
    "\n",
    "#### Grade\n",
    "On top of an 80% train, 20% test split, we will be using stratified 10-fold cross validation with grid search here. While non-stratified CV could also work, our imbalanced dataset (67% A's, 33% Non-A's) could yield folds of data that have very little Non-A's. Using stratification avoids this by holding these proportions constant across folds, leading to better training sets.\n",
    "\n",
    "#### Price\n",
    "On top of an 80% train, 20% test split, we will be using 10-fold cross validation with grid search here. We will not be using stratification because we're not dealing with inbalanced class labels that should be keep consistent. Since our response is continuous, we do not necessarily have to worry about certain outcomes not being selection for each fold.\n",
    "\n",
    "In both cases, grid search helps us determine the best parameters."
   ]
  },
  {
   "cell_type": "markdown",
   "metadata": {},
   "source": [
    "### Modeling and Evaluation 3\n",
    "\n",
    "Create three different classification/regression models for each task (e.g., random forest, KNN, and SVM for task one and the same or different algorithms for task two). Two modeling techniques must be new (but the third could be SVM or logistic regression). Adjust parameters as appropriate to increase generalization performance using your chosen metric. You must investigate different parameters of the algorithms!"
   ]
  },
  {
   "cell_type": "code",
   "execution_count": 6,
   "metadata": {},
   "outputs": [],
   "source": [
    "from sklearn.model_selection import GridSearchCV\n",
    "from sklearn.model_selection import train_test_split\n",
    "from sklearn.metrics import f1_score\n",
    "import time\n",
    "\n",
    "# Split data into train and test\n",
    "train, test = train_test_split(data, test_size=0.2)\n",
    "train_y = train['Grade']\n",
    "train_x = train.drop('Grade', axis=1)\n",
    "test_y = train['Grade']\n",
    "test_x = train.drop('Grade', axis=1)"
   ]
  },
  {
   "cell_type": "markdown",
   "metadata": {},
   "source": [
    "#### Grade : Decision Tree"
   ]
  },
  {
   "cell_type": "code",
   "execution_count": 7,
   "metadata": {},
   "outputs": [
    {
     "name": "stdout",
     "output_type": "stream",
     "text": [
      "F1 Score for Random Forest: 88.48%\n",
      "Time Elapsed: 12.42\n",
      "Best Parameters: {'max_depth': 5, 'min_samples_split': 2, 'splitter': 'best'}\n"
     ]
    }
   ],
   "source": [
    "from sklearn.tree import DecisionTreeClassifier\n",
    "# Make classifier\n",
    "dt_clf = DecisionTreeClassifier()\n",
    "\n",
    "# Parameter Grid\n",
    "parameters = {'max_depth':(5, 10), 'min_samples_split':(2, 5, 10), 'splitter':('best', 'random')}\n",
    "\n",
    "# Make GridSearch - inputting a cv value toggles stratification on\n",
    "dt_cv = GridSearchCV(estimator = dt_clf, param_grid = parameters, cv = 10)\n",
    "\n",
    "# Fit\n",
    "start = time.time()\n",
    "dt_cv.fit(train_x,train_y)\n",
    "end = time.time()\n",
    "\n",
    "# Find best parameters and predict on them\n",
    "best_parameters = dt_cv.best_params_\n",
    "preds = dt_cv.predict(test_x)\n",
    "print(\"F1 Score for Random Forest: \" + str(round(f1_score(test_y, preds)*100,2)) + \"%\")\n",
    "print(\"Time Elapsed: \" + str(round(end-start,2)))\n",
    "print(\"Best Parameters: \" + str(best_parameters))"
   ]
  },
  {
   "cell_type": "markdown",
   "metadata": {},
   "source": [
    "#### Grade : Logistic Regression"
   ]
  },
  {
   "cell_type": "code",
   "execution_count": 8,
   "metadata": {},
   "outputs": [
    {
     "name": "stdout",
     "output_type": "stream",
     "text": [
      "F1 Score for Logistic Regression: 78.5%\n",
      "Time Elapsed: 133.04\n",
      "Best Parameters: {'C': 10, 'solver': 'saga'}\n"
     ]
    }
   ],
   "source": [
    "from sklearn.linear_model import LogisticRegression\n",
    "lr_clf = LogisticRegression(max_iter = 100000)\n",
    "\n",
    "parameters = {'C':(1,10,100), 'solver':('lbfgs','saga')}\n",
    "lr_cv = GridSearchCV(estimator = lr_clf, param_grid = parameters, cv = 10)\n",
    "start = time.time()\n",
    "lr_cv.fit(train_x,train_y)\n",
    "end = time.time()\n",
    "\n",
    "best_parameters = lr_cv.best_params_\n",
    "preds = lr_cv.predict(test_x)\n",
    "print(\"F1 Score for Logistic Regression: \" + str(round(f1_score(test_y, preds)*100,2)) + \"%\")\n",
    "print(\"Time Elapsed: \" + str(round(end-start,2)))\n",
    "print(\"Best Parameters: \" + str(best_parameters))"
   ]
  },
  {
   "cell_type": "markdown",
   "metadata": {},
   "source": [
    "#### Grade : KNN"
   ]
  },
  {
   "cell_type": "code",
   "execution_count": 9,
   "metadata": {},
   "outputs": [
    {
     "name": "stdout",
     "output_type": "stream",
     "text": [
      "F1 Score for KNN: 85.08%\n",
      "Time Elapsed: 250.18\n",
      "Best Parameters: {'algorithm': 'auto', 'n_neighbors': 7}\n"
     ]
    }
   ],
   "source": [
    "from sklearn.neighbors import KNeighborsClassifier\n",
    "knn_clf = KNeighborsClassifier()\n",
    "\n",
    "parameters = {'n_neighbors':(3,5,7), 'algorithm':('auto','kd_tree')}\n",
    "knn_cv = GridSearchCV(estimator = knn_clf, param_grid = parameters, cv = 10)\n",
    "start = time.time()\n",
    "knn_cv.fit(train_x,train_y)\n",
    "end = time.time()\n",
    "\n",
    "best_parameters = knn_cv.best_params_\n",
    "preds = knn_cv.predict(test_x)\n",
    "print(\"F1 Score for KNN: \" + str(round(f1_score(test_y, preds)*100,2)) + \"%\")\n",
    "print(\"Time Elapsed: \" + str(round(end-start,2)))\n",
    "print(\"Best Parameters: \" + str(best_parameters))"
   ]
  },
  {
   "cell_type": "code",
   "execution_count": 10,
   "metadata": {},
   "outputs": [],
   "source": [
    "# Reset Price column\n",
    "data['Price'] = df['Price']\n",
    "\n",
    "# Split data into train and test\n",
    "train, test = train_test_split(data, test_size=0.2)\n",
    "train_y = train['Price']\n",
    "train_x = train.drop('Price', axis=1)\n",
    "test_y = train['Price']\n",
    "test_x = train.drop('Price', axis=1)"
   ]
  },
  {
   "cell_type": "markdown",
   "metadata": {},
   "source": [
    "#### Price : Linear Regression"
   ]
  },
  {
   "cell_type": "code",
   "execution_count": 11,
   "metadata": {},
   "outputs": [
    {
     "name": "stdout",
     "output_type": "stream",
     "text": [
      "Mean Absolute Percent Error for Linear Regression: 39.17%\n",
      "Time Elapsed: 0.68\n",
      "Best Parameters: {'fit_intercept': False}\n"
     ]
    }
   ],
   "source": [
    "from sklearn.linear_model import LinearRegression\n",
    "#from sklearn.metrics import mean_absolute_error\n",
    "linr_clf = LinearRegression()\n",
    "\n",
    "parameters = {'fit_intercept':(True,False)}\n",
    "linr_cv = GridSearchCV(estimator = linr_clf, param_grid = parameters, cv = 10)\n",
    "start = time.time()\n",
    "linr_cv.fit(train_x,train_y)\n",
    "end = time.time()\n",
    "\n",
    "best_parameters = linr_cv.best_params_\n",
    "preds = linr_cv.predict(test_x)\n",
    "check_MAPE = pd.DataFrame()\n",
    "check_MAPE['real'], check_MAPE['preds'] = test_y, preds\n",
    "check_MAPE['diff'] = abs(check_MAPE['preds'] - check_MAPE['real']) / check_MAPE['real']\n",
    "check_MAPE = check_MAPE.replace(np.inf, np.nan)\n",
    "print(\"Mean Absolute Percent Error for Linear Regression: \" + str(round((check_MAPE['diff'].mean())*100,2)) + '%')\n",
    "print(\"Time Elapsed: \" + str(round(end-start,2)))\n",
    "print(\"Best Parameters: \" + str(best_parameters))"
   ]
  },
  {
   "cell_type": "markdown",
   "metadata": {},
   "source": [
    "#### Price : Elastic Net Regression"
   ]
  },
  {
   "cell_type": "code",
   "execution_count": 12,
   "metadata": {},
   "outputs": [
    {
     "name": "stdout",
     "output_type": "stream",
     "text": [
      "Mean Absolute Percent Error for Elastic Net Regression: 41.36%\n",
      "Time Elapsed: 5.82\n",
      "Best Parameters: {'alpha': 0.1, 'l1_ratio': 0.75, 'selection': 'random'}\n"
     ]
    }
   ],
   "source": [
    "from sklearn.linear_model import ElasticNet\n",
    "\n",
    "el_clf = ElasticNet()\n",
    "\n",
    "parameters = {'l1_ratio':(.25,.5,.75),'alpha':(.1,1,10),'selection':('random','cyclic')}\n",
    "el_cv = GridSearchCV(estimator = el_clf, param_grid = parameters, cv = 10)\n",
    "start = time.time()\n",
    "el_cv.fit(train_x,train_y)\n",
    "end = time.time()\n",
    "\n",
    "best_parameters = el_cv.best_params_\n",
    "preds = el_cv.predict(test_x)\n",
    "check_MAPE = pd.DataFrame()\n",
    "check_MAPE['real'], check_MAPE['preds'] = test_y, preds\n",
    "check_MAPE['diff'] = abs(check_MAPE['preds'] - check_MAPE['real']) / check_MAPE['real']\n",
    "check_MAPE = check_MAPE.replace(np.inf, np.nan)\n",
    "print(\"Mean Absolute Percent Error for Elastic Net Regression: \" + str(round((check_MAPE['diff'].mean())*100,2)) + '%')\n",
    "print(\"Time Elapsed: \" + str(round(end-start,2)))\n",
    "print(\"Best Parameters: \" + str(best_parameters))"
   ]
  },
  {
   "cell_type": "markdown",
   "metadata": {},
   "source": [
    "#### Price : Random Forest Regression"
   ]
  },
  {
   "cell_type": "code",
   "execution_count": 13,
   "metadata": {},
   "outputs": [
    {
     "name": "stdout",
     "output_type": "stream",
     "text": [
      "Mean Absolute Percent Error for Random Forest Regression: 67.51%\n",
      "Time Elapsed: 278.97\n",
      "Best Parameters: {'bootstrap': True, 'max_depth': 10}\n"
     ]
    }
   ],
   "source": [
    "from sklearn.ensemble import RandomForestRegressor\n",
    "\n",
    "rf_clf = RandomForestRegressor()\n",
    "\n",
    "parameters = {'max_depth':(5, 10), 'bootstrap':(True, False)}\n",
    "rf_cv = GridSearchCV(estimator = rf_clf, param_grid = parameters, cv = 10)\n",
    "start = time.time()\n",
    "rf_cv.fit(train_x,train_y)\n",
    "end = time.time()\n",
    "\n",
    "best_parameters = rf_cv.best_params_\n",
    "preds = rf_cv.predict(test_x)\n",
    "check_MAPE = pd.DataFrame()\n",
    "check_MAPE['real'], check_MAPE['preds'] = test_y, preds\n",
    "check_MAPE['diff'] = abs(check_MAPE['preds'] - check_MAPE['real']) / check_MAPE['real']\n",
    "check_MAPE = check_MAPE.replace(np.inf, np.nan)\n",
    "print(\"Mean Absolute Percent Error for Random Forest Regression: \" + str(round((1 - check_MAPE['diff'].mean())*100,2)) + '%')\n",
    "print(\"Time Elapsed: \" + str(round(end-start,2)))\n",
    "print(\"Best Parameters: \" + str(best_parameters))"
   ]
  },
  {
   "cell_type": "markdown",
   "metadata": {},
   "source": [
    "### Modeling and Evaluation 4"
   ]
  },
  {
   "cell_type": "markdown",
   "metadata": {},
   "source": [
    "### Modeling and Evaluation 5\n",
    "\n",
    "| Model Name | Predicting | Accuracy Metric | Accuracy Score | Time (s) |\n",
    "| :-- | :-- | :-- | :-: | :-: |\n",
    "| Decision Tree | Grade | F1 Score | 88.48% | 12 |\n",
    "| Logistic Regression | Grade | F1 Score | 78.50% | 133 |\n",
    "| KNN | Grade | F1 Score | 85.08% | 250 |\n",
    "| Linear Regression | Price | MAPE | 39.17% | 1 |\n",
    "| Elastic Net Regression | Price | MAPE | 41.36% | 6 |\n",
    "| Random Forest | Price | MAPE | 67.51% | 279 |\n",
    "\n",
    "*Note the Accuracy Score column: For F1, we want a higher number. For MAPE, we want a lower number.*\n",
    "\n",
    "\n",
    "#### Accuracy\n",
    "\n",
    "For the models predicting Grade classification, the decision tree model is the best performing option by a good margin. To prove this, we have calculated 99% confidence intervals for each model's F1 score and plotted them below.\n",
    "\n",
    "For the Price models, the battle for best accuracy performance is much closer. Again, we calculated 99% confidence intervals for the MAPE and plotted them. From that chart, we know that the linear regression model's interval slightly beats out the elastic net model.\n",
    "\n",
    "To calculate these confidence intervals, we found the variances for each error and applied the 2.576 multiplier to find the upper and lower bounds of each interval."
   ]
  },
  {
   "cell_type": "code",
   "execution_count": 77,
   "metadata": {},
   "outputs": [
    {
     "data": {
      "image/png": "[encoded data removed]",
      "text/plain": [
       "<Figure size 432x288 with 1 Axes>"
      ]
     },
     "metadata": {
      "needs_background": "light"
     },
     "output_type": "display_data"
    },
    {
     "data": {
      "image/png": "[encoded data removed]",
      "text/plain": [
       "<Figure size 432x288 with 1 Axes>"
      ]
     },
     "metadata": {
      "needs_background": "light"
     },
     "output_type": "display_data"
    }
   ],
   "source": [
    "# Calculating 95% Confidence Intervals for Model Pairs\n",
    "import math\n",
    "import matplotlib.pyplot as plt\n",
    "\n",
    "dt_var = ((1 - .8848) * .8848) / len(test_y)\n",
    "lr_var = ((1 - .7850) * .7850) / len(test_y)\n",
    "kn_var = ((1 - .8508) * .8508) / len(test_y)\n",
    "dt_ci = ((.8848) - (2.576*math.sqrt(dt_var)),(.8848) + (2.576*math.sqrt(dt_var)))\n",
    "lr_ci = ((.785) - (2.576*math.sqrt(lr_var)),(.785) + (2.576*math.sqrt(lr_var)))\n",
    "kn_ci = ((.8508) - (2.576*math.sqrt(kn_var)),(.8508) + (2.576*math.sqrt(kn_var)))\n",
    "\n",
    "# reference: https://stackoverflow.com/questions/42919936/hard-coding-confidence-interval-as-whiskers-in-bar-plot\n",
    "errors = [.8848, .785, .8508]\n",
    "cis = [dt_ci,lr_ci,kn_ci]\n",
    "y_r = [errors[i] - cis[i][1] for i in range(len(ci))]\n",
    "plt.bar(range(len(errors)), errors, yerr=y_r, alpha=0.2, align='center')\n",
    "plt.xticks(np.arange(3), ['Decision Tree', 'Log Regression', 'KNN'])\n",
    "plt.ylim([.7, .9])\n",
    "plt.title('Grade Models - 99% Confidence Intervals for F1 Score')\n",
    "plt.show()\n",
    "\n",
    "lr_var = ((1-.3917) * .3917) / len(test_y)\n",
    "en_var = ((1-.4136) * .4136) / len(test_y)\n",
    "rf_var = ((1-.6751) * .6751) / len(test_y)\n",
    "lr_ci = ((.3917) - (2.576*math.sqrt(lr_var)),(.3917) + (2.576*math.sqrt(lr_var)))\n",
    "en_ci = ((.4136) - (2.576*math.sqrt(en_var)),(.4136) + (2.576*math.sqrt(en_var)))\n",
    "rf_ci = ((.6751) - (2.576*math.sqrt(rf_var)),(.6751) + (2.576*math.sqrt(rf_var)))\n",
    "lr_str = \"Lin Reg: \" + str(round(lr_ci[0],3)) + ', ' + str(round(lr_ci[1],3))\n",
    "en_str = \"Ela Net: \" + str(round(en_ci[0],3)) + ', ' + str(round(en_ci[1],3))\n",
    "\n",
    "# reference: https://stackoverflow.com/questions/42919936/hard-coding-confidence-interval-as-whiskers-in-bar-plot\n",
    "errors = [.3917, .4136, .6751]\n",
    "cis = [lr_ci,en_ci,rf_ci]\n",
    "y_r = [errors[i] - cis[i][1] for i in range(len(ci))]\n",
    "plt.bar(range(len(errors)), errors, yerr=y_r, alpha=0.2, align='center')\n",
    "plt.xticks(np.arange(3), ['Linear Reg', 'Elastic Net Reg', 'Random Forest Reg'])\n",
    "plt.ylim([.30, .7])\n",
    "plt.title('Price Models - 99% Confidence Intervals for MAPE')\n",
    "plt.text(-.4, .65, lr_str, fontsize=12)\n",
    "plt.text(-.4, .6, en_str, fontsize=12)\n",
    "plt.show()"
   ]
  },
  {
   "cell_type": "markdown",
   "metadata": {},
   "source": [
    "#### Interpretability\n",
    "\n",
    "Across the board, regression models (especially linear) are typically easier to interpret because the user is given coefficients that are fairly intuitive. Therefore, the decision trees and KNN models are inherently less interpretable from a non-data scientist perspective.\n",
    "\n",
    "#### Time\n",
    "\n",
    "The KNN and Random Forest models took about four minutes each to train. This is vastly more time that the decision tree and linear regression / elastic net regression models, which took a handful of seconds each. However, this time difference is almost negligible if it's trained infrequently."
   ]
  },
  {
   "cell_type": "markdown",
   "metadata": {},
   "source": [
    "### Modeling and Evaluation 6\n",
    "\n",
    "Which attributes from your analysis are most important? Use proper methods discussed in class to evaluate the importance of different attributes. Discuss the results and hypothesize about why certain attributes are more important than others for a given classification task.\n",
    "\n",
    "WE DID SOMETHING VERY SIMILAR IN THE MINILAB. JUST NEED TO DO IT FOR THE BEST PRICE AND GRADE MODEL"
   ]
  },
  {
   "cell_type": "markdown",
   "metadata": {},
   "source": [
    "### Deployment\n",
    "\n",
    "#### End user value\n",
    "When using our models we could figure out a price for the listing that would attract potential renters. With the rising costs of Airbnb's lately, and people turning back to using hotels, the owners of the rentals will want to ensure that their listings are generating revenue and not being ignored due to bad pricing points. This will serve the owner of the property immensely, because having an extra mortgage that is not being subsidized by income from renters can prove to be quite perilous.\n",
    "\n",
    "For the renter, they will have security knowing that the pricing points that the Airbnb units are going for have been reasonably priced and within reason.\n",
    "\n",
    "#### How to deploy this model within the application\n",
    "We feel that once we have a lock on what the pricing point could/should be, the lister of the rental would be able to select a price using a sliding scale(dragging along a line to select a price). Listers of properties could utilize this scale in a manner similar to this:\n",
    "\n",
    "A starting point on one side of the scale (left) where the price is lower so it would greatly appeal to users looking for a value listing.\n",
    "\n",
    "On the other side of the scale (right) a higher price point listed that would garner more profit to the lister at the possible expense of not attracting a tenant. Ultimately it will be up to the lister of the property to select a price point that appeals to potential renters and a price that makes fiscal sense, we are simply giving them a good and believable range to list their property at.\n",
    "\n",
    "If used properly, there could be an equilibrium met where the renter feels they are getting a fair price, and the lister feels that their property is fetching a fair market value.\n",
    "\n",
    "#### What other data needs to be collected\n",
    "Since our model is pretty heavily aimed at price, I think a good data point that would need to be collected would be the neighborghood. The price of the listing would probably be closely correlated to the neighborhood. People will pay more/less to stay at a listing in certain neighborhoods, so our pricing model needs to be looked at in the confines of what neighborhood the listing is in. I.E accurate pricing within each neighborhood.\n",
    "\n",
    "One other big data point I think we should capture is how often listings are actually being used (the % of listings that are being used/the total amount of listings available). New York for example often has weekends where more people are staying in rental properties (Fashion Week, Tennis' US Open, NYC marathon, Super Bowl, etc..). Weekends like this are bound to capture more out of towners seeking temporary housing accomodations. Having an increase in demand will allow listers of properties to be able to charge more money for their listings.\n",
    "\n",
    "#### How frequently should our data be updated\n",
    "Paying attention to real estate is always a very active endeavor. With the nature of real estate being what it is, I feel that our data would need to be updated daily. New listings tend to pop up on Airbnb daily and it is important to note what prices those new properties are being rented out at. Updating the data daily will also allow Airbnb to have a more accurate handle on the demand surges. Having a accurate pricing point during these demand increases will allow the lister to feel that they are not losing out on potential money."
   ]
  },
  {
   "cell_type": "markdown",
   "metadata": {},
   "source": [
    "### Exceptional Work\n",
    "In the above section above we used 10-fold cross validation gridsearch in our models for Grade and Price. Grid Search is used for most paramaters in ML problems. Using gridsearch we are able to automatically run through parameters that hypertune our model without having interference between iteration. Values such as ammenities cannot be calcualted easily, so using this function let us quantify a lot of columns within our data. Being able to put this into our models really strengthened our results in the end which are included up above in the model evaluation for part 3. We feel that our ability to classify the Grade and Price is more robust utilizing a grid search."
   ]
  }
 ],
 "metadata": {
  "kernelspec": {
   "display_name": "Python 3",
   "language": "python",
   "name": "python3"
  },
  "language_info": {
   "codemirror_mode": {
    "name": "ipython",
    "version": 3
   },
   "file_extension": ".py",
   "mimetype": "text/x-python",
   "name": "python",
   "nbconvert_exporter": "python",
   "pygments_lexer": "ipython3",
   "version": "3.8.5"
  }
 },
 "nbformat": 4,
 "nbformat_minor": 4
}
