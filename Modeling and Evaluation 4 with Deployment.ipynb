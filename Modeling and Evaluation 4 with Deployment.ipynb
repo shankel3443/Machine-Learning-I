{
 "cells": [
  {
   "cell_type": "markdown",
   "id": "bea42d04",
   "metadata": {},
   "source": [
    "# Modeling and Evaluation 4\n",
    "\n",
    "The accuracy not being as high was a large area of concern for our group. Unfortunately we did not receive an accuracy % as high as we would like.\n",
    "\n",
    "## K-Means\n",
    "K-Means is typically used to compress complex and larger datasets into partionaed clusters that are simpler. K-Means is using the distance between points\n",
    "\n",
    "Pros:\n",
    "\n",
    "-Simple to use, junior data scientists could use these models well\n",
    "\n",
    "-Easiest to interpret\n",
    "\n",
    "-For larger datasets like ours, we can create a lot of clusters\n",
    "\n",
    "Cons:\n",
    "\n",
    "-If we were to run this model several times, we run the risk of getting different results. K-Means lacks consistency\n",
    "\n",
    "-Predicting the number to use for the k value is difficult\n",
    "\n",
    "## Agglomerative\n",
    "\n",
    "We used this by using linkage distance to merge the pairs of sample data. \n",
    "\n",
    "Pros:\n",
    "\n",
    "-The output is the easiest to interpret. Hirearchical clustering is very simple and sleek.\n",
    "\n",
    "-The dendrogram that we receive from an output gives us a relatively good starting point of how many numbers of classes we can group into\n",
    "\n",
    "Cons:\n",
    "-Cost. Compute costs primarily.\n",
    "-Extreme sensitivity to outliers\n",
    "-Time complexity\n",
    "\n",
    "## DB Scan\n",
    "\n",
    "We use DBscan to calculate the number of data points within each cluster\n",
    "\n",
    "Pros:\n",
    "-No need to specify the number of clusters beforehand\n",
    "-Outliers are not an issue\n",
    "\n",
    "Cons:\n",
    "-Differing densities can throw the model off\n",
    "-Choosing an eps value is not simple\n",
    "-The algorithim starts within a random point so border points are not as easily defined\n"
   ]
  },
  {
   "cell_type": "markdown",
   "id": "739523a6",
   "metadata": {},
   "source": [
    "# Deployment\n",
    "\n",
    "## Did we achieve our goals\n",
    "Unfortunately not. The accuracy did not improve significantly. We wanted to give Airbnb a tool to categorize their listings in an almost definite way. Unfortunately we were not able to accurately cluster the listings in a way that would prove to be a net add to Airbnb's business.\n",
    "\n",
    "## If not, can we reign in the utility of our modeling\n",
    "In a way, this is the intended utility. As a group we realized that clustering might not be the most pertinent issue that Airbnb could seek to gain advantage from. This still serves to be useful as knowing a direction to not head down is a lot better than not having any direction at all. \n",
    "\n",
    "## How useful is our modeling for interested parties, and how we would deploy\n",
    "\n",
    "The models that we have used above give us a roadmap that would allow AirBnb to split their listings into easily categorized groupings. If depoloyed, this model would introduce a feature when it came to listing and locating properties where users on the listing side could tag the features they either want selected or can offer.\n",
    "\n",
    "From a user perspective: Users benefit from the models we have put in place by getting a better experience when it comes to booking rentals. When selecting properties users would be able to select some pictures of features that they would want for their rental property. Examples that come to mind could be \"spacious living room, lofted ceilings, garage style parking\". The examples for this continue, but with this data and the models used, I think the users would greatly benefit from this.\n",
    "\n",
    "## What other data should be collected\n",
    "\n",
    "One other big data point I think we should capture is how often listings are actually being used (the % of listings that are being used/the total amount of listings available). New York for example often has weekends where more people are staying in rental properties (Fashion Week, Tennis' US Open, NYC marathon, Super Bowl, etc..). Weekends like this are bound to capture more out of towners seeking temporary housing accomodations. Having an increase in demand will allow listers of properties to be able to charge more money for their listings.\n",
    "\n",
    "## How often would we need to update our model\n",
    "\n",
    "Paying attention to real estate is always a very active endeavor. With the nature of real estate being what it is, I feel that our data would need to be updated daily. New listings tend to pop up on Airbnb daily and it is important to note what prices those new properties are being rented out at. Updating the data daily will also allow Airbnb to have a more accurate handle on the demand surges. Having a accurate pricing point during these demand increases will allow the lister to feel that they are not losing out on potential money."
   ]
  },
  {
   "cell_type": "code",
   "execution_count": null,
   "id": "076c6afb",
   "metadata": {},
   "outputs": [],
   "source": []
  }
 ],
 "metadata": {
  "kernelspec": {
   "display_name": "Python 3 (ipykernel)",
   "language": "python",
   "name": "python3"
  },
  "language_info": {
   "codemirror_mode": {
    "name": "ipython",
    "version": 3
   },
   "file_extension": ".py",
   "mimetype": "text/x-python",
   "name": "python",
   "nbconvert_exporter": "python",
   "pygments_lexer": "ipython3",
   "version": "3.8.13"
  }
 },
 "nbformat": 4,
 "nbformat_minor": 5
}
