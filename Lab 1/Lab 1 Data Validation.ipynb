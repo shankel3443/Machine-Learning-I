{
 "cells": [
  {
   "cell_type": "markdown",
   "metadata": {},
   "source": [
    "# Data Quality"
   ]
  },
  {
   "cell_type": "code",
   "execution_count": 1,
   "metadata": {},
   "outputs": [
    {
     "name": "stderr",
     "output_type": "stream",
     "text": [
      "C:\\Users\\ericl\\anaconda3\\lib\\site-packages\\IPython\\core\\interactiveshell.py:3146: DtypeWarning: Columns (7,19,24) have mixed types.Specify dtype option on import or set low_memory=False.\n",
      "  has_raised = await self.run_ast_nodes(code_ast.body, cell_name,\n"
     ]
    }
   ],
   "source": [
    "import pandas as pd\n",
    "import matplotlib.pyplot as plt\n",
    "import numpy as np\n",
    "\n",
    "df = pd.read_csv(\"NY_Listings.csv\")"
   ]
  },
  {
   "cell_type": "markdown",
   "metadata": {},
   "source": [
    "### Missing Values\n",
    "\n",
    "First, we need to examine all missing values in the dataset. Below is a complete run-through of missing values and the techniques used to clean up the dataset."
   ]
  },
  {
   "cell_type": "code",
   "execution_count": 2,
   "metadata": {},
   "outputs": [
    {
     "data": {
      "text/plain": [
       "75749"
      ]
     },
     "execution_count": 2,
     "metadata": {},
     "output_type": "execute_result"
    }
   ],
   "source": [
    "len(df)"
   ]
  },
  {
   "cell_type": "markdown",
   "metadata": {},
   "source": [
    "75,749 rows leaves us plenty of wiggle room. Down below, you'll find a summary of null values."
   ]
  },
  {
   "cell_type": "code",
   "execution_count": 3,
   "metadata": {},
   "outputs": [
    {
     "data": {
      "text/plain": [
       "Listing ID                         0\n",
       "Name                              31\n",
       "Host ID                            0\n",
       "Host Name                        232\n",
       "Host Response Rate             45118\n",
       "Host Is Superhost                  0\n",
       "Host total listings count        232\n",
       "Street                         31439\n",
       "City                               0\n",
       "Neighbourhood cleansed             0\n",
       "State                              0\n",
       "Country                            0\n",
       "latitude                           0\n",
       "longitude                          0\n",
       "Property type                      0\n",
       "Room type                          0\n",
       "Accommodates                   31439\n",
       "Bathrooms                      31581\n",
       "Bedrooms                       31439\n",
       "Amenities                      31721\n",
       "Price                              0\n",
       "Minimum nights                     0\n",
       "Maximum nights                 31439\n",
       "Availability 365                   0\n",
       "Calendar last scraped          31439\n",
       "Number of reviews                  0\n",
       "Last Review Date               16683\n",
       "Review Scores Rating               0\n",
       "Review Scores Accuracy             0\n",
       "Review Scores Cleanliness          0\n",
       "Review Scores Checkin              0\n",
       "Review Scores Communication        0\n",
       "Review Scores Location             0\n",
       "Review Scores Value                0\n",
       "Reviews per month                  0\n",
       "dtype: int64"
      ]
     },
     "execution_count": 3,
     "metadata": {},
     "output_type": "execute_result"
    }
   ],
   "source": [
    "df.isnull().sum()"
   ]
  },
  {
   "cell_type": "markdown",
   "metadata": {},
   "source": [
    "#### Removing unwanted columns\n",
    "\n",
    "As you can see above, there's a concerning amount of null values. However, some of these columns are not important for our goals. These include Name, Host Name, Calendar last scraped, and Last Review Date. These columns could provide some information, but overall, I'm okay to exclude them from any work we do - especially since the text columns won't give us anything unless we do some language processing.\n",
    "\n",
    "These columns will be entirely removed from this dataset."
   ]
  },
  {
   "cell_type": "code",
   "execution_count": 4,
   "metadata": {},
   "outputs": [
    {
     "data": {
      "text/plain": [
       "Listing ID                         0\n",
       "Host ID                            0\n",
       "Host Response Rate             45118\n",
       "Host Is Superhost                  0\n",
       "Host total listings count        232\n",
       "Street                         31439\n",
       "City                               0\n",
       "Neighbourhood cleansed             0\n",
       "State                              0\n",
       "Country                            0\n",
       "latitude                           0\n",
       "longitude                          0\n",
       "Property type                      0\n",
       "Room type                          0\n",
       "Accommodates                   31439\n",
       "Bathrooms                      31581\n",
       "Bedrooms                       31439\n",
       "Amenities                      31721\n",
       "Price                              0\n",
       "Minimum nights                     0\n",
       "Maximum nights                 31439\n",
       "Availability 365                   0\n",
       "Number of reviews                  0\n",
       "Review Scores Rating               0\n",
       "Review Scores Accuracy             0\n",
       "Review Scores Cleanliness          0\n",
       "Review Scores Checkin              0\n",
       "Review Scores Communication        0\n",
       "Review Scores Location             0\n",
       "Review Scores Value                0\n",
       "Reviews per month                  0\n",
       "dtype: int64"
      ]
     },
     "execution_count": 4,
     "metadata": {},
     "output_type": "execute_result"
    }
   ],
   "source": [
    "columnsToRemove = [\"Name\", \"Host Name\", \"Calendar last scraped\", \"Last Review Date\"]\n",
    "\n",
    "df2 = df.drop(columns = columnsToRemove, axis=1)\n",
    "\n",
    "df2.isnull().sum()"
   ]
  },
  {
   "cell_type": "markdown",
   "metadata": {},
   "source": [
    "#### Inspecting Rows with Multiple Columns Missing\n",
    "\n",
    "Here, we've narrowed down the nulls a good amount. Now, lets try removing the rows where Street is null. I have a suspicion that all the columns with 31,439 nulls are missing the same rows. We could try to impute these values, but I fear that columns like Accommodates and Bedrooms are too important to guess on."
   ]
  },
  {
   "cell_type": "code",
   "execution_count": 5,
   "metadata": {},
   "outputs": [
    {
     "data": {
      "text/plain": [
       "Listing ID                         0\n",
       "Host ID                            0\n",
       "Host Response Rate             13679\n",
       "Host Is Superhost                  0\n",
       "Host total listings count        232\n",
       "Street                             0\n",
       "City                               0\n",
       "Neighbourhood cleansed             0\n",
       "State                              0\n",
       "Country                            0\n",
       "latitude                           0\n",
       "longitude                          0\n",
       "Property type                      0\n",
       "Room type                          0\n",
       "Accommodates                       0\n",
       "Bathrooms                        142\n",
       "Bedrooms                           0\n",
       "Amenities                        282\n",
       "Price                              0\n",
       "Minimum nights                     0\n",
       "Maximum nights                     0\n",
       "Availability 365                   0\n",
       "Number of reviews                  0\n",
       "Review Scores Rating               0\n",
       "Review Scores Accuracy             0\n",
       "Review Scores Cleanliness          0\n",
       "Review Scores Checkin              0\n",
       "Review Scores Communication        0\n",
       "Review Scores Location             0\n",
       "Review Scores Value                0\n",
       "Reviews per month                  0\n",
       "dtype: int64"
      ]
     },
     "execution_count": 5,
     "metadata": {},
     "output_type": "execute_result"
    }
   ],
   "source": [
    "df3 = df2[df2['Street'].notnull()]\n",
    "\n",
    "df3.isnull().sum()"
   ]
  },
  {
   "cell_type": "code",
   "execution_count": 6,
   "metadata": {},
   "outputs": [
    {
     "data": {
      "text/plain": [
       "44310"
      ]
     },
     "execution_count": 6,
     "metadata": {},
     "output_type": "execute_result"
    }
   ],
   "source": [
    "len(df3)"
   ]
  },
  {
   "cell_type": "markdown",
   "metadata": {},
   "source": [
    "Above, we can see that removing Street eliminated many null values. After more investigation, we found that columns with Null Street values were actually empty rows with only zeroes and nulls. While this is simply a hypothesis, these rows may pertain to rentals that were originally listed on Airbnb by their host, but listing was abandoned before the listing was complete."
   ]
  },
  {
   "cell_type": "markdown",
   "metadata": {},
   "source": [
    "#### Last four columns\n",
    "Now that we're down to just four columns to look at, I'll take them one-by-one."
   ]
  },
  {
   "cell_type": "markdown",
   "metadata": {},
   "source": [
    "##### Bathrooms\n",
    "\n",
    "For Bathrooms, these 142 columns only represent .3% of the dataset. I think if we partition out by room type and property type, we can impute the means."
   ]
  },
  {
   "cell_type": "code",
   "execution_count": 7,
   "metadata": {},
   "outputs": [
    {
     "data": {
      "text/html": [
       "<div>\n",
       "<style scoped>\n",
       "    .dataframe tbody tr th:only-of-type {\n",
       "        vertical-align: middle;\n",
       "    }\n",
       "\n",
       "    .dataframe tbody tr th {\n",
       "        vertical-align: top;\n",
       "    }\n",
       "\n",
       "    .dataframe thead th {\n",
       "        text-align: right;\n",
       "    }\n",
       "</style>\n",
       "<table border=\"1\" class=\"dataframe\">\n",
       "  <thead>\n",
       "    <tr style=\"text-align: right;\">\n",
       "      <th></th>\n",
       "      <th></th>\n",
       "      <th>Bathrooms</th>\n",
       "    </tr>\n",
       "    <tr>\n",
       "      <th>Property type</th>\n",
       "      <th>Room type</th>\n",
       "      <th></th>\n",
       "    </tr>\n",
       "  </thead>\n",
       "  <tbody>\n",
       "    <tr>\n",
       "      <th rowspan=\"3\" valign=\"top\">Apartment</th>\n",
       "      <th>Entire home/apt</th>\n",
       "      <td>1.099828</td>\n",
       "    </tr>\n",
       "    <tr>\n",
       "      <th>Private room</th>\n",
       "      <td>1.096143</td>\n",
       "    </tr>\n",
       "    <tr>\n",
       "      <th>Shared room</th>\n",
       "      <td>1.082711</td>\n",
       "    </tr>\n",
       "    <tr>\n",
       "      <th rowspan=\"3\" valign=\"top\">Bed &amp; Breakfast</th>\n",
       "      <th>Entire home/apt</th>\n",
       "      <td>1.187500</td>\n",
       "    </tr>\n",
       "    <tr>\n",
       "      <th>Private room</th>\n",
       "      <td>1.182692</td>\n",
       "    </tr>\n",
       "    <tr>\n",
       "      <th>Shared room</th>\n",
       "      <td>1.000000</td>\n",
       "    </tr>\n",
       "    <tr>\n",
       "      <th rowspan=\"3\" valign=\"top\">House</th>\n",
       "      <th>Entire home/apt</th>\n",
       "      <td>1.646916</td>\n",
       "    </tr>\n",
       "    <tr>\n",
       "      <th>Private room</th>\n",
       "      <td>1.195214</td>\n",
       "    </tr>\n",
       "    <tr>\n",
       "      <th>Shared room</th>\n",
       "      <td>1.692708</td>\n",
       "    </tr>\n",
       "  </tbody>\n",
       "</table>\n",
       "</div>"
      ],
      "text/plain": [
       "                                 Bathrooms\n",
       "Property type   Room type                 \n",
       "Apartment       Entire home/apt   1.099828\n",
       "                Private room      1.096143\n",
       "                Shared room       1.082711\n",
       "Bed & Breakfast Entire home/apt   1.187500\n",
       "                Private room      1.182692\n",
       "                Shared room       1.000000\n",
       "House           Entire home/apt   1.646916\n",
       "                Private room      1.195214\n",
       "                Shared room       1.692708"
      ]
     },
     "execution_count": 7,
     "metadata": {},
     "output_type": "execute_result"
    }
   ],
   "source": [
    "bathroomsIncluded = df3[df3['Bathrooms'].notnull()]\n",
    "bathroomsMissing = df3[df3['Bathrooms'].isna()]\n",
    "\n",
    "df4 = df3[[\"Property type\", \"Room type\", \"Bathrooms\"]]\n",
    "df4 = df4[(df4[\"Property type\"].isin(bathroomsMissing[\"Property type\"].unique()))]\n",
    "df4.groupby(by=[\"Property type\", \"Room type\"]).mean()"
   ]
  },
  {
   "cell_type": "code",
   "execution_count": 8,
   "metadata": {},
   "outputs": [
    {
     "name": "stderr",
     "output_type": "stream",
     "text": [
      "C:\\Users\\ericl\\anaconda3\\lib\\site-packages\\pandas\\core\\indexing.py:1720: SettingWithCopyWarning: \n",
      "A value is trying to be set on a copy of a slice from a DataFrame.\n",
      "Try using .loc[row_indexer,col_indexer] = value instead\n",
      "\n",
      "See the caveats in the documentation: https://pandas.pydata.org/pandas-docs/stable/user_guide/indexing.html#returning-a-view-versus-a-copy\n",
      "  self._setitem_single_column(loc, value, pi)\n"
     ]
    }
   ],
   "source": [
    "# For these values, I feel comfortable assigning 1 to all groups except for House:Entire and House:Shared.\n",
    "# Those two groups will have 2 imputed.\n",
    "\n",
    "bathroomsOne = bathroomsMissing[(bathroomsMissing['Property type'].isin(['Apartment', 'Bed & Breakfast'])) | \n",
    "                                (bathroomsMissing['Property type'] == 'House') &\n",
    "                                (bathroomsMissing['Room type'] == 'Private room')]\n",
    "\n",
    "bathroomsTwo = bathroomsMissing[(bathroomsMissing['Property type'] == 'House') &\n",
    "                               (bathroomsMissing['Room type'] != 'Private room')]\n",
    "\n",
    "\n",
    "bathroomsOne.loc[:, \"Bathrooms\"] = 1\n",
    "bathroomsTwo.loc[:, \"Bathrooms\"] = 2\n",
    "\n",
    "df5 = pd.concat([bathroomsIncluded, bathroomsOne, bathroomsTwo], ignore_index=True, axis=0)\n",
    "\n",
    "#df5.isnull().sum()"
   ]
  },
  {
   "cell_type": "markdown",
   "metadata": {},
   "source": [
    "##### Amenities\n",
    "\n",
    "Since this column is formatted as a list of values, there isn't an easy process to impute these values. Since this is only .05% of the data, we will just remove these rows."
   ]
  },
  {
   "cell_type": "code",
   "execution_count": 9,
   "metadata": {},
   "outputs": [],
   "source": [
    "df6 = df5[df5['Amenities'].notnull()]\n",
    "#df6.isnull().sum()"
   ]
  },
  {
   "cell_type": "markdown",
   "metadata": {},
   "source": [
    "#### Host Response Rate\n",
    "\n",
    "I think this column is fairly important to predicting rating / price. Therefore, we can't just remove these rows. First, we can check for an overlap of hosts with included and missing values. For those that don't match - we will just impute the median."
   ]
  },
  {
   "cell_type": "code",
   "execution_count": 10,
   "metadata": {},
   "outputs": [
    {
     "data": {
      "text/html": [
       "<div>\n",
       "<style scoped>\n",
       "    .dataframe tbody tr th:only-of-type {\n",
       "        vertical-align: middle;\n",
       "    }\n",
       "\n",
       "    .dataframe tbody tr th {\n",
       "        vertical-align: top;\n",
       "    }\n",
       "\n",
       "    .dataframe thead th {\n",
       "        text-align: right;\n",
       "    }\n",
       "</style>\n",
       "<table border=\"1\" class=\"dataframe\">\n",
       "  <thead>\n",
       "    <tr style=\"text-align: right;\">\n",
       "      <th></th>\n",
       "      <th>Host ID</th>\n",
       "      <th>Host Response Rate_x</th>\n",
       "      <th>Host Response Rate_y</th>\n",
       "    </tr>\n",
       "  </thead>\n",
       "  <tbody>\n",
       "  </tbody>\n",
       "</table>\n",
       "</div>"
      ],
      "text/plain": [
       "Empty DataFrame\n",
       "Columns: [Host ID, Host Response Rate_x, Host Response Rate_y]\n",
       "Index: []"
      ]
     },
     "execution_count": 10,
     "metadata": {},
     "output_type": "execute_result"
    }
   ],
   "source": [
    "responseIncluded = df6[df6['Host Response Rate'].notnull()]\n",
    "responseMissing = df6[df6['Host Response Rate'].isna()]\n",
    "\n",
    "responseIncluded_small = responseIncluded[[\"Host ID\", \"Host Response Rate\"]]\n",
    "responseMissing_small = responseMissing[[\"Host ID\", \"Host Response Rate\"]]\n",
    "\n",
    "responseMatches = pd.merge(left = responseIncluded_small, right = responseMissing_small, on=\"Host ID\", how=\"inner\")\n",
    "\n",
    "responseMatches"
   ]
  },
  {
   "cell_type": "code",
   "execution_count": 11,
   "metadata": {},
   "outputs": [
    {
     "name": "stderr",
     "output_type": "stream",
     "text": [
      "C:\\Users\\ericl\\anaconda3\\lib\\site-packages\\pandas\\core\\indexing.py:1720: SettingWithCopyWarning: \n",
      "A value is trying to be set on a copy of a slice from a DataFrame.\n",
      "Try using .loc[row_indexer,col_indexer] = value instead\n",
      "\n",
      "See the caveats in the documentation: https://pandas.pydata.org/pandas-docs/stable/user_guide/indexing.html#returning-a-view-versus-a-copy\n",
      "  self._setitem_single_column(loc, value, pi)\n"
     ]
    }
   ],
   "source": [
    "responseMissing.loc[:, \"Host Response Rate\"] = responseIncluded[\"Host Response Rate\"].median()\n",
    "\n",
    "df7 = pd.concat([responseIncluded, responseMissing], ignore_index=True, axis=0)\n",
    "\n",
    "#df7.isnull().sum()"
   ]
  },
  {
   "cell_type": "markdown",
   "metadata": {},
   "source": [
    "#### Host total listings count\n",
    "\n",
    "We will handle this column the same way we handled Host Response Rate. Check for matches and impute the mean for those that do not match."
   ]
  },
  {
   "cell_type": "code",
   "execution_count": 12,
   "metadata": {},
   "outputs": [
    {
     "data": {
      "text/html": [
       "<div>\n",
       "<style scoped>\n",
       "    .dataframe tbody tr th:only-of-type {\n",
       "        vertical-align: middle;\n",
       "    }\n",
       "\n",
       "    .dataframe tbody tr th {\n",
       "        vertical-align: top;\n",
       "    }\n",
       "\n",
       "    .dataframe thead th {\n",
       "        text-align: right;\n",
       "    }\n",
       "</style>\n",
       "<table border=\"1\" class=\"dataframe\">\n",
       "  <thead>\n",
       "    <tr style=\"text-align: right;\">\n",
       "      <th></th>\n",
       "      <th>Host ID</th>\n",
       "      <th>Host total listings count_x</th>\n",
       "      <th>Host total listings count_y</th>\n",
       "    </tr>\n",
       "  </thead>\n",
       "  <tbody>\n",
       "  </tbody>\n",
       "</table>\n",
       "</div>"
      ],
      "text/plain": [
       "Empty DataFrame\n",
       "Columns: [Host ID, Host total listings count_x, Host total listings count_y]\n",
       "Index: []"
      ]
     },
     "execution_count": 12,
     "metadata": {},
     "output_type": "execute_result"
    }
   ],
   "source": [
    "listingsIncluded = df7[df7['Host total listings count'].notnull()]\n",
    "listingsMissing = df7[df7['Host total listings count'].isna()]\n",
    "\n",
    "listingsIncluded_small = listingsIncluded[[\"Host ID\", \"Host total listings count\"]]\n",
    "listingsMissing_small = listingsMissing[[\"Host ID\", \"Host total listings count\"]]\n",
    "\n",
    "listingsMatches = pd.merge(left = listingsIncluded_small, right = listingsMissing_small, on=\"Host ID\", how=\"inner\")\n",
    "\n",
    "listingsMatches"
   ]
  },
  {
   "cell_type": "code",
   "execution_count": 13,
   "metadata": {},
   "outputs": [
    {
     "name": "stderr",
     "output_type": "stream",
     "text": [
      "C:\\Users\\ericl\\anaconda3\\lib\\site-packages\\pandas\\core\\indexing.py:1720: SettingWithCopyWarning: \n",
      "A value is trying to be set on a copy of a slice from a DataFrame.\n",
      "Try using .loc[row_indexer,col_indexer] = value instead\n",
      "\n",
      "See the caveats in the documentation: https://pandas.pydata.org/pandas-docs/stable/user_guide/indexing.html#returning-a-view-versus-a-copy\n",
      "  self._setitem_single_column(loc, value, pi)\n"
     ]
    }
   ],
   "source": [
    "listingsMissing.loc[:, \"Host total listings count\"] = listingsIncluded[\"Host total listings count\"].median()\n",
    "\n",
    "df8 = pd.concat([listingsIncluded, listingsMissing], ignore_index=True, axis=0)\n",
    "\n",
    "#df8.isnull().sum()"
   ]
  },
  {
   "cell_type": "code",
   "execution_count": 14,
   "metadata": {},
   "outputs": [
    {
     "name": "stdout",
     "output_type": "stream",
     "text": [
      "Number of rows:  44028\n"
     ]
    },
    {
     "data": {
      "text/plain": [
       "Listing ID                     0\n",
       "Host ID                        0\n",
       "Host Response Rate             0\n",
       "Host Is Superhost              0\n",
       "Host total listings count      0\n",
       "Street                         0\n",
       "City                           0\n",
       "Neighbourhood cleansed         0\n",
       "State                          0\n",
       "Country                        0\n",
       "latitude                       0\n",
       "longitude                      0\n",
       "Property type                  0\n",
       "Room type                      0\n",
       "Accommodates                   0\n",
       "Bathrooms                      0\n",
       "Bedrooms                       0\n",
       "Amenities                      0\n",
       "Price                          0\n",
       "Minimum nights                 0\n",
       "Maximum nights                 0\n",
       "Availability 365               0\n",
       "Number of reviews              0\n",
       "Review Scores Rating           0\n",
       "Review Scores Accuracy         0\n",
       "Review Scores Cleanliness      0\n",
       "Review Scores Checkin          0\n",
       "Review Scores Communication    0\n",
       "Review Scores Location         0\n",
       "Review Scores Value            0\n",
       "Reviews per month              0\n",
       "dtype: int64"
      ]
     },
     "execution_count": 14,
     "metadata": {},
     "output_type": "execute_result"
    }
   ],
   "source": [
    "print(\"Number of rows: \", str(len(df8)))\n",
    "df8.isnull().sum()"
   ]
  },
  {
   "cell_type": "markdown",
   "metadata": {},
   "source": [
    "#### Finalizing Null Values\n",
    "\n",
    "The output above shows that the dataset has no null values anymore and remains at 44,028 rows."
   ]
  },
  {
   "cell_type": "markdown",
   "metadata": {},
   "source": [
    "### Outlier Values\n",
    "\n",
    "To detect outliers, we need to slim down our dataset to columns which would logically have outliers (numerical columns that are not IDs). Then, we need to classify those columns as normal or skewed."
   ]
  },
  {
   "cell_type": "code",
   "execution_count": 15,
   "metadata": {},
   "outputs": [
    {
     "data": {
      "text/plain": [
       "array([[<AxesSubplot:title={'center':'Host Response Rate'}>,\n",
       "        <AxesSubplot:title={'center':'Host total listings count'}>,\n",
       "        <AxesSubplot:title={'center':'Accommodates'}>,\n",
       "        <AxesSubplot:title={'center':'Bathrooms'}>],\n",
       "       [<AxesSubplot:title={'center':'Bedrooms'}>,\n",
       "        <AxesSubplot:title={'center':'Price'}>,\n",
       "        <AxesSubplot:title={'center':'Minimum nights'}>,\n",
       "        <AxesSubplot:title={'center':'Maximum nights'}>],\n",
       "       [<AxesSubplot:title={'center':'Availability 365'}>,\n",
       "        <AxesSubplot:title={'center':'Number of reviews'}>,\n",
       "        <AxesSubplot:title={'center':'Review Scores Rating'}>,\n",
       "        <AxesSubplot:title={'center':'Review Scores Accuracy'}>],\n",
       "       [<AxesSubplot:title={'center':'Review Scores Cleanliness'}>,\n",
       "        <AxesSubplot:title={'center':'Review Scores Checkin'}>,\n",
       "        <AxesSubplot:title={'center':'Review Scores Communication'}>,\n",
       "        <AxesSubplot:title={'center':'Review Scores Location'}>],\n",
       "       [<AxesSubplot:title={'center':'Review Scores Value'}>,\n",
       "        <AxesSubplot:title={'center':'Reviews per month'}>,\n",
       "        <AxesSubplot:>, <AxesSubplot:>]], dtype=object)"
      ]
     },
     "execution_count": 15,
     "metadata": {},
     "output_type": "execute_result"
    },
    {
     "data": {
      "image/png": "[encoded data removed]",
      "text/plain": [
       "<Figure size 1080x720 with 20 Axes>"
      ]
     },
     "metadata": {
      "needs_background": "light"
     },
     "output_type": "display_data"
    }
   ],
   "source": [
    "outlier_df = df8[['Host Response Rate','Host total listings count','Accommodates','Bathrooms', 'Bedrooms', 'Price',\n",
    "            'Minimum nights', 'Maximum nights','Availability 365', 'Number of reviews', 'Review Scores Rating',\n",
    "            'Review Scores Accuracy', 'Review Scores Cleanliness','Review Scores Checkin', 'Review Scores Communication',\n",
    "            'Review Scores Location', 'Review Scores Value', 'Reviews per month']]\n",
    "\n",
    "outlier_df.hist(bins=30, figsize=(15, 10))"
   ]
  },
  {
   "cell_type": "markdown",
   "metadata": {},
   "source": [
    "Looking at the above histograms, we can classify all columns as skewed. Therefore, we will now classify outliers as values outside the range (Q1 - 1.5 * IQR) , (Q3 + 1.5 * IQR)."
   ]
  },
  {
   "cell_type": "code",
   "execution_count": 16,
   "metadata": {},
   "outputs": [
    {
     "data": {
      "text/html": [
       "<div>\n",
       "<style scoped>\n",
       "    .dataframe tbody tr th:only-of-type {\n",
       "        vertical-align: middle;\n",
       "    }\n",
       "\n",
       "    .dataframe tbody tr th {\n",
       "        vertical-align: top;\n",
       "    }\n",
       "\n",
       "    .dataframe thead th {\n",
       "        text-align: right;\n",
       "    }\n",
       "</style>\n",
       "<table border=\"1\" class=\"dataframe\">\n",
       "  <thead>\n",
       "    <tr style=\"text-align: right;\">\n",
       "      <th></th>\n",
       "      <th>Column</th>\n",
       "      <th>Lower</th>\n",
       "      <th>Upper</th>\n",
       "      <th>Maximum</th>\n",
       "      <th>Outlier Count</th>\n",
       "    </tr>\n",
       "  </thead>\n",
       "  <tbody>\n",
       "    <tr>\n",
       "      <th>0</th>\n",
       "      <td>Host Response Rate</td>\n",
       "      <td>1.00000</td>\n",
       "      <td>1.00000</td>\n",
       "      <td>1.00000</td>\n",
       "      <td>7008</td>\n",
       "    </tr>\n",
       "    <tr>\n",
       "      <th>1</th>\n",
       "      <td>Host total listings count</td>\n",
       "      <td>0.00000</td>\n",
       "      <td>3.50000</td>\n",
       "      <td>979.00000</td>\n",
       "      <td>3964</td>\n",
       "    </tr>\n",
       "    <tr>\n",
       "      <th>2</th>\n",
       "      <td>Accommodates</td>\n",
       "      <td>0.00000</td>\n",
       "      <td>7.00000</td>\n",
       "      <td>16.00000</td>\n",
       "      <td>1285</td>\n",
       "    </tr>\n",
       "    <tr>\n",
       "      <th>3</th>\n",
       "      <td>Bathrooms</td>\n",
       "      <td>1.00000</td>\n",
       "      <td>1.00000</td>\n",
       "      <td>15.50000</td>\n",
       "      <td>6121</td>\n",
       "    </tr>\n",
       "    <tr>\n",
       "      <th>4</th>\n",
       "      <td>Bedrooms</td>\n",
       "      <td>1.00000</td>\n",
       "      <td>1.00000</td>\n",
       "      <td>14.00000</td>\n",
       "      <td>7849</td>\n",
       "    </tr>\n",
       "    <tr>\n",
       "      <th>5</th>\n",
       "      <td>Price</td>\n",
       "      <td>0.00000</td>\n",
       "      <td>326.50000</td>\n",
       "      <td>999.00000</td>\n",
       "      <td>2279</td>\n",
       "    </tr>\n",
       "    <tr>\n",
       "      <th>6</th>\n",
       "      <td>Minimum nights</td>\n",
       "      <td>0.00000</td>\n",
       "      <td>8.50000</td>\n",
       "      <td>1250.00000</td>\n",
       "      <td>2875</td>\n",
       "    </tr>\n",
       "    <tr>\n",
       "      <th>7</th>\n",
       "      <td>Maximum nights</td>\n",
       "      <td>0.00000</td>\n",
       "      <td>2769.00000</td>\n",
       "      <td>2147483647.00000</td>\n",
       "      <td>65</td>\n",
       "    </tr>\n",
       "    <tr>\n",
       "      <th>8</th>\n",
       "      <td>Availability 365</td>\n",
       "      <td>0.00000</td>\n",
       "      <td>695.00000</td>\n",
       "      <td>365.00000</td>\n",
       "      <td>0</td>\n",
       "    </tr>\n",
       "    <tr>\n",
       "      <th>9</th>\n",
       "      <td>Number of reviews</td>\n",
       "      <td>0.00000</td>\n",
       "      <td>48.50000</td>\n",
       "      <td>489.00000</td>\n",
       "      <td>5011</td>\n",
       "    </tr>\n",
       "    <tr>\n",
       "      <th>10</th>\n",
       "      <td>Review Scores Rating</td>\n",
       "      <td>50.50000</td>\n",
       "      <td>126.50000</td>\n",
       "      <td>38425.00000</td>\n",
       "      <td>10054</td>\n",
       "    </tr>\n",
       "    <tr>\n",
       "      <th>11</th>\n",
       "      <td>Review Scores Accuracy</td>\n",
       "      <td>5.00000</td>\n",
       "      <td>13.00000</td>\n",
       "      <td>10.00000</td>\n",
       "      <td>10125</td>\n",
       "    </tr>\n",
       "    <tr>\n",
       "      <th>12</th>\n",
       "      <td>Review Scores Cleanliness</td>\n",
       "      <td>2.50000</td>\n",
       "      <td>14.50000</td>\n",
       "      <td>10.00000</td>\n",
       "      <td>10064</td>\n",
       "    </tr>\n",
       "    <tr>\n",
       "      <th>13</th>\n",
       "      <td>Review Scores Checkin</td>\n",
       "      <td>5.00000</td>\n",
       "      <td>13.00000</td>\n",
       "      <td>10.00000</td>\n",
       "      <td>10167</td>\n",
       "    </tr>\n",
       "    <tr>\n",
       "      <th>14</th>\n",
       "      <td>Review Scores Communication</td>\n",
       "      <td>5.00000</td>\n",
       "      <td>13.00000</td>\n",
       "      <td>10.00000</td>\n",
       "      <td>10062</td>\n",
       "    </tr>\n",
       "    <tr>\n",
       "      <th>15</th>\n",
       "      <td>Review Scores Location</td>\n",
       "      <td>5.00000</td>\n",
       "      <td>13.00000</td>\n",
       "      <td>10.00000</td>\n",
       "      <td>10150</td>\n",
       "    </tr>\n",
       "    <tr>\n",
       "      <th>16</th>\n",
       "      <td>Review Scores Value</td>\n",
       "      <td>5.00000</td>\n",
       "      <td>13.00000</td>\n",
       "      <td>10.00000</td>\n",
       "      <td>10235</td>\n",
       "    </tr>\n",
       "    <tr>\n",
       "      <th>17</th>\n",
       "      <td>Reviews per month</td>\n",
       "      <td>0.00000</td>\n",
       "      <td>4.13500</td>\n",
       "      <td>24.53000</td>\n",
       "      <td>2456</td>\n",
       "    </tr>\n",
       "  </tbody>\n",
       "</table>\n",
       "</div>"
      ],
      "text/plain": [
       "                         Column    Lower      Upper          Maximum  \\\n",
       "0            Host Response Rate  1.00000    1.00000          1.00000   \n",
       "1     Host total listings count  0.00000    3.50000        979.00000   \n",
       "2                  Accommodates  0.00000    7.00000         16.00000   \n",
       "3                     Bathrooms  1.00000    1.00000         15.50000   \n",
       "4                      Bedrooms  1.00000    1.00000         14.00000   \n",
       "5                         Price  0.00000  326.50000        999.00000   \n",
       "6                Minimum nights  0.00000    8.50000       1250.00000   \n",
       "7                Maximum nights  0.00000 2769.00000 2147483647.00000   \n",
       "8              Availability 365  0.00000  695.00000        365.00000   \n",
       "9             Number of reviews  0.00000   48.50000        489.00000   \n",
       "10         Review Scores Rating 50.50000  126.50000      38425.00000   \n",
       "11       Review Scores Accuracy  5.00000   13.00000         10.00000   \n",
       "12    Review Scores Cleanliness  2.50000   14.50000         10.00000   \n",
       "13        Review Scores Checkin  5.00000   13.00000         10.00000   \n",
       "14  Review Scores Communication  5.00000   13.00000         10.00000   \n",
       "15       Review Scores Location  5.00000   13.00000         10.00000   \n",
       "16          Review Scores Value  5.00000   13.00000         10.00000   \n",
       "17            Reviews per month  0.00000    4.13500         24.53000   \n",
       "\n",
       "    Outlier Count  \n",
       "0            7008  \n",
       "1            3964  \n",
       "2            1285  \n",
       "3            6121  \n",
       "4            7849  \n",
       "5            2279  \n",
       "6            2875  \n",
       "7              65  \n",
       "8               0  \n",
       "9            5011  \n",
       "10          10054  \n",
       "11          10125  \n",
       "12          10064  \n",
       "13          10167  \n",
       "14          10062  \n",
       "15          10150  \n",
       "16          10235  \n",
       "17           2456  "
      ]
     },
     "execution_count": 16,
     "metadata": {},
     "output_type": "execute_result"
    }
   ],
   "source": [
    "lower_bounds = []\n",
    "upper_bounds = []\n",
    "maximums = []\n",
    "columns = outlier_df.columns\n",
    "outlier_count = []\n",
    "\n",
    "for col in outlier_df.columns:\n",
    "    Q3 = np.quantile(outlier_df[col], 0.75)\n",
    "    Q1 = np.quantile(outlier_df[col], 0.25)\n",
    "    Max = max(outlier_df[col])\n",
    "    IQR = Q3 - Q1\n",
    "    lower_range = Q1 - 1.5 * IQR\n",
    "    \n",
    "    if lower_range < 0:\n",
    "        lower_range = 0\n",
    "    \n",
    "    upper_range = Q3 + 1.5 * IQR\n",
    "    \n",
    "    outliers = len(outlier_df[(outlier_df[col] > upper_range) | (outlier_df[col] < lower_range)])\n",
    "    \n",
    "    lower_bounds.append(lower_range)\n",
    "    upper_bounds.append(upper_range)\n",
    "    maximums.append(Max)\n",
    "    outlier_count.append(outliers)\n",
    "    \n",
    "bounds_df = pd.DataFrame(list(zip(columns, lower_bounds, upper_bounds, maximums, outlier_count)), \n",
    "                         columns = [\"Column\",\"Lower\",\"Upper\", \"Maximum\", \"Outlier Count\"])\n",
    "\n",
    "pd.options.display.float_format = '{:.5f}'.format\n",
    "\n",
    "bounds_df"
   ]
  },
  {
   "cell_type": "markdown",
   "metadata": {},
   "source": [
    "#### Column-Specific Outlier Handling\n",
    "\n",
    "Now we have the lower and upper bounds of our outlier ranges. However, some columns might have outliers - but they're valid data points. Let's take them one by one.\n",
    "\n",
    "Accommodates: A maximum of 16 is certainly understandale and could very realistically be true. Although some of these rentals that claim to accommodate 16 people are oddly small, that value of 16 still isn't outlandish. Therefore, we'll keep those in.\n",
    "\n",
    "Bathrooms: Although the maximum of 15.5 is large, that Airbnb has 14 bedrooms. Therefore, it is likely this is just a very large rental.\n",
    "\n",
    "Bedrooms: The rental with 14 bathrooms is the same one discussed immediately above. Therefore, this value checks out.\n",
    "\n",
    "Price: Logically, a maximum of $999 makes sense. And since we don't quite have a way to validate or invalidate these prices, we will leave them in.\n",
    "\n",
    "Minimum nights: The ~3000 rows with a minimum nights value over 8.5 is quite daunting. It is likely that some of the higher values (above 50) are mistakes, as Airbnbs with a minimum night stay of 50 nights is unheard of. Therefore, we will cap the maximum value for this column at 10.\n",
    "\n",
    "Maximum nights: Similar to minimum nights, it is very likely that these higher values are mistakes. Since Airbnbs do allow very long stays, we will cap the maximum at 365.\n",
    "\n",
    "Availability 365: The logical maximum for this column is 365. This is the maximum for this column, so these values are valid.\n",
    "\n",
    "Number of reviews: The upper bound here of ~50 reviews is fairly low. In fact, the maximum of 489 reviews isn't outlandish either. Therefore, we can't classify any of these values as mistakes, so these values will remain.\n",
    "\n",
    "Review Scores Accuracy - Review Scores Value: The maximum here (according to the data dictionary) is 10. Therefore, these columns are valid.\n",
    "\n",
    "Reviews per month: While the maximum of 24.53 is impressive, it cannot be ruled out. Therefore, we will keep those values."
   ]
  },
  {
   "cell_type": "code",
   "execution_count": 17,
   "metadata": {},
   "outputs": [
    {
     "data": {
      "text/plain": [
       "1.00000    37020\n",
       "Name: Host Response Rate, dtype: int64"
      ]
     },
     "execution_count": 17,
     "metadata": {},
     "output_type": "execute_result"
    }
   ],
   "source": [
    "# Host Response Rate\n",
    "\n",
    "# The logical maximum for this value is 1. However, the \"outlier\" values are actually 1.0, as seen below.\n",
    "# Therefore, there are no valid outliers in this column.\n",
    "\n",
    "temp_df = df8[df8['Host Response Rate'] >= 1]\n",
    "\n",
    "temp_df['Host Response Rate'].value_counts()"
   ]
  },
  {
   "cell_type": "code",
   "execution_count": 18,
   "metadata": {},
   "outputs": [
    {
     "data": {
      "text/plain": [
       "array([  4.,  16.,   5.,   6.,  14.,  12.,   8.,   7., 149.,  15.,  10.,\n",
       "         9.,  11.,  22.,  47.,  13.,  28.,  17.,  23.,  19.,  20.,  31.,\n",
       "       296., 236.,  24.,  33.,  64., 113.,  39.,  54.,  42.,  94., 218.,\n",
       "        27., 648.,  18.,  38.,  56.,  49., 316., 979.,  35., 248.,  25.,\n",
       "       258.,  36.,  21.,  83.,  52., 159.,  85.,  41.])"
      ]
     },
     "execution_count": 18,
     "metadata": {},
     "output_type": "execute_result"
    }
   ],
   "source": [
    "# Host total listings count\n",
    "\n",
    "# Here, we can see that there are values in the 100's. However, we do not know if some of these listings being counted are\n",
    "# owned by this host in other areas. Therefore, this column is difficult to separate into outlier status.\n",
    "\n",
    "temp_df = df8[df8['Host total listings count'] > 3.50000]\n",
    "\n",
    "temp_df['Host total listings count'].unique()"
   ]
  },
  {
   "cell_type": "code",
   "execution_count": 19,
   "metadata": {},
   "outputs": [
    {
     "data": {
      "text/plain": [
       "38425    3\n",
       "Name: Review Scores Rating, dtype: int64"
      ]
     },
     "execution_count": 19,
     "metadata": {},
     "output_type": "execute_result"
    }
   ],
   "source": [
    "# Review Scores Rating\n",
    "\n",
    "# The maximum here (according to the data dictionary) is 100. Those that are above this threshold are wildy so, having\n",
    "# three occurrences of 38,425. These are likely mistakes, so these rows will be removed.\n",
    "\n",
    "temp_df = df8[df8['Review Scores Rating'] > 100]\n",
    "\n",
    "temp_df['Review Scores Rating'].value_counts()"
   ]
  },
  {
   "cell_type": "markdown",
   "metadata": {},
   "source": [
    "From the research above, we came away with a few transformations to make:\n",
    "    1. Cap minimum nights at 10.\n",
    "    2. Cap maximum nights at 365.\n",
    "    3. Remove three rows with review scores rating above 100"
   ]
  },
  {
   "cell_type": "code",
   "execution_count": 20,
   "metadata": {},
   "outputs": [
    {
     "name": "stdout",
     "output_type": "stream",
     "text": [
      "(44028, 31)\n",
      "(44025, 31)\n"
     ]
    }
   ],
   "source": [
    "df8.clip(upper=pd.Series({'Minimum nights': 10, 'Maximum nights': 365}), axis=1)\n",
    "print(df8.shape)\n",
    "df9 = df8[df8['Review Scores Rating'] <= 100]\n",
    "print(df9.shape)"
   ]
  },
  {
   "cell_type": "markdown",
   "metadata": {},
   "source": [
    "### Duplicate Values\n",
    "\n",
    "Almost all of the columns in this dataset would logically have duplicate values. The only column that should not have any duplicate values is Listing ID. Therefore, we will compare the length of the dataset with the amount of unique Listing IDs."
   ]
  },
  {
   "cell_type": "code",
   "execution_count": 21,
   "metadata": {},
   "outputs": [
    {
     "name": "stdout",
     "output_type": "stream",
     "text": [
      "Number of observations:  44025\n",
      "Number of unique Listing ID's:  44025\n"
     ]
    }
   ],
   "source": [
    "print(\"Number of observations: \", str(len(df9)))\n",
    "print(\"Number of unique Listing ID's: \", str(len(df9['Listing ID'].unique())))"
   ]
  },
  {
   "cell_type": "code",
   "execution_count": 22,
   "metadata": {},
   "outputs": [],
   "source": [
    "df9.to_csv(r\"C:\\Users\\ericl\\OneDrive\\Desktop\\SMU\\NY_Listings_Validated.csv\")"
   ]
  }
 ],
 "metadata": {
  "kernelspec": {
   "display_name": "Python 3",
   "language": "python",
   "name": "python3"
  },
  "language_info": {
   "codemirror_mode": {
    "name": "ipython",
    "version": 3
   },
   "file_extension": ".py",
   "mimetype": "text/x-python",
   "name": "python",
   "nbconvert_exporter": "python",
   "pygments_lexer": "ipython3",
   "version": "3.8.5"
  }
 },
 "nbformat": 4,
 "nbformat_minor": 4
}
